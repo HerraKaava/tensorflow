{
  "nbformat": 4,
  "nbformat_minor": 0,
  "metadata": {
    "colab": {
      "provenance": [],
      "gpuType": "T4",
      "authorship_tag": "ABX9TyOG/Ji+4lrLt8VkF/oVmhg/",
      "include_colab_link": true
    },
    "kernelspec": {
      "name": "python3",
      "display_name": "Python 3"
    },
    "language_info": {
      "name": "python"
    },
    "accelerator": "GPU"
  },
  "cells": [
    {
      "cell_type": "markdown",
      "metadata": {
        "id": "view-in-github",
        "colab_type": "text"
      },
      "source": [
        "<a href=\"https://colab.research.google.com/github/HerraKaava/tensorflow/blob/main/tensorflow_fundamentals.ipynb\" target=\"_parent\"><img src=\"https://colab.research.google.com/assets/colab-badge.svg\" alt=\"Open In Colab\"/></a>"
      ]
    },
    {
      "cell_type": "markdown",
      "source": [
        "<h3 align=\"left\">Workflow</h3>\n",
        "\n",
        "In this notebook, we're going to cover some of the most fundamental concepts of tensors using TensorFlow\n",
        "\n",
        "More specifically, we're going to cover:\n",
        "\n",
        "* Introduction to tensors\n",
        "* Getting information from tensors\n",
        "* Manipulating tensors\n",
        "* Tensors & NumPy\n",
        "* Using @tf.function (a way to speed up your regular Python functions)\n",
        "* Using GPUs with TensorFlow (or TPUs)"
      ],
      "metadata": {
        "id": "Kt65jOQULAw6"
      }
    },
    {
      "cell_type": "code",
      "source": [
        "import tensorflow as tf\n",
        "import tensorflow_probability as tfp\n",
        "import numpy as np"
      ],
      "metadata": {
        "id": "HVPIbqVn4TgY"
      },
      "execution_count": 2,
      "outputs": []
    },
    {
      "cell_type": "code",
      "source": [
        "print(tf.__version__)"
      ],
      "metadata": {
        "colab": {
          "base_uri": "https://localhost:8080/"
        },
        "id": "3sF26_KtrKDf",
        "outputId": "ed4779b1-252f-41ec-900b-57ebce547a28"
      },
      "execution_count": 3,
      "outputs": [
        {
          "output_type": "stream",
          "name": "stdout",
          "text": [
            "2.15.0\n"
          ]
        }
      ]
    },
    {
      "cell_type": "markdown",
      "source": [
        "<br>"
      ],
      "metadata": {
        "id": "IIgCUzld4Ti9"
      }
    },
    {
      "cell_type": "markdown",
      "source": [
        "<h1 align\"center\"=>Introduction to Tensors</h1>"
      ],
      "metadata": {
        "id": "zbcOYXZWQTOv"
      }
    },
    {
      "cell_type": "markdown",
      "source": [
        "<h3>Creating tensors with tf.constant()</h3>"
      ],
      "metadata": {
        "id": "xx7d4geGWB_S"
      }
    },
    {
      "cell_type": "code",
      "source": [
        "scalar = tf.constant(7)\n",
        "scalar"
      ],
      "metadata": {
        "colab": {
          "base_uri": "https://localhost:8080/"
        },
        "id": "hN4AB6qfWKcs",
        "outputId": "aeb5f1c9-de18-4fc7-f1f5-20075f27ad10"
      },
      "execution_count": 4,
      "outputs": [
        {
          "output_type": "execute_result",
          "data": {
            "text/plain": [
              "<tf.Tensor: shape=(), dtype=int32, numpy=7>"
            ]
          },
          "metadata": {},
          "execution_count": 4
        }
      ]
    },
    {
      "cell_type": "code",
      "source": [
        "# Check the number of dimensions of a tensor\n",
        "\n",
        "scalar.ndim"
      ],
      "metadata": {
        "colab": {
          "base_uri": "https://localhost:8080/"
        },
        "id": "4ANzhe3zXhgD",
        "outputId": "fba597c4-74f1-4d65-ea67-0106e73ef6ed"
      },
      "execution_count": 5,
      "outputs": [
        {
          "output_type": "execute_result",
          "data": {
            "text/plain": [
              "0"
            ]
          },
          "metadata": {},
          "execution_count": 5
        }
      ]
    },
    {
      "cell_type": "code",
      "source": [
        "# Create a vector\n",
        "\n",
        "vector = tf.constant([10, 10])\n",
        "vector"
      ],
      "metadata": {
        "colab": {
          "base_uri": "https://localhost:8080/"
        },
        "id": "b7LA1Aj1Xkq-",
        "outputId": "2dbcdc9d-2cd9-4b8f-818d-fe2a9566534c"
      },
      "execution_count": 6,
      "outputs": [
        {
          "output_type": "execute_result",
          "data": {
            "text/plain": [
              "<tf.Tensor: shape=(2,), dtype=int32, numpy=array([10, 10], dtype=int32)>"
            ]
          },
          "metadata": {},
          "execution_count": 6
        }
      ]
    },
    {
      "cell_type": "code",
      "source": [
        "# Check the dimension of our vector\n",
        "\n",
        "vector.ndim"
      ],
      "metadata": {
        "colab": {
          "base_uri": "https://localhost:8080/"
        },
        "id": "8xR9kS5dXktg",
        "outputId": "da2cea82-c1ca-44e2-e3a3-fcf3595fc7a0"
      },
      "execution_count": 7,
      "outputs": [
        {
          "output_type": "execute_result",
          "data": {
            "text/plain": [
              "1"
            ]
          },
          "metadata": {},
          "execution_count": 7
        }
      ]
    },
    {
      "cell_type": "code",
      "source": [
        "# Create a matrix\n",
        "\n",
        "matrix = tf.constant([[10, 7],\n",
        "                      [7, 10]])\n",
        "matrix"
      ],
      "metadata": {
        "colab": {
          "base_uri": "https://localhost:8080/"
        },
        "id": "h3aFEfFvXkwk",
        "outputId": "970eb873-e955-4abc-f835-2d7607a13368"
      },
      "execution_count": 8,
      "outputs": [
        {
          "output_type": "execute_result",
          "data": {
            "text/plain": [
              "<tf.Tensor: shape=(2, 2), dtype=int32, numpy=\n",
              "array([[10,  7],\n",
              "       [ 7, 10]], dtype=int32)>"
            ]
          },
          "metadata": {},
          "execution_count": 8
        }
      ]
    },
    {
      "cell_type": "code",
      "source": [
        "matrix.ndim"
      ],
      "metadata": {
        "colab": {
          "base_uri": "https://localhost:8080/"
        },
        "id": "fTTwCTIPX6Sb",
        "outputId": "65f1f1d1-a333-48ad-c116-1b5f51a12428"
      },
      "execution_count": 9,
      "outputs": [
        {
          "output_type": "execute_result",
          "data": {
            "text/plain": [
              "2"
            ]
          },
          "metadata": {},
          "execution_count": 9
        }
      ]
    },
    {
      "cell_type": "code",
      "source": [
        "# Let's create another matrix with flaot16 dtype\n",
        "\n",
        "matrix2 = tf.constant([[10., 7.],\n",
        "                       [3., 2.],\n",
        "                       [8., 9.]],\n",
        "                      dtype=tf.float16)\n",
        "matrix2"
      ],
      "metadata": {
        "colab": {
          "base_uri": "https://localhost:8080/"
        },
        "id": "zYbJ7fRDX6Uh",
        "outputId": "efa3259d-a15c-4ead-88b0-4ee35b480a3d"
      },
      "execution_count": 10,
      "outputs": [
        {
          "output_type": "execute_result",
          "data": {
            "text/plain": [
              "<tf.Tensor: shape=(3, 2), dtype=float16, numpy=\n",
              "array([[10.,  7.],\n",
              "       [ 3.,  2.],\n",
              "       [ 8.,  9.]], dtype=float16)>"
            ]
          },
          "metadata": {},
          "execution_count": 10
        }
      ]
    },
    {
      "cell_type": "markdown",
      "source": [
        "* By default, dtype with tf.constant() is int32 (32-bit precision).\n",
        "* The higher the number of precision, the more exact these numbers are stored on your computer.\n",
        "* So float16 < float32 for the same number n.\n",
        "* This also means that the lower the precision, the less space it takes to store it on your computer."
      ],
      "metadata": {
        "id": "OU_O27GyZkZm"
      }
    },
    {
      "cell_type": "code",
      "source": [
        "matrix2.ndim"
      ],
      "metadata": {
        "colab": {
          "base_uri": "https://localhost:8080/"
        },
        "id": "uVHgIq2lX6W3",
        "outputId": "85cbe23d-4b38-40fb-c596-de1fcb792c25"
      },
      "execution_count": 11,
      "outputs": [
        {
          "output_type": "execute_result",
          "data": {
            "text/plain": [
              "2"
            ]
          },
          "metadata": {},
          "execution_count": 11
        }
      ]
    },
    {
      "cell_type": "code",
      "source": [
        "# Let's create a tensor (ndim > 2)\n",
        "\n",
        "tensor = tf.constant([[[1, 2, 3],\n",
        "                       [4, 5, 6]],\n",
        "                     [[7, 8, 9],\n",
        "                      [10, 11, 12]]])\n",
        "tensor"
      ],
      "metadata": {
        "colab": {
          "base_uri": "https://localhost:8080/"
        },
        "id": "EpxsPVFFX6ZM",
        "outputId": "36562710-5b4d-4e63-f8ae-0f7c03dc126a"
      },
      "execution_count": 12,
      "outputs": [
        {
          "output_type": "execute_result",
          "data": {
            "text/plain": [
              "<tf.Tensor: shape=(2, 2, 3), dtype=int32, numpy=\n",
              "array([[[ 1,  2,  3],\n",
              "        [ 4,  5,  6]],\n",
              "\n",
              "       [[ 7,  8,  9],\n",
              "        [10, 11, 12]]], dtype=int32)>"
            ]
          },
          "metadata": {},
          "execution_count": 12
        }
      ]
    },
    {
      "cell_type": "code",
      "source": [
        "tensor.ndim"
      ],
      "metadata": {
        "colab": {
          "base_uri": "https://localhost:8080/"
        },
        "id": "bI55lqBdX6bZ",
        "outputId": "32c86aec-f544-4c82-d96e-e316b2d7b650"
      },
      "execution_count": 13,
      "outputs": [
        {
          "output_type": "execute_result",
          "data": {
            "text/plain": [
              "3"
            ]
          },
          "metadata": {},
          "execution_count": 13
        }
      ]
    },
    {
      "cell_type": "markdown",
      "source": [
        "* The number of elements in the shape object correspond to the number of dimensions in a tensor.\n",
        "* Notice that the dimensions of a tensor are affected by where you place the square brackets."
      ],
      "metadata": {
        "id": "d6BviCxYbS2O"
      }
    },
    {
      "cell_type": "markdown",
      "source": [
        "What we've created so far:\n",
        "\n",
        "* scalar: a single number\n",
        "* vector: a number with direction (e.g., wind speed and direction)\n",
        "* matrix: a 2-dimensional array of numbers\n",
        "* tensor: an n-dimensional array of numebrs\n"
      ],
      "metadata": {
        "id": "iXDu_XkMbhDl"
      }
    },
    {
      "cell_type": "markdown",
      "source": [
        "Notice that\n",
        "\n",
        "* 0-dimensional tensor is a scalar\n",
        "* 1-dimensional tensor is a vector\n",
        "* 2-dimensional tensor is a matrix"
      ],
      "metadata": {
        "id": "mfIWAis_b3tM"
      }
    },
    {
      "cell_type": "markdown",
      "source": [
        "<br>"
      ],
      "metadata": {
        "id": "YjUzy0qpcA7L"
      }
    },
    {
      "cell_type": "markdown",
      "source": [
        "<h3>Creating tensors with tf.Variable()</h3>"
      ],
      "metadata": {
        "id": "0YJooxeBcA-W"
      }
    },
    {
      "cell_type": "code",
      "source": [
        "changeable_tensor = tf.Variable([10, 7])\n",
        "unchangeable_tensor = tf.constant([10, 7])"
      ],
      "metadata": {
        "id": "XL4gMyorcKl5"
      },
      "execution_count": 14,
      "outputs": []
    },
    {
      "cell_type": "code",
      "source": [
        "# Let's try to change one of the elements in our changeable tensor\n",
        "\n",
        "changeable_tensor[0].assign(7)"
      ],
      "metadata": {
        "colab": {
          "base_uri": "https://localhost:8080/"
        },
        "id": "wFv9GsIUcNUZ",
        "outputId": "3628c007-40f1-4a63-927a-bbfd62bf1b97"
      },
      "execution_count": 15,
      "outputs": [
        {
          "output_type": "execute_result",
          "data": {
            "text/plain": [
              "<tf.Variable 'UnreadVariable' shape=(2,) dtype=int32, numpy=array([7, 7], dtype=int32)>"
            ]
          },
          "metadata": {},
          "execution_count": 15
        }
      ]
    },
    {
      "cell_type": "markdown",
      "source": [
        "* Notice that *tf.variable()* objects are **mutable**.\n",
        "* In Python, an object is considered mutable, if its value can be changed after creating it.\n",
        "* Notice that the assign() function assigns values in-place."
      ],
      "metadata": {
        "id": "r9iBEvVDcaIz"
      }
    },
    {
      "cell_type": "code",
      "source": [
        "# Uncomment and run to see the error message\n",
        "\n",
        "# unchangeable_tensor[0].assign(7)"
      ],
      "metadata": {
        "id": "QM-zV8qIc_HE"
      },
      "execution_count": 16,
      "outputs": []
    },
    {
      "cell_type": "markdown",
      "source": [
        "* AttributeError: 'tensorflow.python.framework.ops.EagerTensor' object has no attribute 'assign'\n",
        "* This is because *tf.constant()* objects are **immutable**.\n",
        "* In Python, an object is considered immutable, if its value cannot be changed after it has been created."
      ],
      "metadata": {
        "id": "73s_x2y_dHks"
      }
    },
    {
      "cell_type": "markdown",
      "source": [
        "**NOTE**\n",
        "\n",
        "* Rarely in practice you'll need to decide whether to use *tf.constant()* or *tf.variable()* to create tensors, as TensorFlow does this for you."
      ],
      "metadata": {
        "id": "vC_rU6-xdV3O"
      }
    },
    {
      "cell_type": "markdown",
      "source": [
        "<br>"
      ],
      "metadata": {
        "id": "Coiys47NdgrH"
      }
    },
    {
      "cell_type": "markdown",
      "source": [
        "<h3>Creating random tensors</h3>"
      ],
      "metadata": {
        "id": "ISsk9T--dg0z"
      }
    },
    {
      "cell_type": "markdown",
      "source": [
        "* Random tensors are tensors of some arbitrary size with random numbers."
      ],
      "metadata": {
        "id": "hex4oW_Adofs"
      }
    },
    {
      "cell_type": "code",
      "source": [
        "# Initialize a new random number generator using the seed value 42.\n",
        "# This part does not initialize any tensor values.\n",
        "# Here we only set up a generator that can be used to create random values\n",
        "\n",
        "rng = tf.random.Generator.from_seed(42)"
      ],
      "metadata": {
        "id": "9OsMFNtndzrF"
      },
      "execution_count": 17,
      "outputs": []
    },
    {
      "cell_type": "code",
      "source": [
        "# Assign random data from a standard normal distribution into the rng object\n",
        "\n",
        "rng = rng.normal(shape=(3,2))"
      ],
      "metadata": {
        "id": "BhAlMFHreJ8q"
      },
      "execution_count": 18,
      "outputs": []
    },
    {
      "cell_type": "code",
      "source": [
        "rng"
      ],
      "metadata": {
        "colab": {
          "base_uri": "https://localhost:8080/"
        },
        "id": "YtHoxsPTeFL6",
        "outputId": "8abe68c9-901a-44f1-db6c-fd49f5ea8902"
      },
      "execution_count": 19,
      "outputs": [
        {
          "output_type": "execute_result",
          "data": {
            "text/plain": [
              "<tf.Tensor: shape=(3, 2), dtype=float32, numpy=\n",
              "array([[-0.7565803 , -0.06854702],\n",
              "       [ 0.07595026, -1.2573844 ],\n",
              "       [-0.23193765, -1.8107855 ]], dtype=float32)>"
            ]
          },
          "metadata": {},
          "execution_count": 19
        }
      ]
    },
    {
      "cell_type": "code",
      "source": [
        "# Shuffle the order of elements in a tensor\n",
        "\n",
        "arr = tf.constant([[10,7],\n",
        "                   [3,4],\n",
        "                   [2,5]])\n",
        "\n",
        "tf.random.shuffle(arr)"
      ],
      "metadata": {
        "colab": {
          "base_uri": "https://localhost:8080/"
        },
        "id": "xOQsv7tYjCfA",
        "outputId": "394c381f-b79c-4595-ff3b-dbfe842aba70"
      },
      "execution_count": 20,
      "outputs": [
        {
          "output_type": "execute_result",
          "data": {
            "text/plain": [
              "<tf.Tensor: shape=(3, 2), dtype=int32, numpy=\n",
              "array([[ 2,  5],\n",
              "       [ 3,  4],\n",
              "       [10,  7]], dtype=int32)>"
            ]
          },
          "metadata": {},
          "execution_count": 20
        }
      ]
    },
    {
      "cell_type": "markdown",
      "source": [
        "* Note that random.shuffle() shuffles the elements along its first dimension.\n",
        "* Since the first dimension stands for rows (3), only the rows gets shuffled, and the order of the elements in the rows stays the same."
      ],
      "metadata": {
        "id": "KuH5OmOtmOUx"
      }
    },
    {
      "cell_type": "markdown",
      "source": [
        "If you want to get the same results for reproducibility, you'll have to set a global random seed."
      ],
      "metadata": {
        "id": "2ScJyDIWnzsc"
      }
    },
    {
      "cell_type": "code",
      "source": [
        "# Global random seed\n",
        "\n",
        "tf.random.set_seed(42)\n",
        "tf.random.shuffle(arr)"
      ],
      "metadata": {
        "colab": {
          "base_uri": "https://localhost:8080/"
        },
        "id": "mbK9egeimf9n",
        "outputId": "99dfd819-5ba7-4f9c-9c16-0ec9c9896c38"
      },
      "execution_count": 21,
      "outputs": [
        {
          "output_type": "execute_result",
          "data": {
            "text/plain": [
              "<tf.Tensor: shape=(3, 2), dtype=int32, numpy=\n",
              "array([[ 3,  4],\n",
              "       [ 2,  5],\n",
              "       [10,  7]], dtype=int32)>"
            ]
          },
          "metadata": {},
          "execution_count": 21
        }
      ]
    },
    {
      "cell_type": "markdown",
      "source": [
        "* This produces the same pseudo random numbers every time the code is ran."
      ],
      "metadata": {
        "id": "zhxLD_BfoKla"
      }
    },
    {
      "cell_type": "code",
      "source": [
        "tf.random.shuffle(arr, seed=42)"
      ],
      "metadata": {
        "colab": {
          "base_uri": "https://localhost:8080/"
        },
        "id": "M-_DM2MolWS9",
        "outputId": "5ba5cf22-6d1b-4178-967f-02fcd2fd4257"
      },
      "execution_count": 22,
      "outputs": [
        {
          "output_type": "execute_result",
          "data": {
            "text/plain": [
              "<tf.Tensor: shape=(3, 2), dtype=int32, numpy=\n",
              "array([[10,  7],\n",
              "       [ 3,  4],\n",
              "       [ 2,  5]], dtype=int32)>"
            ]
          },
          "metadata": {},
          "execution_count": 22
        }
      ]
    },
    {
      "cell_type": "markdown",
      "source": [
        "* This does not produce the same pseudo random numbers, because specifying the seed number inside a function is an operation level seed (not global).\n",
        "* If both the global and the operation seed are set, both seeds are used in conjunction to determine the random sequence.\n",
        "* This means that specifying both global and operation level seeds will produce different pseudo random numbers than just specifying a global random seed.\n",
        "* [tf.random.set_seed](https://www.tensorflow.org/api_docs/python/tf/random/set_seed)"
      ],
      "metadata": {
        "id": "8eagL79AoVhC"
      }
    },
    {
      "cell_type": "markdown",
      "source": [
        "<br>"
      ],
      "metadata": {
        "id": "JpzyZM_1ocmo"
      }
    },
    {
      "cell_type": "markdown",
      "source": [
        "<h3>Creating tensors from NumPy arrays</h3>"
      ],
      "metadata": {
        "id": "i-y7S29MpJin"
      }
    },
    {
      "cell_type": "code",
      "source": [
        "# Create a tensor of ones\n",
        "\n",
        "tf.ones([4, 4])"
      ],
      "metadata": {
        "colab": {
          "base_uri": "https://localhost:8080/"
        },
        "id": "-tUW5-dKqX97",
        "outputId": "b788e37d-6e79-4d3e-e613-441f3809c04e"
      },
      "execution_count": 23,
      "outputs": [
        {
          "output_type": "execute_result",
          "data": {
            "text/plain": [
              "<tf.Tensor: shape=(4, 4), dtype=float32, numpy=\n",
              "array([[1., 1., 1., 1.],\n",
              "       [1., 1., 1., 1.],\n",
              "       [1., 1., 1., 1.],\n",
              "       [1., 1., 1., 1.]], dtype=float32)>"
            ]
          },
          "metadata": {},
          "execution_count": 23
        }
      ]
    },
    {
      "cell_type": "code",
      "source": [
        "# Create a tensor of zeros\n",
        "\n",
        "tf.zeros(shape=(4,4))"
      ],
      "metadata": {
        "colab": {
          "base_uri": "https://localhost:8080/"
        },
        "id": "z5SnEQpyqa6c",
        "outputId": "de937423-d5f4-4023-fe70-bbea09466b4d"
      },
      "execution_count": 24,
      "outputs": [
        {
          "output_type": "execute_result",
          "data": {
            "text/plain": [
              "<tf.Tensor: shape=(4, 4), dtype=float32, numpy=\n",
              "array([[0., 0., 0., 0.],\n",
              "       [0., 0., 0., 0.],\n",
              "       [0., 0., 0., 0.],\n",
              "       [0., 0., 0., 0.]], dtype=float32)>"
            ]
          },
          "metadata": {},
          "execution_count": 24
        }
      ]
    },
    {
      "cell_type": "markdown",
      "source": [
        "**Turning NumPy arrays into tensors**"
      ],
      "metadata": {
        "id": "XN0SUn29qpM9"
      }
    },
    {
      "cell_type": "markdown",
      "source": [
        "* The main difference between NumPy arrays and TensorFlow tensors is that tensors can be run on a GPU (much faster for numerical computing)."
      ],
      "metadata": {
        "id": "TFfg5qblqvrw"
      }
    },
    {
      "cell_type": "code",
      "source": [
        "numpy_arr = np.arange(1, 25, dtype=np.int32)"
      ],
      "metadata": {
        "id": "4FCVMRImreft"
      },
      "execution_count": 25,
      "outputs": []
    },
    {
      "cell_type": "code",
      "source": [
        "tf.constant(numpy_arr)"
      ],
      "metadata": {
        "colab": {
          "base_uri": "https://localhost:8080/"
        },
        "id": "78XdOQQdr0ef",
        "outputId": "b872e26b-a76f-4986-8919-7381378592bb"
      },
      "execution_count": 26,
      "outputs": [
        {
          "output_type": "execute_result",
          "data": {
            "text/plain": [
              "<tf.Tensor: shape=(24,), dtype=int32, numpy=\n",
              "array([ 1,  2,  3,  4,  5,  6,  7,  8,  9, 10, 11, 12, 13, 14, 15, 16, 17,\n",
              "       18, 19, 20, 21, 22, 23, 24], dtype=int32)>"
            ]
          },
          "metadata": {},
          "execution_count": 26
        }
      ]
    },
    {
      "cell_type": "markdown",
      "source": [
        "* As seen above, NumPy arrays can be directly converted into tf tensors.\n",
        "* We can also modify the shape of the converted numpy array as long as the size matches the new dimensions.\n",
        "* For example, since *numpy_arr* has size 24, we can change its shape into (2,3,4), because $2*3*4 = 24.$"
      ],
      "metadata": {
        "id": "mJe8TZCyr8CQ"
      }
    },
    {
      "cell_type": "code",
      "source": [
        "tf.constant(numpy_arr, shape=(2,3,4))"
      ],
      "metadata": {
        "colab": {
          "base_uri": "https://localhost:8080/"
        },
        "id": "cGq3dcFer0su",
        "outputId": "3bf1fa0e-2217-42d2-8528-57bfd20bbffc"
      },
      "execution_count": 27,
      "outputs": [
        {
          "output_type": "execute_result",
          "data": {
            "text/plain": [
              "<tf.Tensor: shape=(2, 3, 4), dtype=int32, numpy=\n",
              "array([[[ 1,  2,  3,  4],\n",
              "        [ 5,  6,  7,  8],\n",
              "        [ 9, 10, 11, 12]],\n",
              "\n",
              "       [[13, 14, 15, 16],\n",
              "        [17, 18, 19, 20],\n",
              "        [21, 22, 23, 24]]], dtype=int32)>"
            ]
          },
          "metadata": {},
          "execution_count": 27
        }
      ]
    },
    {
      "cell_type": "code",
      "source": [
        "tf.constant(numpy_arr, shape=(3,8), dtype=np.int32)"
      ],
      "metadata": {
        "id": "L970cXKnr0u7",
        "colab": {
          "base_uri": "https://localhost:8080/"
        },
        "outputId": "05c5e2dd-d290-4205-9bab-3f0ec19eda2a"
      },
      "execution_count": 28,
      "outputs": [
        {
          "output_type": "execute_result",
          "data": {
            "text/plain": [
              "<tf.Tensor: shape=(3, 8), dtype=int32, numpy=\n",
              "array([[ 1,  2,  3,  4,  5,  6,  7,  8],\n",
              "       [ 9, 10, 11, 12, 13, 14, 15, 16],\n",
              "       [17, 18, 19, 20, 21, 22, 23, 24]], dtype=int32)>"
            ]
          },
          "metadata": {},
          "execution_count": 28
        }
      ]
    },
    {
      "cell_type": "markdown",
      "source": [
        "<br>"
      ],
      "metadata": {
        "id": "-q9dG9Jj8GSg"
      }
    },
    {
      "cell_type": "markdown",
      "source": [
        "<h3>Getting information from your tensors</h3>"
      ],
      "metadata": {
        "id": "VIXcikII8H5F"
      }
    },
    {
      "cell_type": "markdown",
      "source": [
        "Some important tensor attributes include\n",
        "\n",
        "* shape\n",
        "  * the length (number of elements) of each of the dimensions of a tensor.\n",
        "\n",
        "* rank\n",
        "  * the number of tensor dimensions.\n",
        "\n",
        "* axis or dimension\n",
        "  * a particular dimension of a tensor.\n",
        "\n",
        "* size\n",
        "  * the total number of elements in the tensor."
      ],
      "metadata": {
        "id": "4VIN-pkq89QZ"
      }
    },
    {
      "cell_type": "code",
      "source": [
        "# Create a rank 4 tensor\n",
        "\n",
        "t4 = tf.zeros(shape=(2,3,4,5))\n",
        "t4"
      ],
      "metadata": {
        "colab": {
          "base_uri": "https://localhost:8080/"
        },
        "id": "7bTXuNz27TqP",
        "outputId": "d4fda0e7-7d23-498a-9ceb-8dd3f2b9bd27"
      },
      "execution_count": 29,
      "outputs": [
        {
          "output_type": "execute_result",
          "data": {
            "text/plain": [
              "<tf.Tensor: shape=(2, 3, 4, 5), dtype=float32, numpy=\n",
              "array([[[[0., 0., 0., 0., 0.],\n",
              "         [0., 0., 0., 0., 0.],\n",
              "         [0., 0., 0., 0., 0.],\n",
              "         [0., 0., 0., 0., 0.]],\n",
              "\n",
              "        [[0., 0., 0., 0., 0.],\n",
              "         [0., 0., 0., 0., 0.],\n",
              "         [0., 0., 0., 0., 0.],\n",
              "         [0., 0., 0., 0., 0.]],\n",
              "\n",
              "        [[0., 0., 0., 0., 0.],\n",
              "         [0., 0., 0., 0., 0.],\n",
              "         [0., 0., 0., 0., 0.],\n",
              "         [0., 0., 0., 0., 0.]]],\n",
              "\n",
              "\n",
              "       [[[0., 0., 0., 0., 0.],\n",
              "         [0., 0., 0., 0., 0.],\n",
              "         [0., 0., 0., 0., 0.],\n",
              "         [0., 0., 0., 0., 0.]],\n",
              "\n",
              "        [[0., 0., 0., 0., 0.],\n",
              "         [0., 0., 0., 0., 0.],\n",
              "         [0., 0., 0., 0., 0.],\n",
              "         [0., 0., 0., 0., 0.]],\n",
              "\n",
              "        [[0., 0., 0., 0., 0.],\n",
              "         [0., 0., 0., 0., 0.],\n",
              "         [0., 0., 0., 0., 0.],\n",
              "         [0., 0., 0., 0., 0.]]]], dtype=float32)>"
            ]
          },
          "metadata": {},
          "execution_count": 29
        }
      ]
    },
    {
      "cell_type": "code",
      "source": [
        "t4.ndim"
      ],
      "metadata": {
        "colab": {
          "base_uri": "https://localhost:8080/"
        },
        "id": "0IYb35Fm7TtQ",
        "outputId": "48f5d111-02c7-4bcb-892c-0f02f261375a"
      },
      "execution_count": 30,
      "outputs": [
        {
          "output_type": "execute_result",
          "data": {
            "text/plain": [
              "4"
            ]
          },
          "metadata": {},
          "execution_count": 30
        }
      ]
    },
    {
      "cell_type": "code",
      "source": [
        "# Play with this indexing, and you'll understand how to slice tensors.\n",
        "\n",
        "t4[0]"
      ],
      "metadata": {
        "colab": {
          "base_uri": "https://localhost:8080/"
        },
        "id": "U1fQ_iuv7Tvh",
        "outputId": "65832b68-afcf-4a53-b26f-c75952edd0e0"
      },
      "execution_count": 31,
      "outputs": [
        {
          "output_type": "execute_result",
          "data": {
            "text/plain": [
              "<tf.Tensor: shape=(3, 4, 5), dtype=float32, numpy=\n",
              "array([[[0., 0., 0., 0., 0.],\n",
              "        [0., 0., 0., 0., 0.],\n",
              "        [0., 0., 0., 0., 0.],\n",
              "        [0., 0., 0., 0., 0.]],\n",
              "\n",
              "       [[0., 0., 0., 0., 0.],\n",
              "        [0., 0., 0., 0., 0.],\n",
              "        [0., 0., 0., 0., 0.],\n",
              "        [0., 0., 0., 0., 0.]],\n",
              "\n",
              "       [[0., 0., 0., 0., 0.],\n",
              "        [0., 0., 0., 0., 0.],\n",
              "        [0., 0., 0., 0., 0.],\n",
              "        [0., 0., 0., 0., 0.]]], dtype=float32)>"
            ]
          },
          "metadata": {},
          "execution_count": 31
        }
      ]
    },
    {
      "cell_type": "code",
      "source": [
        "tf.size(t4)"
      ],
      "metadata": {
        "colab": {
          "base_uri": "https://localhost:8080/"
        },
        "id": "5BlE85wm7TyJ",
        "outputId": "db23adae-ae07-41d8-b410-5cfe9f815fe1"
      },
      "execution_count": 32,
      "outputs": [
        {
          "output_type": "execute_result",
          "data": {
            "text/plain": [
              "<tf.Tensor: shape=(), dtype=int32, numpy=120>"
            ]
          },
          "metadata": {},
          "execution_count": 32
        }
      ]
    },
    {
      "cell_type": "code",
      "source": [
        "# To obtain just the size itself, use the numpy() attribute.\n",
        "\n",
        "tf.size(t4).numpy()"
      ],
      "metadata": {
        "colab": {
          "base_uri": "https://localhost:8080/"
        },
        "id": "9S278UZeBeRl",
        "outputId": "73a65a1e-c631-4b78-cfad-a9b6ab12f45c"
      },
      "execution_count": 33,
      "outputs": [
        {
          "output_type": "execute_result",
          "data": {
            "text/plain": [
              "120"
            ]
          },
          "metadata": {},
          "execution_count": 33
        }
      ]
    },
    {
      "cell_type": "code",
      "source": [
        "2*3*4*5"
      ],
      "metadata": {
        "colab": {
          "base_uri": "https://localhost:8080/"
        },
        "id": "XV3TW16-7T0o",
        "outputId": "0c78f35e-0655-4454-fa5d-5f8b55f07bd7"
      },
      "execution_count": 34,
      "outputs": [
        {
          "output_type": "execute_result",
          "data": {
            "text/plain": [
              "120"
            ]
          },
          "metadata": {},
          "execution_count": 34
        }
      ]
    },
    {
      "cell_type": "code",
      "source": [
        "t4[0, 0, :, :]"
      ],
      "metadata": {
        "colab": {
          "base_uri": "https://localhost:8080/"
        },
        "id": "XuYsqyNV_2Ts",
        "outputId": "d3ed58f4-2a11-4c7a-8fde-40e887e56659"
      },
      "execution_count": 35,
      "outputs": [
        {
          "output_type": "execute_result",
          "data": {
            "text/plain": [
              "<tf.Tensor: shape=(4, 5), dtype=float32, numpy=\n",
              "array([[0., 0., 0., 0., 0.],\n",
              "       [0., 0., 0., 0., 0.],\n",
              "       [0., 0., 0., 0., 0.],\n",
              "       [0., 0., 0., 0., 0.]], dtype=float32)>"
            ]
          },
          "metadata": {},
          "execution_count": 35
        }
      ]
    },
    {
      "cell_type": "markdown",
      "source": [
        "<br>"
      ],
      "metadata": {
        "id": "ZYiQ_SufB59x"
      }
    },
    {
      "cell_type": "markdown",
      "source": [
        "<h3>Indexing tensors</h3>"
      ],
      "metadata": {
        "id": "Jk0gU72WB6Ot"
      }
    },
    {
      "cell_type": "code",
      "source": [
        "t4.shape"
      ],
      "metadata": {
        "colab": {
          "base_uri": "https://localhost:8080/"
        },
        "id": "o6IjYjZlCzp-",
        "outputId": "ddf81f4b-2291-46f7-b4f9-33ffe920fac4"
      },
      "execution_count": 36,
      "outputs": [
        {
          "output_type": "execute_result",
          "data": {
            "text/plain": [
              "TensorShape([2, 3, 4, 5])"
            ]
          },
          "metadata": {},
          "execution_count": 36
        }
      ]
    },
    {
      "cell_type": "code",
      "source": [
        "# Get the first 2 elements of each dimension of the t4 (rank 4) tensor\n",
        "\n",
        "t4[:2, :2, :2, :2]\n"
      ],
      "metadata": {
        "colab": {
          "base_uri": "https://localhost:8080/"
        },
        "id": "fm_IsunaB-lr",
        "outputId": "1fa79eb1-d604-42e2-9a5e-9ec50da0c9df"
      },
      "execution_count": 37,
      "outputs": [
        {
          "output_type": "execute_result",
          "data": {
            "text/plain": [
              "<tf.Tensor: shape=(2, 2, 2, 2), dtype=float32, numpy=\n",
              "array([[[[0., 0.],\n",
              "         [0., 0.]],\n",
              "\n",
              "        [[0., 0.],\n",
              "         [0., 0.]]],\n",
              "\n",
              "\n",
              "       [[[0., 0.],\n",
              "         [0., 0.]],\n",
              "\n",
              "        [[0., 0.],\n",
              "         [0., 0.]]]], dtype=float32)>"
            ]
          },
          "metadata": {},
          "execution_count": 37
        }
      ]
    },
    {
      "cell_type": "code",
      "source": [
        "# Get the first element from each dimension from each index except the last one\n",
        "\n",
        "t4[:1, :1, :1]"
      ],
      "metadata": {
        "colab": {
          "base_uri": "https://localhost:8080/"
        },
        "id": "uzcJ8shcCksT",
        "outputId": "a7f3bec1-bf00-457c-9759-84cf8f2a0c11"
      },
      "execution_count": 38,
      "outputs": [
        {
          "output_type": "execute_result",
          "data": {
            "text/plain": [
              "<tf.Tensor: shape=(1, 1, 1, 5), dtype=float32, numpy=array([[[[0., 0., 0., 0., 0.]]]], dtype=float32)>"
            ]
          },
          "metadata": {},
          "execution_count": 38
        }
      ]
    },
    {
      "cell_type": "markdown",
      "source": [
        "* Notice that if we do not specify what to get from the last dimension, all of it gets returned."
      ],
      "metadata": {
        "id": "fvGFewAxDbHN"
      }
    },
    {
      "cell_type": "code",
      "source": [
        "# This returns the same tensor as the one above\n",
        "\n",
        "t4[:1, :1, :1, :]"
      ],
      "metadata": {
        "colab": {
          "base_uri": "https://localhost:8080/"
        },
        "id": "ZJZWWiY4DhFP",
        "outputId": "158dd922-2ea6-4b05-d16f-cb072bfed028"
      },
      "execution_count": 39,
      "outputs": [
        {
          "output_type": "execute_result",
          "data": {
            "text/plain": [
              "<tf.Tensor: shape=(1, 1, 1, 5), dtype=float32, numpy=array([[[[0., 0., 0., 0., 0.]]]], dtype=float32)>"
            ]
          },
          "metadata": {},
          "execution_count": 39
        }
      ]
    },
    {
      "cell_type": "code",
      "source": [
        "# Create a rank 2 tensor (2 dimensions)\n",
        "\n",
        "t2 = tf.constant([[10, 7],\n",
        "                  [3, 4]])\n",
        "print(t2)\n",
        "print(t2.ndim)"
      ],
      "metadata": {
        "colab": {
          "base_uri": "https://localhost:8080/"
        },
        "id": "IXfh5FwoECIL",
        "outputId": "b444267d-4bf0-4dfb-8ca9-3f1ce46c3dc4"
      },
      "execution_count": 40,
      "outputs": [
        {
          "output_type": "stream",
          "name": "stdout",
          "text": [
            "tf.Tensor(\n",
            "[[10  7]\n",
            " [ 3  4]], shape=(2, 2), dtype=int32)\n",
            "2\n"
          ]
        }
      ]
    },
    {
      "cell_type": "code",
      "source": [
        "# Get the last item of each row of our rank 2 tensor (i.e., get the last column)\n",
        "\n",
        "t2[:, 1]"
      ],
      "metadata": {
        "colab": {
          "base_uri": "https://localhost:8080/"
        },
        "id": "in6YKQxeEbxE",
        "outputId": "a5581b68-6705-4731-c6fb-3434480d7575"
      },
      "execution_count": 41,
      "outputs": [
        {
          "output_type": "execute_result",
          "data": {
            "text/plain": [
              "<tf.Tensor: shape=(2,), dtype=int32, numpy=array([7, 4], dtype=int32)>"
            ]
          },
          "metadata": {},
          "execution_count": 41
        }
      ]
    },
    {
      "cell_type": "code",
      "source": [
        "# Add a new dimension to our rank 2 tensor\n",
        "\n",
        "t2[..., tf.newaxis]"
      ],
      "metadata": {
        "colab": {
          "base_uri": "https://localhost:8080/"
        },
        "id": "WaFkN76gEb0h",
        "outputId": "3f4957b2-81e3-4503-8ab5-259494485f88"
      },
      "execution_count": 42,
      "outputs": [
        {
          "output_type": "execute_result",
          "data": {
            "text/plain": [
              "<tf.Tensor: shape=(2, 2, 1), dtype=int32, numpy=\n",
              "array([[[10],\n",
              "        [ 7]],\n",
              "\n",
              "       [[ 3],\n",
              "        [ 4]]], dtype=int32)>"
            ]
          },
          "metadata": {},
          "execution_count": 42
        }
      ]
    },
    {
      "cell_type": "code",
      "source": [
        "# This will also produce a new axis, but in a different place\n",
        "\n",
        "t2[:, tf.newaxis]"
      ],
      "metadata": {
        "colab": {
          "base_uri": "https://localhost:8080/"
        },
        "id": "NmlxGj4yF-SD",
        "outputId": "0deb1c02-165b-4f39-dbc1-6af029fe7164"
      },
      "execution_count": 43,
      "outputs": [
        {
          "output_type": "execute_result",
          "data": {
            "text/plain": [
              "<tf.Tensor: shape=(2, 1, 2), dtype=int32, numpy=\n",
              "array([[[10,  7]],\n",
              "\n",
              "       [[ 3,  4]]], dtype=int32)>"
            ]
          },
          "metadata": {},
          "execution_count": 43
        }
      ]
    },
    {
      "cell_type": "markdown",
      "source": [
        "* Notice that you need the three dots (...) in order to get a new dimension as the last dimension."
      ],
      "metadata": {
        "id": "ZZVCMA4LGDtf"
      }
    },
    {
      "cell_type": "code",
      "source": [
        "# Alternative to [..., tf.newaxis]\n",
        "\n",
        "tf.expand_dims(t2, axis=-1)"
      ],
      "metadata": {
        "colab": {
          "base_uri": "https://localhost:8080/"
        },
        "id": "vpxiODSKGDGK",
        "outputId": "1f693f6c-0544-4bdb-85ed-c689f638c421"
      },
      "execution_count": 44,
      "outputs": [
        {
          "output_type": "execute_result",
          "data": {
            "text/plain": [
              "<tf.Tensor: shape=(2, 2, 1), dtype=int32, numpy=\n",
              "array([[[10],\n",
              "        [ 7]],\n",
              "\n",
              "       [[ 3],\n",
              "        [ 4]]], dtype=int32)>"
            ]
          },
          "metadata": {},
          "execution_count": 44
        }
      ]
    },
    {
      "cell_type": "markdown",
      "source": [
        "* axis=-1 stands for the last axis (i.e., the new axis should be placed as the last axis)."
      ],
      "metadata": {
        "id": "CstDS_UAGnnY"
      }
    },
    {
      "cell_type": "code",
      "source": [
        "# We could also place the new axis as the first axis\n",
        "\n",
        "tf.expand_dims(t2, axis=0)"
      ],
      "metadata": {
        "colab": {
          "base_uri": "https://localhost:8080/"
        },
        "id": "_w89YIe7GsvU",
        "outputId": "4c4fc58c-3927-4cdd-9883-211573ad913f"
      },
      "execution_count": 45,
      "outputs": [
        {
          "output_type": "execute_result",
          "data": {
            "text/plain": [
              "<tf.Tensor: shape=(1, 2, 2), dtype=int32, numpy=\n",
              "array([[[10,  7],\n",
              "        [ 3,  4]]], dtype=int32)>"
            ]
          },
          "metadata": {},
          "execution_count": 45
        }
      ]
    },
    {
      "cell_type": "markdown",
      "source": [
        "* The only difference between these two last lines of code (axis=-1 vs. axis=0) is that the numbers are stored differently."
      ],
      "metadata": {
        "id": "sDpY8LlQJ8Ou"
      }
    },
    {
      "cell_type": "markdown",
      "source": [
        "<br>"
      ],
      "metadata": {
        "id": "-5QM7SibKaRU"
      }
    },
    {
      "cell_type": "markdown",
      "source": [
        "<h3>Manipulating tensors (basic tensor operations)</h3>"
      ],
      "metadata": {
        "id": "r5uu84G_KaW2"
      }
    },
    {
      "cell_type": "markdown",
      "source": [
        "**Basic operations** (element-wise operations)\n",
        "\n",
        "*  +, -, *, /"
      ],
      "metadata": {
        "id": "D3RAsAqyK5iZ"
      }
    },
    {
      "cell_type": "code",
      "source": [
        "# You can add values to a tensor\n",
        "\n",
        "t = tf.constant([[10, 7],\n",
        "                 [5, 6]])\n",
        "t+5"
      ],
      "metadata": {
        "colab": {
          "base_uri": "https://localhost:8080/"
        },
        "id": "q0oVcn-XKNaK",
        "outputId": "ddaab41e-c25e-4c4a-c4e2-4bee943640d3"
      },
      "execution_count": 46,
      "outputs": [
        {
          "output_type": "execute_result",
          "data": {
            "text/plain": [
              "<tf.Tensor: shape=(2, 2), dtype=int32, numpy=\n",
              "array([[15, 12],\n",
              "       [10, 11]], dtype=int32)>"
            ]
          },
          "metadata": {},
          "execution_count": 46
        }
      ]
    },
    {
      "cell_type": "markdown",
      "source": [
        "* Addition to a tensor adds the value to every element of the tensor."
      ],
      "metadata": {
        "id": "vfwAxz6xLce7"
      }
    },
    {
      "cell_type": "code",
      "source": [
        "# Multiplication\n",
        "\n",
        "t * 2"
      ],
      "metadata": {
        "colab": {
          "base_uri": "https://localhost:8080/"
        },
        "id": "3_aJKcehLgwZ",
        "outputId": "0a7cfcee-2fc6-4a18-e4e7-5629145fba52"
      },
      "execution_count": 47,
      "outputs": [
        {
          "output_type": "execute_result",
          "data": {
            "text/plain": [
              "<tf.Tensor: shape=(2, 2), dtype=int32, numpy=\n",
              "array([[20, 14],\n",
              "       [10, 12]], dtype=int32)>"
            ]
          },
          "metadata": {},
          "execution_count": 47
        }
      ]
    },
    {
      "cell_type": "code",
      "source": [
        "# Subtraction\n",
        "\n",
        "t - 10"
      ],
      "metadata": {
        "colab": {
          "base_uri": "https://localhost:8080/"
        },
        "id": "HGNDbkqcLg7J",
        "outputId": "6f8bd359-82c3-41c8-e840-0ad8ca6c761d"
      },
      "execution_count": 48,
      "outputs": [
        {
          "output_type": "execute_result",
          "data": {
            "text/plain": [
              "<tf.Tensor: shape=(2, 2), dtype=int32, numpy=\n",
              "array([[ 0, -3],\n",
              "       [-5, -4]], dtype=int32)>"
            ]
          },
          "metadata": {},
          "execution_count": 48
        }
      ]
    },
    {
      "cell_type": "code",
      "source": [
        "# Division\n",
        "\n",
        "t / 2"
      ],
      "metadata": {
        "colab": {
          "base_uri": "https://localhost:8080/"
        },
        "id": "-rNjNRv6Lg9k",
        "outputId": "c9aeba7c-81f6-421a-bfe2-986a354c150b"
      },
      "execution_count": 49,
      "outputs": [
        {
          "output_type": "execute_result",
          "data": {
            "text/plain": [
              "<tf.Tensor: shape=(2, 2), dtype=float64, numpy=\n",
              "array([[5. , 3.5],\n",
              "       [2.5, 3. ]])>"
            ]
          },
          "metadata": {},
          "execution_count": 49
        }
      ]
    },
    {
      "cell_type": "code",
      "source": [
        "# We can use the tensorflow built-in function too\n",
        "\n",
        "tf.multiply(t, 2)"
      ],
      "metadata": {
        "colab": {
          "base_uri": "https://localhost:8080/"
        },
        "id": "BdD7weC7MAph",
        "outputId": "01551719-7a10-4499-d854-850c249ecfcb"
      },
      "execution_count": 50,
      "outputs": [
        {
          "output_type": "execute_result",
          "data": {
            "text/plain": [
              "<tf.Tensor: shape=(2, 2), dtype=int32, numpy=\n",
              "array([[20, 14],\n",
              "       [10, 12]], dtype=int32)>"
            ]
          },
          "metadata": {},
          "execution_count": 50
        }
      ]
    },
    {
      "cell_type": "markdown",
      "source": [
        "* If you have to use some sort of operations on your tensor, always choose a function that comes with the tensorflow library (if possible), since those operations run on the GPU and therefore are faster."
      ],
      "metadata": {
        "id": "zBL6gcYiMNPR"
      }
    },
    {
      "cell_type": "markdown",
      "source": [
        "<br>"
      ],
      "metadata": {
        "id": "eM6IDqWJM5IE"
      }
    },
    {
      "cell_type": "markdown",
      "source": [
        "<h3>Matrix multiplication</h3>"
      ],
      "metadata": {
        "id": "s4wA3pZiM5KS"
      }
    },
    {
      "cell_type": "markdown",
      "source": [
        "In machine learning, matrix multiplication is one of the most common tensor operations. When multiplying two matrices A and B, the matrix B needs to have the same number of rows than the matrix A has columns. That is, if A has the dimensions $m \\times n$ and B has the dimensions $k \\times p,$ the matrix multiplication AB is defined if and only if $n = k.$ Note that in matrix multiplication the order matters, meaning that $AB \\neq BA$ (well sometimes it is, but in most cases, it is not). The resulting matrix AB will have dimensions $m \\times p$."
      ],
      "metadata": {
        "id": "FxgBLda2P9ji"
      }
    },
    {
      "cell_type": "code",
      "source": [
        "# Matrix multiplication in tensorflow\n",
        "\n",
        "tf.linalg.matmul(t2, t2)"
      ],
      "metadata": {
        "colab": {
          "base_uri": "https://localhost:8080/"
        },
        "id": "6kRmRT_8NCoC",
        "outputId": "1f1b29cb-19d5-4f20-c2e9-b09638750140"
      },
      "execution_count": 51,
      "outputs": [
        {
          "output_type": "execute_result",
          "data": {
            "text/plain": [
              "<tf.Tensor: shape=(2, 2), dtype=int32, numpy=\n",
              "array([[121,  98],\n",
              "       [ 42,  37]], dtype=int32)>"
            ]
          },
          "metadata": {},
          "execution_count": 51
        }
      ]
    },
    {
      "cell_type": "code",
      "source": [
        "t2 @ t2"
      ],
      "metadata": {
        "colab": {
          "base_uri": "https://localhost:8080/"
        },
        "id": "q6cvnWxfQd1A",
        "outputId": "51d5f2eb-3cc8-406f-97da-a671a1a9ead8"
      },
      "execution_count": 52,
      "outputs": [
        {
          "output_type": "execute_result",
          "data": {
            "text/plain": [
              "<tf.Tensor: shape=(2, 2), dtype=int32, numpy=\n",
              "array([[121,  98],\n",
              "       [ 42,  37]], dtype=int32)>"
            ]
          },
          "metadata": {},
          "execution_count": 52
        }
      ]
    },
    {
      "cell_type": "code",
      "source": [
        "np.matmul(t2, t2)"
      ],
      "metadata": {
        "colab": {
          "base_uri": "https://localhost:8080/"
        },
        "id": "1oUxn0WKQg8J",
        "outputId": "b52e0b1b-17b9-4785-a53a-e98ee1a15b2e"
      },
      "execution_count": 53,
      "outputs": [
        {
          "output_type": "execute_result",
          "data": {
            "text/plain": [
              "array([[121,  98],\n",
              "       [ 42,  37]], dtype=int32)"
            ]
          },
          "metadata": {},
          "execution_count": 53
        }
      ]
    },
    {
      "cell_type": "code",
      "source": [
        "X1 = tf.constant([[4, 5, 2],\n",
        "                  [9, 4, 1],\n",
        "                  [5, 6, 7]])\n",
        "\n",
        "X2 = tf.constant([[7, 8, 9],\n",
        "                  [5, 5, 3]])\n",
        "\n",
        "print(f'{X1.shape}\\n{X2.shape}')"
      ],
      "metadata": {
        "colab": {
          "base_uri": "https://localhost:8080/"
        },
        "id": "Ov8yYuPudTVz",
        "outputId": "bafaad7f-d0db-443c-bd2c-711647b125d6"
      },
      "execution_count": 54,
      "outputs": [
        {
          "output_type": "stream",
          "name": "stdout",
          "text": [
            "(3, 3)\n",
            "(2, 3)\n"
          ]
        }
      ]
    },
    {
      "cell_type": "markdown",
      "source": [
        "* These matrices cannot be multiplied, because X1 has 3 columns and X2 has only 2 rows ($2 \\neq 3$).\n",
        "* If you try to multiply these as they are, you will get an error."
      ],
      "metadata": {
        "id": "hSNnCv8IeDAc"
      }
    },
    {
      "cell_type": "code",
      "source": [
        "# X2 needs to have 3 rows for the matrix multiplication, so let's reshape it\n",
        "\n",
        "tf.matmul(X1, tf.reshape(X2, shape=(3,2)))"
      ],
      "metadata": {
        "colab": {
          "base_uri": "https://localhost:8080/"
        },
        "id": "yNxhBrTlen5X",
        "outputId": "e4b037dc-212d-4a4b-bba0-1397d091e19a"
      },
      "execution_count": 55,
      "outputs": [
        {
          "output_type": "execute_result",
          "data": {
            "text/plain": [
              "<tf.Tensor: shape=(3, 2), dtype=int32, numpy=\n",
              "array([[ 83,  63],\n",
              "       [104,  95],\n",
              "       [124,  91]], dtype=int32)>"
            ]
          },
          "metadata": {},
          "execution_count": 55
        }
      ]
    },
    {
      "cell_type": "markdown",
      "source": [
        "* Notice that the new dimensions of the matrix X1X2 are $3 \\times 2$.\n",
        "* This shows that the resulting matrix after a matrix multiplication AB will have the same amount of rows as A, and same amount of columns as B."
      ],
      "metadata": {
        "id": "y2a3-l69g1hp"
      }
    },
    {
      "cell_type": "code",
      "source": [
        "# Transpose\n",
        "\n",
        "tf.transpose(X1)"
      ],
      "metadata": {
        "colab": {
          "base_uri": "https://localhost:8080/"
        },
        "id": "Mk2xwwTEhPkj",
        "outputId": "63c14dcb-fe56-4f70-e828-ac701b82054c"
      },
      "execution_count": 56,
      "outputs": [
        {
          "output_type": "execute_result",
          "data": {
            "text/plain": [
              "<tf.Tensor: shape=(3, 3), dtype=int32, numpy=\n",
              "array([[4, 9, 5],\n",
              "       [5, 4, 6],\n",
              "       [2, 1, 7]], dtype=int32)>"
            ]
          },
          "metadata": {},
          "execution_count": 56
        }
      ]
    },
    {
      "cell_type": "code",
      "source": [
        "tf.transpose(X2)"
      ],
      "metadata": {
        "colab": {
          "base_uri": "https://localhost:8080/"
        },
        "id": "Vzsl0KmTmZ1J",
        "outputId": "0fbdaaf9-a299-42c6-c441-b0ba666881eb"
      },
      "execution_count": 57,
      "outputs": [
        {
          "output_type": "execute_result",
          "data": {
            "text/plain": [
              "<tf.Tensor: shape=(3, 2), dtype=int32, numpy=\n",
              "array([[7, 5],\n",
              "       [8, 5],\n",
              "       [9, 3]], dtype=int32)>"
            ]
          },
          "metadata": {},
          "execution_count": 57
        }
      ]
    },
    {
      "cell_type": "markdown",
      "source": [
        "<br>"
      ],
      "metadata": {
        "id": "3POcCrmLjYsx"
      }
    },
    {
      "cell_type": "markdown",
      "source": [
        "<h3>The dot product</h3>"
      ],
      "metadata": {
        "id": "NW-0C4axjY2o"
      }
    },
    {
      "cell_type": "markdown",
      "source": [
        "Matrix multiplication is also referred to as the *dot product*.\n",
        "\n",
        "You can perform matlix multiplication using:\n",
        "\n",
        "* tf.matmul()\n",
        "* tf.tensordot()\n"
      ],
      "metadata": {
        "id": "1VjErwD_jccz"
      }
    },
    {
      "cell_type": "code",
      "source": [
        "X1"
      ],
      "metadata": {
        "colab": {
          "base_uri": "https://localhost:8080/"
        },
        "id": "svrQZRivkCw0",
        "outputId": "1b9e9110-11bf-4c32-f1fd-8e892793e1a2"
      },
      "execution_count": 58,
      "outputs": [
        {
          "output_type": "execute_result",
          "data": {
            "text/plain": [
              "<tf.Tensor: shape=(3, 3), dtype=int32, numpy=\n",
              "array([[4, 5, 2],\n",
              "       [9, 4, 1],\n",
              "       [5, 6, 7]], dtype=int32)>"
            ]
          },
          "metadata": {},
          "execution_count": 58
        }
      ]
    },
    {
      "cell_type": "code",
      "source": [
        "tf.matmul(X1, tf.reshape(X2, shape=(3,2)))"
      ],
      "metadata": {
        "colab": {
          "base_uri": "https://localhost:8080/"
        },
        "id": "qu0BD6eEkW4D",
        "outputId": "58c30a40-00b7-42d3-f391-655acb53e7ec"
      },
      "execution_count": 59,
      "outputs": [
        {
          "output_type": "execute_result",
          "data": {
            "text/plain": [
              "<tf.Tensor: shape=(3, 2), dtype=int32, numpy=\n",
              "array([[ 83,  63],\n",
              "       [104,  95],\n",
              "       [124,  91]], dtype=int32)>"
            ]
          },
          "metadata": {},
          "execution_count": 59
        }
      ]
    },
    {
      "cell_type": "code",
      "source": [
        "tf.tensordot(X1, tf.reshape(X2, shape=(3,2)), axes=1)"
      ],
      "metadata": {
        "colab": {
          "base_uri": "https://localhost:8080/"
        },
        "id": "EEHI86YaknjP",
        "outputId": "33812d59-6ef7-4d0d-cd51-9931c977a02d"
      },
      "execution_count": 60,
      "outputs": [
        {
          "output_type": "execute_result",
          "data": {
            "text/plain": [
              "<tf.Tensor: shape=(3, 2), dtype=int32, numpy=\n",
              "array([[ 83,  63],\n",
              "       [104,  95],\n",
              "       [124,  91]], dtype=int32)>"
            ]
          },
          "metadata": {},
          "execution_count": 60
        }
      ]
    },
    {
      "cell_type": "markdown",
      "source": [
        "* Notice that with tf.tensordot(), you need to specify along which axis to perform the multiplication."
      ],
      "metadata": {
        "id": "y35PPGV_kyBs"
      }
    },
    {
      "cell_type": "markdown",
      "source": [
        "<br>"
      ],
      "metadata": {
        "id": "xKKQKReRmhuP"
      }
    },
    {
      "cell_type": "markdown",
      "source": [
        "<h3>Changing the datatype of tensors</h3>"
      ],
      "metadata": {
        "id": "jT2RhQABmhwN"
      }
    },
    {
      "cell_type": "code",
      "source": [
        "print(tf.constant([7.4, 5.0]))\n",
        "print(tf.constant([5, 4]))\n",
        "print(tf.constant([1.0, 2, 3, 4, 5]))"
      ],
      "metadata": {
        "colab": {
          "base_uri": "https://localhost:8080/"
        },
        "id": "oE_z5mXQoe-3",
        "outputId": "0be4e219-84ce-485b-c194-b46ba98d31e6"
      },
      "execution_count": 61,
      "outputs": [
        {
          "output_type": "stream",
          "name": "stdout",
          "text": [
            "tf.Tensor([7.4 5. ], shape=(2,), dtype=float32)\n",
            "tf.Tensor([5 4], shape=(2,), dtype=int32)\n",
            "tf.Tensor([1. 2. 3. 4. 5.], shape=(5,), dtype=float32)\n"
          ]
        }
      ]
    },
    {
      "cell_type": "markdown",
      "source": [
        "* As seen above, when including floats into the tensor, the default datatype will be float32.\n",
        "* On the other hand, if the tensor contains only integers, the default datatype will be int32.\n",
        "* Note that if the tensor contains even one float, all of the numbers will be converted into floats."
      ],
      "metadata": {
        "id": "WprNVfi4s3s6"
      }
    },
    {
      "cell_type": "code",
      "source": [
        "# Let's reduce the precision from float32 --> float16\n",
        "\n",
        "print(tf.constant([1.0, 2.0], dtype=tf.float16))"
      ],
      "metadata": {
        "colab": {
          "base_uri": "https://localhost:8080/"
        },
        "id": "3wLHcm4gte5w",
        "outputId": "172afd1c-887c-466b-a49f-017ac7e1ef29"
      },
      "execution_count": 62,
      "outputs": [
        {
          "output_type": "stream",
          "name": "stdout",
          "text": [
            "tf.Tensor([1. 2.], shape=(2,), dtype=float16)\n"
          ]
        }
      ]
    },
    {
      "cell_type": "markdown",
      "source": [
        "* [Mixed precision](https://www.tensorflow.org/guide/mixed_precision)\n",
        "* The link above contains important information on the different datatypes."
      ],
      "metadata": {
        "id": "3m1Oqbqit0Nr"
      }
    },
    {
      "cell_type": "markdown",
      "source": [
        "<br>"
      ],
      "metadata": {
        "id": "4a4zBnabwXBB"
      }
    },
    {
      "cell_type": "markdown",
      "source": [
        "<h3>Aggregating tensors</h3>"
      ],
      "metadata": {
        "id": "zGukEGZkwXD4"
      }
    },
    {
      "cell_type": "markdown",
      "source": [
        "* *Aggregation* is the process of combining several numerical values into a single representative value, and an aggregation function performs this operation.\n",
        "* Examples of aggregation functions include *min(), max(), mean(), std()*, etc..."
      ],
      "metadata": {
        "id": "OS_Fhy5Bwbu_"
      }
    },
    {
      "cell_type": "code",
      "source": [
        "t = tf.constant([[5.0, 3.0, 8.0],\n",
        "                 [9.0, 2.0, 3.0],\n",
        "                 [6.0, 8.0, 4.0]])\n",
        "print(tf.reduce_min(t, keepdims=False))\n",
        "print(tf.reduce_max(t, keepdims=False))\n",
        "print(tf.reduce_mean(t, keepdims=False))\n",
        "print(tf.reduce_sum(t, keepdims=False))"
      ],
      "metadata": {
        "colab": {
          "base_uri": "https://localhost:8080/"
        },
        "id": "Oba5CKYrzDsW",
        "outputId": "8c0fa1ab-5cbd-4814-f90c-f0b517bf7cfe"
      },
      "execution_count": 63,
      "outputs": [
        {
          "output_type": "stream",
          "name": "stdout",
          "text": [
            "tf.Tensor(2.0, shape=(), dtype=float32)\n",
            "tf.Tensor(9.0, shape=(), dtype=float32)\n",
            "tf.Tensor(5.3333335, shape=(), dtype=float32)\n",
            "tf.Tensor(48.0, shape=(), dtype=float32)\n"
          ]
        }
      ]
    },
    {
      "cell_type": "code",
      "source": [
        "(5+3+8+9+2+3+6+8+4)"
      ],
      "metadata": {
        "colab": {
          "base_uri": "https://localhost:8080/"
        },
        "id": "8pNsUg0G0LcX",
        "outputId": "74c2c4d5-aaec-4734-a1e1-716c5fef8b86"
      },
      "execution_count": 64,
      "outputs": [
        {
          "output_type": "execute_result",
          "data": {
            "text/plain": [
              "48"
            ]
          },
          "metadata": {},
          "execution_count": 64
        }
      ]
    },
    {
      "cell_type": "code",
      "source": [
        "(5+3+8+9+2+3+6+8+4) / 9"
      ],
      "metadata": {
        "colab": {
          "base_uri": "https://localhost:8080/"
        },
        "id": "BI1nX4Z70SQ9",
        "outputId": "2880f761-b500-49f7-f61c-241abf99ecd3"
      },
      "execution_count": 65,
      "outputs": [
        {
          "output_type": "execute_result",
          "data": {
            "text/plain": [
              "5.333333333333333"
            ]
          },
          "metadata": {},
          "execution_count": 65
        }
      ]
    },
    {
      "cell_type": "markdown",
      "source": [
        "* The rank of the tensor is reduced by 1 for each dimension that is reduced.\n",
        "* Note that if no *axis* argument is specified, tf.reduce_SomeAggFunc() reduces the tensor to a scalar (i.e., rank 0), because it computes the mean over all elements in the tensor."
      ],
      "metadata": {
        "id": "fOuCT8Dt0jN-"
      }
    },
    {
      "cell_type": "code",
      "source": [
        "print(tf.math.reduce_variance(t))\n",
        "print(np.var(t.numpy()))\n",
        "print()\n",
        "print(tf.math.reduce_std(t))\n",
        "print(np.std(t.numpy()))"
      ],
      "metadata": {
        "colab": {
          "base_uri": "https://localhost:8080/"
        },
        "id": "Xb9boETw2heQ",
        "outputId": "13b162a0-04d1-4681-828d-6dc0aa785c44"
      },
      "execution_count": 66,
      "outputs": [
        {
          "output_type": "stream",
          "name": "stdout",
          "text": [
            "tf.Tensor(5.7777777, shape=(), dtype=float32)\n",
            "5.7777777\n",
            "\n",
            "tf.Tensor(2.4037008, shape=(), dtype=float32)\n",
            "2.4037008\n"
          ]
        }
      ]
    },
    {
      "cell_type": "markdown",
      "source": [
        "<br>"
      ],
      "metadata": {
        "id": "2zRHjMmgAOQh"
      }
    },
    {
      "cell_type": "markdown",
      "source": [
        "<h3>Find the positional minimum and maximum of a tensor (argmin, argmax)</h3>"
      ],
      "metadata": {
        "id": "CPfLeo7iAOTT"
      }
    },
    {
      "cell_type": "code",
      "source": [
        "# Create a new tensor for finding positional min and max (argmin, argmax)\n",
        "\n",
        "tf.random.set_seed(42)\n",
        "t = tf.random.uniform(shape=(50,))\n",
        "\n",
        "# Returns the index with the smallest value across axes of a tensor.\n",
        "tf.argmin(t).numpy()"
      ],
      "metadata": {
        "colab": {
          "base_uri": "https://localhost:8080/"
        },
        "id": "-wEv517gBte2",
        "outputId": "b3d7702f-6b8e-4b17-be4e-bb6d3c1e858c"
      },
      "execution_count": 67,
      "outputs": [
        {
          "output_type": "execute_result",
          "data": {
            "text/plain": [
              "16"
            ]
          },
          "metadata": {},
          "execution_count": 67
        }
      ]
    },
    {
      "cell_type": "code",
      "source": [
        "t[16]"
      ],
      "metadata": {
        "colab": {
          "base_uri": "https://localhost:8080/"
        },
        "id": "QuXj31dKCZQI",
        "outputId": "7e0dbb55-8b46-4294-e8e8-5c5a16c7d120"
      },
      "execution_count": 68,
      "outputs": [
        {
          "output_type": "execute_result",
          "data": {
            "text/plain": [
              "<tf.Tensor: shape=(), dtype=float32, numpy=0.009463668>"
            ]
          },
          "metadata": {},
          "execution_count": 68
        }
      ]
    },
    {
      "cell_type": "markdown",
      "source": [
        "* The smallest value in the tensor t is 0.009463668, which is located at the index position 16."
      ],
      "metadata": {
        "id": "f9-q1NZVCjfU"
      }
    },
    {
      "cell_type": "code",
      "source": [
        "tf.argmax(t)"
      ],
      "metadata": {
        "colab": {
          "base_uri": "https://localhost:8080/"
        },
        "id": "l4JzLFthCrmF",
        "outputId": "397b9507-2cc9-42e2-b076-f2f3f28d77e0"
      },
      "execution_count": 69,
      "outputs": [
        {
          "output_type": "execute_result",
          "data": {
            "text/plain": [
              "<tf.Tensor: shape=(), dtype=int64, numpy=42>"
            ]
          },
          "metadata": {},
          "execution_count": 69
        }
      ]
    },
    {
      "cell_type": "code",
      "source": [
        "t[42]"
      ],
      "metadata": {
        "colab": {
          "base_uri": "https://localhost:8080/"
        },
        "id": "RTGy9pyoC0HL",
        "outputId": "9d9de264-6939-4c67-ce98-f26b3a651f86"
      },
      "execution_count": 70,
      "outputs": [
        {
          "output_type": "execute_result",
          "data": {
            "text/plain": [
              "<tf.Tensor: shape=(), dtype=float32, numpy=0.9671384>"
            ]
          },
          "metadata": {},
          "execution_count": 70
        }
      ]
    },
    {
      "cell_type": "markdown",
      "source": [
        "* The largest value in the tensor t is 0.9671384, which is located at the index position 42.\n",
        "* Notice also that when incuding the numpy() function, the output is much nicer, since it returns only the value (see the output of argmin().numpy() above)."
      ],
      "metadata": {
        "id": "I_hgvl-oC28T"
      }
    },
    {
      "cell_type": "code",
      "source": [
        "# Check for equality\n",
        "\n",
        "t[tf.argmax(t)] == tf.reduce_max(t)"
      ],
      "metadata": {
        "colab": {
          "base_uri": "https://localhost:8080/"
        },
        "id": "guHq8_VeDYr4",
        "outputId": "226b6c39-ebf8-4c84-8e0e-5117249f1f2d"
      },
      "execution_count": 71,
      "outputs": [
        {
          "output_type": "execute_result",
          "data": {
            "text/plain": [
              "<tf.Tensor: shape=(), dtype=bool, numpy=True>"
            ]
          },
          "metadata": {},
          "execution_count": 71
        }
      ]
    },
    {
      "cell_type": "markdown",
      "source": [
        "<br>"
      ],
      "metadata": {
        "id": "LT-9Dt0NE30Y"
      }
    },
    {
      "cell_type": "markdown",
      "source": [
        "<h3>Squeezing a tensor (removing all single dimensions)</h3>"
      ],
      "metadata": {
        "id": "Ay0zZtcsE37k"
      }
    },
    {
      "cell_type": "code",
      "source": [
        "tf.random.set_seed(42)\n",
        "t = tf.constant(tf.random.uniform(shape=(50,)), shape=(1,1,1,1,50))"
      ],
      "metadata": {
        "id": "cZKgHqTgE-PQ"
      },
      "execution_count": 72,
      "outputs": []
    },
    {
      "cell_type": "code",
      "source": [
        "t.shape"
      ],
      "metadata": {
        "id": "iZc0gQS2FVKQ",
        "outputId": "b4dcd667-298c-4490-b5f2-cfbd94c07cdb",
        "colab": {
          "base_uri": "https://localhost:8080/"
        }
      },
      "execution_count": 73,
      "outputs": [
        {
          "output_type": "execute_result",
          "data": {
            "text/plain": [
              "TensorShape([1, 1, 1, 1, 50])"
            ]
          },
          "metadata": {},
          "execution_count": 73
        }
      ]
    },
    {
      "cell_type": "code",
      "source": [
        "tf.squeeze(t).shape"
      ],
      "metadata": {
        "id": "J9i7qys5FVdY",
        "outputId": "0a18a283-748a-4653-cde9-3139b252a9e7",
        "colab": {
          "base_uri": "https://localhost:8080/"
        }
      },
      "execution_count": 74,
      "outputs": [
        {
          "output_type": "execute_result",
          "data": {
            "text/plain": [
              "TensorShape([50])"
            ]
          },
          "metadata": {},
          "execution_count": 74
        }
      ]
    },
    {
      "cell_type": "markdown",
      "source": [
        "*  squeeze() removes dimensions of size 1 from the shape of a tensor."
      ],
      "metadata": {
        "id": "wiWxZ9IdFkjL"
      }
    },
    {
      "cell_type": "markdown",
      "source": [
        "<br>"
      ],
      "metadata": {
        "id": "42sz1utSFuNj"
      }
    },
    {
      "cell_type": "markdown",
      "source": [
        "<h3>One-hot encoding tensors</h3>"
      ],
      "metadata": {
        "id": "7O7cNehiFuQY"
      }
    },
    {
      "cell_type": "code",
      "source": [
        "# Create a list of indices (the categories of some categorical variable)\n",
        "\n",
        "l_ind = [0, 1, 2, 3]\n",
        "\n",
        "# one-hot encode our list of indices.\n",
        "# The depth parameter specifies how many dummy variables you want\n",
        "# to create from your categorical variable.\n",
        "\n",
        "tf.one_hot(l_ind, depth=3)"
      ],
      "metadata": {
        "id": "VuOMBg7rGmu4",
        "outputId": "72aa39a4-a37c-4ab9-dcee-5514d8149eff",
        "colab": {
          "base_uri": "https://localhost:8080/"
        }
      },
      "execution_count": 75,
      "outputs": [
        {
          "output_type": "execute_result",
          "data": {
            "text/plain": [
              "<tf.Tensor: shape=(4, 3), dtype=float32, numpy=\n",
              "array([[1., 0., 0.],\n",
              "       [0., 1., 0.],\n",
              "       [0., 0., 1.],\n",
              "       [0., 0., 0.]], dtype=float32)>"
            ]
          },
          "metadata": {},
          "execution_count": 75
        }
      ]
    },
    {
      "cell_type": "markdown",
      "source": [
        "One-hot encoding represents each category with a unique binary vector where only one element is \"1\" (hot) and the others are \"0\". For instance, with 4 categories (let's call them A, B, C, and D), the encoding would look like this:\n",
        "\n",
        "* Category A: [1, 0, 0, 0]\n",
        "* Category B: [0, 1, 0, 0]\n",
        "* Category C: [0, 0, 1, 0]\n",
        "* Category D: [0, 0, 0, 1]\n",
        "\n",
        "In some contexts, such as when avoiding *multicollinearity* in regression models, it's common to drop one dummy variable. In such cases, if your categorical variable has $n$ categories, you would use $\\, n-1\\, $ dummy variables. This is because the fourth category can be inferred when all $\\, n-1 \\,$ dummy variables are 0. This approach ensures that there is no perfect multicollinearity among the dummy variables. Continuing with the example above:\n",
        "\n",
        "* Category A: [1, 0, 0]\n",
        "* Category B: [0, 1, 0]\n",
        "* Category C: [0, 0, 1]\n",
        "* Category D: [0, 0, 0] (inferred when all other dummy variables are 0)\n",
        "\n"
      ],
      "metadata": {
        "id": "HYHtK1cBHeDO"
      }
    },
    {
      "cell_type": "markdown",
      "source": [
        "<br>"
      ],
      "metadata": {
        "id": "mpA0nOegvaIR"
      }
    },
    {
      "cell_type": "markdown",
      "source": [
        "<h3>Some more mathematical operations</h3>"
      ],
      "metadata": {
        "id": "IJjf1TAvvaQD"
      }
    },
    {
      "cell_type": "code",
      "source": [
        "t = tf.range(1,11)"
      ],
      "metadata": {
        "id": "XUyjJjdQveVA"
      },
      "execution_count": 76,
      "outputs": []
    },
    {
      "cell_type": "code",
      "source": [
        "tf.square(t)"
      ],
      "metadata": {
        "id": "Ue3xmzZDv1kh",
        "outputId": "ff555052-9cbc-415e-bbfc-d0b30967dc0f",
        "colab": {
          "base_uri": "https://localhost:8080/"
        }
      },
      "execution_count": 77,
      "outputs": [
        {
          "output_type": "execute_result",
          "data": {
            "text/plain": [
              "<tf.Tensor: shape=(10,), dtype=int32, numpy=array([  1,   4,   9,  16,  25,  36,  49,  64,  81, 100], dtype=int32)>"
            ]
          },
          "metadata": {},
          "execution_count": 77
        }
      ]
    },
    {
      "cell_type": "code",
      "source": [
        "#tf.math.sqrt(t)"
      ],
      "metadata": {
        "id": "3gOvwD8tv96v"
      },
      "execution_count": 78,
      "outputs": []
    },
    {
      "cell_type": "markdown",
      "source": [
        "* I first tried to run this with a tensor with dtype  int32, and got the following error:\n",
        "  * Value for attr 'T' of int32 is not in the list of allowed values: bfloat16, half, float, double, complex64, complex128\n",
        "* So in tensorflow, the math.sqrt() function does not allow dtype int32"
      ],
      "metadata": {
        "id": "zosFQMzjwFcR"
      }
    },
    {
      "cell_type": "code",
      "source": [
        "tf.math.sqrt(tf.cast(t, dtype=tf.float32))"
      ],
      "metadata": {
        "id": "WsYVRQ4-xbcr",
        "outputId": "82311035-4d59-4446-91fc-99d10230fead",
        "colab": {
          "base_uri": "https://localhost:8080/"
        }
      },
      "execution_count": 79,
      "outputs": [
        {
          "output_type": "execute_result",
          "data": {
            "text/plain": [
              "<tf.Tensor: shape=(10,), dtype=float32, numpy=\n",
              "array([1.       , 1.4142135, 1.7320508, 2.       , 2.2360678, 2.4494896,\n",
              "       2.6457512, 2.828427 , 3.       , 3.1622777], dtype=float32)>"
            ]
          },
          "metadata": {},
          "execution_count": 79
        }
      ]
    },
    {
      "cell_type": "markdown",
      "source": [
        "* With tf.cast(), we can change the dtype of a tensor."
      ],
      "metadata": {
        "id": "43MElt2XyKr9"
      }
    },
    {
      "cell_type": "code",
      "source": [
        "# Same applies for math.log(), it does not allow int32\n",
        "\n",
        "tf.math.log(tf.cast(t, dtype=tf.float32))"
      ],
      "metadata": {
        "id": "p6Fn8MZSyjpC",
        "outputId": "4d3620dd-ba7e-4ee6-bece-8bf133ec6874",
        "colab": {
          "base_uri": "https://localhost:8080/"
        }
      },
      "execution_count": 80,
      "outputs": [
        {
          "output_type": "execute_result",
          "data": {
            "text/plain": [
              "<tf.Tensor: shape=(10,), dtype=float32, numpy=\n",
              "array([0.       , 0.6931472, 1.0986123, 1.3862944, 1.609438 , 1.7917595,\n",
              "       1.9459102, 2.0794415, 2.1972246, 2.3025851], dtype=float32)>"
            ]
          },
          "metadata": {},
          "execution_count": 80
        }
      ]
    },
    {
      "cell_type": "markdown",
      "source": [
        "<br>"
      ],
      "metadata": {
        "id": "88GoJosHy5nC"
      }
    },
    {
      "cell_type": "markdown",
      "source": [
        "<h3>Tensors and NumPy</h3>\n",
        "\n",
        "**NOTE**: One of the main differences between TensorFlow tensor and NumPy array is that a TensorFlow tensor can be run on a GPU or TPU (for faster numerical processing)."
      ],
      "metadata": {
        "id": "qyMXdEDSy5o-"
      }
    },
    {
      "cell_type": "code",
      "source": [
        "# Create a tensor directly from a numpy array\n",
        "\n",
        "t = tf.constant(np.array([3., 7., 10.]))\n",
        "t"
      ],
      "metadata": {
        "id": "Pr9u9uVtzVC8",
        "outputId": "8549424a-6ca7-4841-a3cb-38c8a481bfe3",
        "colab": {
          "base_uri": "https://localhost:8080/"
        }
      },
      "execution_count": 81,
      "outputs": [
        {
          "output_type": "execute_result",
          "data": {
            "text/plain": [
              "<tf.Tensor: shape=(3,), dtype=float64, numpy=array([ 3.,  7., 10.])>"
            ]
          },
          "metadata": {},
          "execution_count": 81
        }
      ]
    },
    {
      "cell_type": "code",
      "source": [
        "# Convert tensor back to numpy array\n",
        "\n",
        "np.array(t), type(np.array(t))"
      ],
      "metadata": {
        "id": "2ytpEwEszfPf",
        "outputId": "7bb4c2d0-10b0-466f-852b-87e9d5af4302",
        "colab": {
          "base_uri": "https://localhost:8080/"
        }
      },
      "execution_count": 82,
      "outputs": [
        {
          "output_type": "execute_result",
          "data": {
            "text/plain": [
              "(array([ 3.,  7., 10.]), numpy.ndarray)"
            ]
          },
          "metadata": {},
          "execution_count": 82
        }
      ]
    },
    {
      "cell_type": "code",
      "source": [
        "# Tensors (usually) have numpy() method, which converts tensors to numpy arrays\n",
        "\n",
        "t.numpy()"
      ],
      "metadata": {
        "id": "JCs5jK640dV_",
        "outputId": "668346c0-65db-43ff-b781-9032b9796c0b",
        "colab": {
          "base_uri": "https://localhost:8080/"
        }
      },
      "execution_count": 83,
      "outputs": [
        {
          "output_type": "execute_result",
          "data": {
            "text/plain": [
              "array([ 3.,  7., 10.])"
            ]
          },
          "metadata": {},
          "execution_count": 83
        }
      ]
    },
    {
      "cell_type": "markdown",
      "source": [
        "<br>"
      ],
      "metadata": {
        "id": "LWGtvZnFFDZs"
      }
    },
    {
      "cell_type": "markdown",
      "source": [
        "<h3>Finding access to GPUs</h3>"
      ],
      "metadata": {
        "id": "JSayMp4ZFDb2"
      }
    },
    {
      "cell_type": "markdown",
      "source": [
        "* To access a GPU or TPU, navigate to Runtime $\\, \\boldsymbol{\\rightarrow} \\,$ Change runtime type"
      ],
      "metadata": {
        "id": "8ywiMLScI1KK"
      }
    },
    {
      "cell_type": "code",
      "source": [
        "tf.config.list_physical_devices()"
      ],
      "metadata": {
        "id": "o71fdxZVFVe4",
        "outputId": "0ef549ac-f21b-49fa-dc22-ba90e3b75859",
        "colab": {
          "base_uri": "https://localhost:8080/"
        }
      },
      "execution_count": 84,
      "outputs": [
        {
          "output_type": "execute_result",
          "data": {
            "text/plain": [
              "[PhysicalDevice(name='/physical_device:CPU:0', device_type='CPU'),\n",
              " PhysicalDevice(name='/physical_device:GPU:0', device_type='GPU')]"
            ]
          },
          "metadata": {},
          "execution_count": 84
        }
      ]
    },
    {
      "cell_type": "code",
      "source": [
        "# Check what type of GPU we have access to\n",
        "\n",
        "!nvidia-smi"
      ],
      "metadata": {
        "id": "yx3O3rt2HlVp",
        "outputId": "eab862c4-c7f5-4362-d90a-efddc7c026f4",
        "colab": {
          "base_uri": "https://localhost:8080/"
        }
      },
      "execution_count": 88,
      "outputs": [
        {
          "output_type": "stream",
          "name": "stdout",
          "text": [
            "Fri May 24 10:27:59 2024       \n",
            "+---------------------------------------------------------------------------------------+\n",
            "| NVIDIA-SMI 535.104.05             Driver Version: 535.104.05   CUDA Version: 12.2     |\n",
            "|-----------------------------------------+----------------------+----------------------+\n",
            "| GPU  Name                 Persistence-M | Bus-Id        Disp.A | Volatile Uncorr. ECC |\n",
            "| Fan  Temp   Perf          Pwr:Usage/Cap |         Memory-Usage | GPU-Util  Compute M. |\n",
            "|                                         |                      |               MIG M. |\n",
            "|=========================================+======================+======================|\n",
            "|   0  Tesla T4                       Off | 00000000:00:04.0 Off |                    0 |\n",
            "| N/A   63C    P0              29W /  70W |    107MiB / 15360MiB |      0%      Default |\n",
            "|                                         |                      |                  N/A |\n",
            "+-----------------------------------------+----------------------+----------------------+\n",
            "                                                                                         \n",
            "+---------------------------------------------------------------------------------------+\n",
            "| Processes:                                                                            |\n",
            "|  GPU   GI   CI        PID   Type   Process name                            GPU Memory |\n",
            "|        ID   ID                                                             Usage      |\n",
            "|=======================================================================================|\n",
            "+---------------------------------------------------------------------------------------+\n"
          ]
        }
      ]
    },
    {
      "cell_type": "markdown",
      "source": [
        "* It seems that we have access to Tesla T4 GPU with more than 16GB of memory."
      ],
      "metadata": {
        "id": "ojnLrMBXJOOy"
      }
    },
    {
      "cell_type": "code",
      "source": [
        "# 1 MiB is 0.001048576 gigabytes, so our exact memory capacity is\n",
        "\n",
        "print(f'{np.round(15360 * 0.001048576, 2)}GB')"
      ],
      "metadata": {
        "id": "szC0TCWnJ_3g",
        "outputId": "4d474cca-7d8e-47a2-fd17-f3a3d6c44a05",
        "colab": {
          "base_uri": "https://localhost:8080/"
        }
      },
      "execution_count": 92,
      "outputs": [
        {
          "output_type": "stream",
          "name": "stdout",
          "text": [
            "16.11GB\n"
          ]
        }
      ]
    },
    {
      "cell_type": "markdown",
      "source": [
        "**NOTE:** If you have access to a CUDA-enabled GPU (we have CUDA Version 12.2), TensorFlow will automatically use it whenever possible."
      ],
      "metadata": {
        "id": "j4C55tlkLhGZ"
      }
    }
  ]
}