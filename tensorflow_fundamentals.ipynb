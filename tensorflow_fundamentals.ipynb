{
  "nbformat": 4,
  "nbformat_minor": 0,
  "metadata": {
    "colab": {
      "provenance": [],
      "authorship_tag": "ABX9TyPoG+10qga78DbhkrFUgm1p",
      "include_colab_link": true
    },
    "kernelspec": {
      "name": "python3",
      "display_name": "Python 3"
    },
    "language_info": {
      "name": "python"
    }
  },
  "cells": [
    {
      "cell_type": "markdown",
      "metadata": {
        "id": "view-in-github",
        "colab_type": "text"
      },
      "source": [
        "<a href=\"https://colab.research.google.com/github/HerraKaava/tensorflow/blob/main/tensorflow_fundamentals.ipynb\" target=\"_parent\"><img src=\"https://colab.research.google.com/assets/colab-badge.svg\" alt=\"Open In Colab\"/></a>"
      ]
    },
    {
      "cell_type": "markdown",
      "source": [
        "<h3 align=\"left\">Workflow</h3>\n",
        "\n",
        "In this notebook, we're going to cover some of the most fundamental concepts of tensors using TensorFlow\n",
        "\n",
        "More specifically, we're going to cover:\n",
        "\n",
        "* Introduction to tensors\n",
        "* Getting information from tensors\n",
        "* Manipulating tensors\n",
        "* Tensors & NumPy\n",
        "* Using @tf.function (a way to speed up your regular Python functions)\n",
        "* Using GPUs with TensorFlow (or TPUs)"
      ],
      "metadata": {
        "id": "Kt65jOQULAw6"
      }
    },
    {
      "cell_type": "code",
      "source": [
        "import tensorflow as tf\n",
        "import numpy as np"
      ],
      "metadata": {
        "id": "HVPIbqVn4TgY"
      },
      "execution_count": 3,
      "outputs": []
    },
    {
      "cell_type": "code",
      "source": [
        "print(tf.__version__)"
      ],
      "metadata": {
        "colab": {
          "base_uri": "https://localhost:8080/"
        },
        "id": "3sF26_KtrKDf",
        "outputId": "0737a3e8-75f1-4b62-b1b1-acb5af5e1aa9"
      },
      "execution_count": 4,
      "outputs": [
        {
          "output_type": "stream",
          "name": "stdout",
          "text": [
            "2.15.0\n"
          ]
        }
      ]
    },
    {
      "cell_type": "markdown",
      "source": [
        "<br>"
      ],
      "metadata": {
        "id": "IIgCUzld4Ti9"
      }
    },
    {
      "cell_type": "markdown",
      "source": [
        "<h1 align\"center\"=>Introduction to Tensors</h1>"
      ],
      "metadata": {
        "id": "zbcOYXZWQTOv"
      }
    },
    {
      "cell_type": "markdown",
      "source": [
        "<h3>Creating tensors with tf.constant()</h3>"
      ],
      "metadata": {
        "id": "xx7d4geGWB_S"
      }
    },
    {
      "cell_type": "code",
      "source": [
        "scalar = tf.constant(7)\n",
        "scalar"
      ],
      "metadata": {
        "colab": {
          "base_uri": "https://localhost:8080/"
        },
        "id": "hN4AB6qfWKcs",
        "outputId": "caf5d715-cdff-4548-851d-e498fb72df09"
      },
      "execution_count": 5,
      "outputs": [
        {
          "output_type": "execute_result",
          "data": {
            "text/plain": [
              "<tf.Tensor: shape=(), dtype=int32, numpy=7>"
            ]
          },
          "metadata": {},
          "execution_count": 5
        }
      ]
    },
    {
      "cell_type": "code",
      "source": [
        "# Check the number of dimensions of a tensor\n",
        "\n",
        "scalar.ndim"
      ],
      "metadata": {
        "colab": {
          "base_uri": "https://localhost:8080/"
        },
        "id": "4ANzhe3zXhgD",
        "outputId": "240bf3ea-942c-4056-b656-31df908b1aa7"
      },
      "execution_count": 6,
      "outputs": [
        {
          "output_type": "execute_result",
          "data": {
            "text/plain": [
              "0"
            ]
          },
          "metadata": {},
          "execution_count": 6
        }
      ]
    },
    {
      "cell_type": "code",
      "source": [
        "# Create a vector\n",
        "\n",
        "vector = tf.constant([10, 10])\n",
        "vector"
      ],
      "metadata": {
        "colab": {
          "base_uri": "https://localhost:8080/"
        },
        "id": "b7LA1Aj1Xkq-",
        "outputId": "c38093f8-3ae8-4011-dc79-4a475328615d"
      },
      "execution_count": 7,
      "outputs": [
        {
          "output_type": "execute_result",
          "data": {
            "text/plain": [
              "<tf.Tensor: shape=(2,), dtype=int32, numpy=array([10, 10], dtype=int32)>"
            ]
          },
          "metadata": {},
          "execution_count": 7
        }
      ]
    },
    {
      "cell_type": "code",
      "source": [
        "# Check the dimension of our vector\n",
        "\n",
        "vector.ndim"
      ],
      "metadata": {
        "colab": {
          "base_uri": "https://localhost:8080/"
        },
        "id": "8xR9kS5dXktg",
        "outputId": "02bbf76f-f2fa-41de-e52a-d606125ab3e1"
      },
      "execution_count": 8,
      "outputs": [
        {
          "output_type": "execute_result",
          "data": {
            "text/plain": [
              "1"
            ]
          },
          "metadata": {},
          "execution_count": 8
        }
      ]
    },
    {
      "cell_type": "code",
      "source": [
        "# Create a matrix\n",
        "\n",
        "matrix = tf.constant([[10, 7],\n",
        "                      [7, 10]])\n",
        "matrix"
      ],
      "metadata": {
        "colab": {
          "base_uri": "https://localhost:8080/"
        },
        "id": "h3aFEfFvXkwk",
        "outputId": "69656441-a6fc-4bd6-a17a-e5cd497718ce"
      },
      "execution_count": 9,
      "outputs": [
        {
          "output_type": "execute_result",
          "data": {
            "text/plain": [
              "<tf.Tensor: shape=(2, 2), dtype=int32, numpy=\n",
              "array([[10,  7],\n",
              "       [ 7, 10]], dtype=int32)>"
            ]
          },
          "metadata": {},
          "execution_count": 9
        }
      ]
    },
    {
      "cell_type": "code",
      "source": [
        "matrix.ndim"
      ],
      "metadata": {
        "colab": {
          "base_uri": "https://localhost:8080/"
        },
        "id": "fTTwCTIPX6Sb",
        "outputId": "54dc82a3-9ec2-4f32-a312-a31eb3b5c85b"
      },
      "execution_count": 10,
      "outputs": [
        {
          "output_type": "execute_result",
          "data": {
            "text/plain": [
              "2"
            ]
          },
          "metadata": {},
          "execution_count": 10
        }
      ]
    },
    {
      "cell_type": "code",
      "source": [
        "# Let's create another matrix with flaot16 dtype\n",
        "\n",
        "matrix2 = tf.constant([[10., 7.],\n",
        "                       [3., 2.],\n",
        "                       [8., 9.]],\n",
        "                      dtype=tf.float16)\n",
        "matrix2"
      ],
      "metadata": {
        "colab": {
          "base_uri": "https://localhost:8080/"
        },
        "id": "zYbJ7fRDX6Uh",
        "outputId": "1e680a1b-e2e9-4236-b26d-1b36caf9965a"
      },
      "execution_count": 11,
      "outputs": [
        {
          "output_type": "execute_result",
          "data": {
            "text/plain": [
              "<tf.Tensor: shape=(3, 2), dtype=float16, numpy=\n",
              "array([[10.,  7.],\n",
              "       [ 3.,  2.],\n",
              "       [ 8.,  9.]], dtype=float16)>"
            ]
          },
          "metadata": {},
          "execution_count": 11
        }
      ]
    },
    {
      "cell_type": "markdown",
      "source": [
        "* By default, dtype with tf.constant() is int32 (32-bit precision).\n",
        "* The higher the number of precision, the more exact these numbers are stored on your computer.\n",
        "* So float16 < float32 for the same number n.\n",
        "* This also means that the lower the precision, the less space it takes to store it on your computer."
      ],
      "metadata": {
        "id": "OU_O27GyZkZm"
      }
    },
    {
      "cell_type": "code",
      "source": [
        "matrix2.ndim"
      ],
      "metadata": {
        "colab": {
          "base_uri": "https://localhost:8080/"
        },
        "id": "uVHgIq2lX6W3",
        "outputId": "8211f2da-296b-4456-c15e-0ee5e0584fea"
      },
      "execution_count": 12,
      "outputs": [
        {
          "output_type": "execute_result",
          "data": {
            "text/plain": [
              "2"
            ]
          },
          "metadata": {},
          "execution_count": 12
        }
      ]
    },
    {
      "cell_type": "code",
      "source": [
        "# Let's create a tensor (ndim > 2)\n",
        "\n",
        "tensor = tf.constant([[[1, 2, 3],\n",
        "                       [4, 5, 6]],\n",
        "                     [[7, 8, 9],\n",
        "                      [10, 11, 12]]])\n",
        "tensor"
      ],
      "metadata": {
        "colab": {
          "base_uri": "https://localhost:8080/"
        },
        "id": "EpxsPVFFX6ZM",
        "outputId": "6c6e27ab-aed2-434a-e4ae-d8076ac8a514"
      },
      "execution_count": 13,
      "outputs": [
        {
          "output_type": "execute_result",
          "data": {
            "text/plain": [
              "<tf.Tensor: shape=(2, 2, 3), dtype=int32, numpy=\n",
              "array([[[ 1,  2,  3],\n",
              "        [ 4,  5,  6]],\n",
              "\n",
              "       [[ 7,  8,  9],\n",
              "        [10, 11, 12]]], dtype=int32)>"
            ]
          },
          "metadata": {},
          "execution_count": 13
        }
      ]
    },
    {
      "cell_type": "code",
      "source": [
        "tensor.ndim"
      ],
      "metadata": {
        "colab": {
          "base_uri": "https://localhost:8080/"
        },
        "id": "bI55lqBdX6bZ",
        "outputId": "82f0324e-4fde-4f8f-ab91-b84164d5ebe7"
      },
      "execution_count": 14,
      "outputs": [
        {
          "output_type": "execute_result",
          "data": {
            "text/plain": [
              "3"
            ]
          },
          "metadata": {},
          "execution_count": 14
        }
      ]
    },
    {
      "cell_type": "markdown",
      "source": [
        "* The number of elements in the shape object correspond to the number of dimensions in a tensor.\n",
        "* Notice that the dimensions of a tensor are affected by where you place the square brackets."
      ],
      "metadata": {
        "id": "d6BviCxYbS2O"
      }
    },
    {
      "cell_type": "markdown",
      "source": [
        "What we've created so far:\n",
        "\n",
        "* scalar: a single number\n",
        "* vector: a number with direction (e.g., wind speed and direction)\n",
        "* matrix: a 2-dimensional array of numbers\n",
        "* tensor: an n-dimensional array of numebrs\n"
      ],
      "metadata": {
        "id": "iXDu_XkMbhDl"
      }
    },
    {
      "cell_type": "markdown",
      "source": [
        "Notice that\n",
        "\n",
        "* 0-dimensional tensor is a scalar\n",
        "* 1-dimensional tensor is a vector\n",
        "* 2-dimensional tensor is a matrix"
      ],
      "metadata": {
        "id": "mfIWAis_b3tM"
      }
    },
    {
      "cell_type": "markdown",
      "source": [
        "<br>"
      ],
      "metadata": {
        "id": "YjUzy0qpcA7L"
      }
    },
    {
      "cell_type": "markdown",
      "source": [
        "<h3>Creating tensors with tf.Variable()</h3>"
      ],
      "metadata": {
        "id": "0YJooxeBcA-W"
      }
    },
    {
      "cell_type": "code",
      "source": [
        "changeable_tensor = tf.Variable([10, 7])\n",
        "unchangeable_tensor = tf.constant([10, 7])"
      ],
      "metadata": {
        "id": "XL4gMyorcKl5"
      },
      "execution_count": 15,
      "outputs": []
    },
    {
      "cell_type": "code",
      "source": [
        "# Let's try to change one of the elements in our changeable tensor\n",
        "\n",
        "changeable_tensor[0].assign(7)"
      ],
      "metadata": {
        "colab": {
          "base_uri": "https://localhost:8080/"
        },
        "id": "wFv9GsIUcNUZ",
        "outputId": "462e61d3-4a94-4eef-a6a6-5371afaf1201"
      },
      "execution_count": 16,
      "outputs": [
        {
          "output_type": "execute_result",
          "data": {
            "text/plain": [
              "<tf.Variable 'UnreadVariable' shape=(2,) dtype=int32, numpy=array([7, 7], dtype=int32)>"
            ]
          },
          "metadata": {},
          "execution_count": 16
        }
      ]
    },
    {
      "cell_type": "markdown",
      "source": [
        "* Notice that *tf.variable()* objects are **mutable**.\n",
        "* In Python, an object is considered mutable, if its value can be changed after creating it.\n",
        "* Notice that the assign() function assigns values in-place."
      ],
      "metadata": {
        "id": "r9iBEvVDcaIz"
      }
    },
    {
      "cell_type": "code",
      "source": [
        "# Uncomment and run to see the error message\n",
        "\n",
        "# unchangeable_tensor[0].assign(7)"
      ],
      "metadata": {
        "id": "QM-zV8qIc_HE"
      },
      "execution_count": 17,
      "outputs": []
    },
    {
      "cell_type": "markdown",
      "source": [
        "* AttributeError: 'tensorflow.python.framework.ops.EagerTensor' object has no attribute 'assign'\n",
        "* This is because *tf.constant()* objects are **immutable**.\n",
        "* In Python, an object is considered immutable, if its value cannot be changed after it has been created."
      ],
      "metadata": {
        "id": "73s_x2y_dHks"
      }
    },
    {
      "cell_type": "markdown",
      "source": [
        "**NOTE**\n",
        "\n",
        "* Rarely in practice you'll need to decide whether to use *tf.constant()* or *tf.variable()* to create tensors, as TensorFlow does this for you."
      ],
      "metadata": {
        "id": "vC_rU6-xdV3O"
      }
    },
    {
      "cell_type": "markdown",
      "source": [
        "<br>"
      ],
      "metadata": {
        "id": "Coiys47NdgrH"
      }
    },
    {
      "cell_type": "markdown",
      "source": [
        "<h3>Creating random tensors</h3>"
      ],
      "metadata": {
        "id": "ISsk9T--dg0z"
      }
    },
    {
      "cell_type": "markdown",
      "source": [
        "* Random tensors are tensors of some arbitrary size with random numbers."
      ],
      "metadata": {
        "id": "hex4oW_Adofs"
      }
    },
    {
      "cell_type": "code",
      "source": [
        "# Initialize a new random number generator using the seed value 42.\n",
        "# This part does not initialize any tensor values.\n",
        "# Here we only set up a generator that can be used to create random values\n",
        "\n",
        "rng = tf.random.Generator.from_seed(42)"
      ],
      "metadata": {
        "id": "9OsMFNtndzrF"
      },
      "execution_count": 18,
      "outputs": []
    },
    {
      "cell_type": "code",
      "source": [
        "# Assign random data from a standard normal distribution into the rng object\n",
        "\n",
        "rng = rng.normal(shape=(3,2))"
      ],
      "metadata": {
        "id": "BhAlMFHreJ8q"
      },
      "execution_count": 19,
      "outputs": []
    },
    {
      "cell_type": "code",
      "source": [
        "rng"
      ],
      "metadata": {
        "colab": {
          "base_uri": "https://localhost:8080/"
        },
        "id": "YtHoxsPTeFL6",
        "outputId": "175c0b08-5e5d-49f4-d6e5-620cf65947be"
      },
      "execution_count": 20,
      "outputs": [
        {
          "output_type": "execute_result",
          "data": {
            "text/plain": [
              "<tf.Tensor: shape=(3, 2), dtype=float32, numpy=\n",
              "array([[-0.7565803 , -0.06854702],\n",
              "       [ 0.07595026, -1.2573844 ],\n",
              "       [-0.23193763, -1.8107855 ]], dtype=float32)>"
            ]
          },
          "metadata": {},
          "execution_count": 20
        }
      ]
    },
    {
      "cell_type": "code",
      "source": [
        "# Shuffle the order of elements in a tensor\n",
        "\n",
        "arr = tf.constant([[10,7],\n",
        "                   [3,4],\n",
        "                   [2,5]])\n",
        "\n",
        "tf.random.shuffle(arr)"
      ],
      "metadata": {
        "colab": {
          "base_uri": "https://localhost:8080/"
        },
        "id": "xOQsv7tYjCfA",
        "outputId": "08f2d447-e9dd-4ee6-95a3-75c81e5853bf"
      },
      "execution_count": 21,
      "outputs": [
        {
          "output_type": "execute_result",
          "data": {
            "text/plain": [
              "<tf.Tensor: shape=(3, 2), dtype=int32, numpy=\n",
              "array([[ 2,  5],\n",
              "       [ 3,  4],\n",
              "       [10,  7]], dtype=int32)>"
            ]
          },
          "metadata": {},
          "execution_count": 21
        }
      ]
    },
    {
      "cell_type": "markdown",
      "source": [
        "* Note that random.shuffle() shuffles the elements along its first dimension.\n",
        "* Since the first dimension stands for rows (3), only the rows gets shuffled, and the order of the elements in the rows stays the same."
      ],
      "metadata": {
        "id": "KuH5OmOtmOUx"
      }
    },
    {
      "cell_type": "markdown",
      "source": [
        "If you want to get the same results for reproducibility, you'll have to set a global random seed."
      ],
      "metadata": {
        "id": "2ScJyDIWnzsc"
      }
    },
    {
      "cell_type": "code",
      "source": [
        "# Global random seed\n",
        "\n",
        "tf.random.set_seed(42)\n",
        "tf.random.shuffle(arr)"
      ],
      "metadata": {
        "colab": {
          "base_uri": "https://localhost:8080/"
        },
        "id": "mbK9egeimf9n",
        "outputId": "be157e1c-c57d-479e-e0ce-dc6391545496"
      },
      "execution_count": 22,
      "outputs": [
        {
          "output_type": "execute_result",
          "data": {
            "text/plain": [
              "<tf.Tensor: shape=(3, 2), dtype=int32, numpy=\n",
              "array([[ 3,  4],\n",
              "       [ 2,  5],\n",
              "       [10,  7]], dtype=int32)>"
            ]
          },
          "metadata": {},
          "execution_count": 22
        }
      ]
    },
    {
      "cell_type": "markdown",
      "source": [
        "* This produces the same pseudo random numbers every time the code is ran."
      ],
      "metadata": {
        "id": "zhxLD_BfoKla"
      }
    },
    {
      "cell_type": "code",
      "source": [
        "tf.random.shuffle(arr, seed=42)"
      ],
      "metadata": {
        "colab": {
          "base_uri": "https://localhost:8080/"
        },
        "id": "M-_DM2MolWS9",
        "outputId": "ff2acc3b-e4c0-4987-e8f5-76a7e0c791bb"
      },
      "execution_count": 23,
      "outputs": [
        {
          "output_type": "execute_result",
          "data": {
            "text/plain": [
              "<tf.Tensor: shape=(3, 2), dtype=int32, numpy=\n",
              "array([[10,  7],\n",
              "       [ 3,  4],\n",
              "       [ 2,  5]], dtype=int32)>"
            ]
          },
          "metadata": {},
          "execution_count": 23
        }
      ]
    },
    {
      "cell_type": "markdown",
      "source": [
        "* This does not produce the same pseudo random numbers, because specifying the seed number inside a function is an operation level seed (not global).\n",
        "* If both the global and the operation seed are set, both seeds are used in conjunction to determine the random sequence.\n",
        "* This means that specifying both global and operation level seeds will produce different pseudo random numbers than just specifying a global random seed.\n",
        "* [tf.random.set_seed](https://www.tensorflow.org/api_docs/python/tf/random/set_seed)"
      ],
      "metadata": {
        "id": "8eagL79AoVhC"
      }
    },
    {
      "cell_type": "markdown",
      "source": [
        "<br>"
      ],
      "metadata": {
        "id": "JpzyZM_1ocmo"
      }
    },
    {
      "cell_type": "markdown",
      "source": [
        "<h3>Creating tensors from NumPy arrays</h3>"
      ],
      "metadata": {
        "id": "i-y7S29MpJin"
      }
    },
    {
      "cell_type": "code",
      "source": [
        "# Create a tensor of ones\n",
        "\n",
        "tf.ones([4, 4])"
      ],
      "metadata": {
        "colab": {
          "base_uri": "https://localhost:8080/"
        },
        "id": "-tUW5-dKqX97",
        "outputId": "2fe82288-e6d1-4a48-a82a-d59aa790f768"
      },
      "execution_count": 24,
      "outputs": [
        {
          "output_type": "execute_result",
          "data": {
            "text/plain": [
              "<tf.Tensor: shape=(4, 4), dtype=float32, numpy=\n",
              "array([[1., 1., 1., 1.],\n",
              "       [1., 1., 1., 1.],\n",
              "       [1., 1., 1., 1.],\n",
              "       [1., 1., 1., 1.]], dtype=float32)>"
            ]
          },
          "metadata": {},
          "execution_count": 24
        }
      ]
    },
    {
      "cell_type": "code",
      "source": [
        "# Create a tensor of zeros\n",
        "\n",
        "tf.zeros(shape=(4,4))"
      ],
      "metadata": {
        "colab": {
          "base_uri": "https://localhost:8080/"
        },
        "id": "z5SnEQpyqa6c",
        "outputId": "71c05440-e876-44c2-adf9-ff31c269d381"
      },
      "execution_count": 25,
      "outputs": [
        {
          "output_type": "execute_result",
          "data": {
            "text/plain": [
              "<tf.Tensor: shape=(4, 4), dtype=float32, numpy=\n",
              "array([[0., 0., 0., 0.],\n",
              "       [0., 0., 0., 0.],\n",
              "       [0., 0., 0., 0.],\n",
              "       [0., 0., 0., 0.]], dtype=float32)>"
            ]
          },
          "metadata": {},
          "execution_count": 25
        }
      ]
    },
    {
      "cell_type": "markdown",
      "source": [
        "**Turning NumPy arrays into tensors**"
      ],
      "metadata": {
        "id": "XN0SUn29qpM9"
      }
    },
    {
      "cell_type": "markdown",
      "source": [
        "* The main difference between NumPy arrays and TensorFlow tensors is that tensors can be run on a GPU (much faster for numerical computing)."
      ],
      "metadata": {
        "id": "TFfg5qblqvrw"
      }
    },
    {
      "cell_type": "code",
      "source": [
        "numpy_arr = np.arange(1, 25, dtype=np.int32)"
      ],
      "metadata": {
        "id": "4FCVMRImreft"
      },
      "execution_count": 26,
      "outputs": []
    },
    {
      "cell_type": "code",
      "source": [
        "tf.constant(numpy_arr)"
      ],
      "metadata": {
        "colab": {
          "base_uri": "https://localhost:8080/"
        },
        "id": "78XdOQQdr0ef",
        "outputId": "2026b48e-73d8-407d-b129-925d387b0fd6"
      },
      "execution_count": 27,
      "outputs": [
        {
          "output_type": "execute_result",
          "data": {
            "text/plain": [
              "<tf.Tensor: shape=(24,), dtype=int32, numpy=\n",
              "array([ 1,  2,  3,  4,  5,  6,  7,  8,  9, 10, 11, 12, 13, 14, 15, 16, 17,\n",
              "       18, 19, 20, 21, 22, 23, 24], dtype=int32)>"
            ]
          },
          "metadata": {},
          "execution_count": 27
        }
      ]
    },
    {
      "cell_type": "markdown",
      "source": [
        "* As seen above, NumPy arrays can be directly converted into tf tensors.\n",
        "* We can also modify the shape of the converted numpy array as long as the size matches the new dimensions.\n",
        "* For example, since *numpy_arr* has size 24, we can change its shape into (2,3,4), because $2*3*4 = 24.$"
      ],
      "metadata": {
        "id": "mJe8TZCyr8CQ"
      }
    },
    {
      "cell_type": "code",
      "source": [
        "tf.constant(numpy_arr, shape=(2,3,4))"
      ],
      "metadata": {
        "colab": {
          "base_uri": "https://localhost:8080/"
        },
        "id": "cGq3dcFer0su",
        "outputId": "d81e2097-5f7e-401f-8d3b-4510e4b06d77"
      },
      "execution_count": 29,
      "outputs": [
        {
          "output_type": "execute_result",
          "data": {
            "text/plain": [
              "<tf.Tensor: shape=(2, 3, 4), dtype=int32, numpy=\n",
              "array([[[ 1,  2,  3,  4],\n",
              "        [ 5,  6,  7,  8],\n",
              "        [ 9, 10, 11, 12]],\n",
              "\n",
              "       [[13, 14, 15, 16],\n",
              "        [17, 18, 19, 20],\n",
              "        [21, 22, 23, 24]]], dtype=int32)>"
            ]
          },
          "metadata": {},
          "execution_count": 29
        }
      ]
    },
    {
      "cell_type": "code",
      "source": [
        "tf.constant(numpy_arr, shape=(3,8), dtype=np.int32)"
      ],
      "metadata": {
        "id": "L970cXKnr0u7",
        "outputId": "bf313da2-f988-4186-92a9-faae654aafff",
        "colab": {
          "base_uri": "https://localhost:8080/"
        }
      },
      "execution_count": 31,
      "outputs": [
        {
          "output_type": "execute_result",
          "data": {
            "text/plain": [
              "<tf.Tensor: shape=(3, 8), dtype=int32, numpy=\n",
              "array([[ 1,  2,  3,  4,  5,  6,  7,  8],\n",
              "       [ 9, 10, 11, 12, 13, 14, 15, 16],\n",
              "       [17, 18, 19, 20, 21, 22, 23, 24]], dtype=int32)>"
            ]
          },
          "metadata": {},
          "execution_count": 31
        }
      ]
    },
    {
      "cell_type": "markdown",
      "source": [
        "<br>"
      ],
      "metadata": {
        "id": "-q9dG9Jj8GSg"
      }
    },
    {
      "cell_type": "markdown",
      "source": [
        "<h3>Getting information from your tensors</h3>"
      ],
      "metadata": {
        "id": "VIXcikII8H5F"
      }
    },
    {
      "cell_type": "markdown",
      "source": [
        "Some important tensor attributes include\n",
        "\n",
        "* shape\n",
        "  * the length (number of elements) of each of the dimensions of a tensor.\n",
        "\n",
        "* rank\n",
        "  * the number of tensor dimensions.\n",
        "\n",
        "* axis or dimension\n",
        "  * a particular dimension of a tensor.\n",
        "\n",
        "* size\n",
        "  * the total number of elements in the tensor."
      ],
      "metadata": {
        "id": "4VIN-pkq89QZ"
      }
    },
    {
      "cell_type": "code",
      "source": [
        "# Create a rank 4 tensor\n",
        "\n",
        "t4 = tf.zeros(shape=(2,3,4,5))\n",
        "t4"
      ],
      "metadata": {
        "id": "7bTXuNz27TqP",
        "outputId": "0933107e-4fc5-4b91-a61f-925572a52708",
        "colab": {
          "base_uri": "https://localhost:8080/"
        }
      },
      "execution_count": 32,
      "outputs": [
        {
          "output_type": "execute_result",
          "data": {
            "text/plain": [
              "<tf.Tensor: shape=(2, 3, 4, 5), dtype=float32, numpy=\n",
              "array([[[[0., 0., 0., 0., 0.],\n",
              "         [0., 0., 0., 0., 0.],\n",
              "         [0., 0., 0., 0., 0.],\n",
              "         [0., 0., 0., 0., 0.]],\n",
              "\n",
              "        [[0., 0., 0., 0., 0.],\n",
              "         [0., 0., 0., 0., 0.],\n",
              "         [0., 0., 0., 0., 0.],\n",
              "         [0., 0., 0., 0., 0.]],\n",
              "\n",
              "        [[0., 0., 0., 0., 0.],\n",
              "         [0., 0., 0., 0., 0.],\n",
              "         [0., 0., 0., 0., 0.],\n",
              "         [0., 0., 0., 0., 0.]]],\n",
              "\n",
              "\n",
              "       [[[0., 0., 0., 0., 0.],\n",
              "         [0., 0., 0., 0., 0.],\n",
              "         [0., 0., 0., 0., 0.],\n",
              "         [0., 0., 0., 0., 0.]],\n",
              "\n",
              "        [[0., 0., 0., 0., 0.],\n",
              "         [0., 0., 0., 0., 0.],\n",
              "         [0., 0., 0., 0., 0.],\n",
              "         [0., 0., 0., 0., 0.]],\n",
              "\n",
              "        [[0., 0., 0., 0., 0.],\n",
              "         [0., 0., 0., 0., 0.],\n",
              "         [0., 0., 0., 0., 0.],\n",
              "         [0., 0., 0., 0., 0.]]]], dtype=float32)>"
            ]
          },
          "metadata": {},
          "execution_count": 32
        }
      ]
    },
    {
      "cell_type": "code",
      "source": [
        "t4.ndim"
      ],
      "metadata": {
        "id": "0IYb35Fm7TtQ",
        "outputId": "00d3ab14-122a-4d17-b9f4-0436c601b3a6",
        "colab": {
          "base_uri": "https://localhost:8080/"
        }
      },
      "execution_count": 33,
      "outputs": [
        {
          "output_type": "execute_result",
          "data": {
            "text/plain": [
              "4"
            ]
          },
          "metadata": {},
          "execution_count": 33
        }
      ]
    },
    {
      "cell_type": "code",
      "source": [
        "# Play with this indexing, and you'll understand how to slice tensors.\n",
        "\n",
        "t4[0]"
      ],
      "metadata": {
        "id": "U1fQ_iuv7Tvh",
        "outputId": "edb18783-c24c-434a-8333-d2eadfc90afe",
        "colab": {
          "base_uri": "https://localhost:8080/"
        }
      },
      "execution_count": 37,
      "outputs": [
        {
          "output_type": "execute_result",
          "data": {
            "text/plain": [
              "<tf.Tensor: shape=(3, 4, 5), dtype=float32, numpy=\n",
              "array([[[0., 0., 0., 0., 0.],\n",
              "        [0., 0., 0., 0., 0.],\n",
              "        [0., 0., 0., 0., 0.],\n",
              "        [0., 0., 0., 0., 0.]],\n",
              "\n",
              "       [[0., 0., 0., 0., 0.],\n",
              "        [0., 0., 0., 0., 0.],\n",
              "        [0., 0., 0., 0., 0.],\n",
              "        [0., 0., 0., 0., 0.]],\n",
              "\n",
              "       [[0., 0., 0., 0., 0.],\n",
              "        [0., 0., 0., 0., 0.],\n",
              "        [0., 0., 0., 0., 0.],\n",
              "        [0., 0., 0., 0., 0.]]], dtype=float32)>"
            ]
          },
          "metadata": {},
          "execution_count": 37
        }
      ]
    },
    {
      "cell_type": "code",
      "source": [
        "tf.size(t4)"
      ],
      "metadata": {
        "id": "5BlE85wm7TyJ",
        "outputId": "e2951da8-3c4f-42fb-f782-a31901bdef4e",
        "colab": {
          "base_uri": "https://localhost:8080/"
        }
      },
      "execution_count": 40,
      "outputs": [
        {
          "output_type": "execute_result",
          "data": {
            "text/plain": [
              "<tf.Tensor: shape=(), dtype=int32, numpy=120>"
            ]
          },
          "metadata": {},
          "execution_count": 40
        }
      ]
    },
    {
      "cell_type": "code",
      "source": [
        "2*3*4*5"
      ],
      "metadata": {
        "id": "XV3TW16-7T0o",
        "outputId": "7de194b8-593d-4832-99c8-54525af6b082",
        "colab": {
          "base_uri": "https://localhost:8080/"
        }
      },
      "execution_count": 42,
      "outputs": [
        {
          "output_type": "execute_result",
          "data": {
            "text/plain": [
              "120"
            ]
          },
          "metadata": {},
          "execution_count": 42
        }
      ]
    },
    {
      "cell_type": "code",
      "source": [
        "t4[0, 0, :, :]"
      ],
      "metadata": {
        "id": "XuYsqyNV_2Ts",
        "outputId": "6d58f915-330a-4949-ce65-a634b3586855",
        "colab": {
          "base_uri": "https://localhost:8080/"
        }
      },
      "execution_count": 47,
      "outputs": [
        {
          "output_type": "execute_result",
          "data": {
            "text/plain": [
              "<tf.Tensor: shape=(4, 5), dtype=float32, numpy=\n",
              "array([[0., 0., 0., 0., 0.],\n",
              "       [0., 0., 0., 0., 0.],\n",
              "       [0., 0., 0., 0., 0.],\n",
              "       [0., 0., 0., 0., 0.]], dtype=float32)>"
            ]
          },
          "metadata": {},
          "execution_count": 47
        }
      ]
    }
  ]
}