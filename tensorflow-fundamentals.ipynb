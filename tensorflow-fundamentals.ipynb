{
 "cells": [
  {
   "cell_type": "markdown",
   "id": "552e6a5b",
   "metadata": {},
   "source": [
    "<h3 align=\"left\">Workflow</h3>"
   ]
  },
  {
   "cell_type": "markdown",
   "id": "d1cec988",
   "metadata": {},
   "source": [
    "In this notebook, we're going to cover some of the most fundamental concepts of tensors using TensorFlow.\n",
    "\n",
    "More specifically, we're going to cover:\n",
    "\n",
    "- Introduction to tensors\n",
    "- Getting information from tensors\n",
    "- Manipulating tensors\n",
    "- Tensors & NumPy\n",
    "- Using @tf.function (a way to speed up your regular Python functions)\n",
    "- Using GPUs with TensorFlow (or TPUs)"
   ]
  },
  {
   "cell_type": "code",
   "execution_count": null,
   "id": "efe88b0b",
   "metadata": {},
   "outputs": [],
   "source": []
  },
  {
   "cell_type": "code",
   "execution_count": 3,
   "id": "9ccf7bac",
   "metadata": {},
   "outputs": [],
   "source": [
    "import tensorflow as tf"
   ]
  },
  {
   "cell_type": "code",
   "execution_count": 4,
   "id": "92750433",
   "metadata": {},
   "outputs": [
    {
     "name": "stdout",
     "output_type": "stream",
     "text": [
      "2.12.0\n"
     ]
    }
   ],
   "source": [
    "print(tf.__version__)"
   ]
  }
 ],
 "metadata": {
  "kernelspec": {
   "display_name": "Python 3 (ipykernel)",
   "language": "python",
   "name": "python3"
  },
  "language_info": {
   "codemirror_mode": {
    "name": "ipython",
    "version": 3
   },
   "file_extension": ".py",
   "mimetype": "text/x-python",
   "name": "python",
   "nbconvert_exporter": "python",
   "pygments_lexer": "ipython3",
   "version": "3.11.5"
  }
 },
 "nbformat": 4,
 "nbformat_minor": 5
}
