{
  "nbformat": 4,
  "nbformat_minor": 0,
  "metadata": {
    "colab": {
      "provenance": [],
      "authorship_tag": "ABX9TyMrFbiehSJibPui0ZhCcJMV",
      "include_colab_link": true
    },
    "kernelspec": {
      "name": "python3",
      "display_name": "Python 3"
    },
    "language_info": {
      "name": "python"
    }
  },
  "cells": [
    {
      "cell_type": "markdown",
      "metadata": {
        "id": "view-in-github",
        "colab_type": "text"
      },
      "source": [
        "<a href=\"https://colab.research.google.com/github/HerraKaava/tensorflow/blob/main/NN-Regression/Basic_modelling.ipynb\" target=\"_parent\"><img src=\"https://colab.research.google.com/assets/colab-badge.svg\" alt=\"Open In Colab\"/></a>"
      ]
    },
    {
      "cell_type": "markdown",
      "source": [
        "<h1>The major steps in modelling with TensorFlow</h1>"
      ],
      "metadata": {
        "id": "LKF6OR79tdrD"
      }
    },
    {
      "cell_type": "markdown",
      "source": [
        "1. Creating a model - define the input and output layers, as well as the hidden layers of a deep learning model.\n",
        "2. Compiling a model - define the loss function (in other words, the function which tells our model how wrong it is), the optimizer (tells our model how to improve the patterns its learning), and evaluation metrics (what we can use to interpret the performance of our model).\n",
        "3. Fitting a model - letting the model to try and find patterns between the features and the labels."
      ],
      "metadata": {
        "id": "sVaGm5xjzx6c"
      }
    },
    {
      "cell_type": "markdown",
      "source": [
        "Note. There are many definitions for a regression problem, but in our case, we're going to simplify it: predicting a continuous (output) variable based on some combination of (explanatory) variables."
      ],
      "metadata": {
        "id": "aubCSQuSvvKA"
      }
    },
    {
      "cell_type": "markdown",
      "source": [
        "<br>"
      ],
      "metadata": {
        "id": "ZBrjRwo3tnIn"
      }
    },
    {
      "cell_type": "code",
      "source": [
        "import tensorflow as tf\n",
        "import numpy as np\n",
        "import matplotlib.pyplot as plt\n",
        "from sklearn.model_selection import train_test_split"
      ],
      "metadata": {
        "id": "gFW5kfxnwE4L"
      },
      "execution_count": 1,
      "outputs": []
    },
    {
      "cell_type": "code",
      "source": [
        "print(tf.__version__)"
      ],
      "metadata": {
        "colab": {
          "base_uri": "https://localhost:8080/"
        },
        "id": "jMfTSKD9wGeP",
        "outputId": "8d1f9f98-e050-4c56-8b8c-f4d15253de19"
      },
      "execution_count": 2,
      "outputs": [
        {
          "output_type": "stream",
          "name": "stdout",
          "text": [
            "2.15.0\n"
          ]
        }
      ]
    },
    {
      "cell_type": "markdown",
      "source": [
        "<h3>Creating sample regression data</h3>\n",
        "\n",
        "\n"
      ],
      "metadata": {
        "id": "BiQUtdf_to0H"
      }
    },
    {
      "cell_type": "code",
      "source": [
        "# Create features\n",
        "X = np.array([-7.0, -4.0, -1.0, 2.0, 5.0, 8.0, 11.0, 14.0])\n",
        "\n",
        "# Create labels\n",
        "y = np.array([3.0, 6.0, 9.0, 12.0, 15.0, 18.0, 21.0, 24.0])"
      ],
      "metadata": {
        "id": "mPSOF178v7jn"
      },
      "execution_count": null,
      "outputs": []
    },
    {
      "cell_type": "code",
      "source": [
        "# Visualize the relationship between X and y\n",
        "plt.scatter(X, y);"
      ],
      "metadata": {
        "colab": {
          "base_uri": "https://localhost:8080/",
          "height": 435
        },
        "id": "tsyjQN7Rwhy_",
        "outputId": "181a1792-7694-426e-b27a-28f528bde50b"
      },
      "execution_count": null,
      "outputs": [
        {
          "output_type": "display_data",
          "data": {
            "text/plain": [
              "<Figure size 640x480 with 1 Axes>"
            ],
            "image/png": "[encoded data removed]"
          },
          "metadata": {}
        }
      ]
    },
    {
      "cell_type": "code",
      "source": [
        "(y == X+10).all()"
      ],
      "metadata": {
        "colab": {
          "base_uri": "https://localhost:8080/"
        },
        "id": "wr3GqHgqw7aY",
        "outputId": "7d39b67f-8466-4d56-98a3-0b126e4da4dc"
      },
      "execution_count": null,
      "outputs": [
        {
          "output_type": "execute_result",
          "data": {
            "text/plain": [
              "True"
            ]
          },
          "metadata": {},
          "execution_count": 11
        }
      ]
    },
    {
      "cell_type": "markdown",
      "source": [
        "<br>"
      ],
      "metadata": {
        "id": "EwESwok1xoOa"
      }
    },
    {
      "cell_type": "markdown",
      "source": [
        "<h3>Input and output shapes</h3>"
      ],
      "metadata": {
        "id": "eBTvLo8lxo2g"
      }
    },
    {
      "cell_type": "code",
      "source": [
        "# Create demo tensors for our housing price prediction problem\n",
        "house_info = tf.constant(['bedroom', 'bathroom', 'garage'])\n",
        "house_price = tf.constant([939700])\n",
        "house_info, house_price"
      ],
      "metadata": {
        "colab": {
          "base_uri": "https://localhost:8080/"
        },
        "id": "Lzb8VrEWxrPw",
        "outputId": "89929d08-d964-474b-fbe5-7bb6cd5a48b0"
      },
      "execution_count": null,
      "outputs": [
        {
          "output_type": "execute_result",
          "data": {
            "text/plain": [
              "(<tf.Tensor: shape=(3,), dtype=string, numpy=array([b'bedroom', b'bathroom', b'garage'], dtype=object)>,\n",
              " <tf.Tensor: shape=(1,), dtype=int32, numpy=array([939700], dtype=int32)>)"
            ]
          },
          "metadata": {},
          "execution_count": 13
        }
      ]
    },
    {
      "cell_type": "code",
      "source": [
        "# Convert our numpy arrays into tensors with dtype float32\n",
        "X = tf.cast(tf.constant(X), dtype=tf.float32)\n",
        "y = tf.cast(tf.constant(y), dtype=tf.float32)\n",
        "X, y"
      ],
      "metadata": {
        "colab": {
          "base_uri": "https://localhost:8080/"
        },
        "id": "plAcvnbiyPJQ",
        "outputId": "4893e585-39ca-4d57-e506-5e92f3f83bd2"
      },
      "execution_count": null,
      "outputs": [
        {
          "output_type": "execute_result",
          "data": {
            "text/plain": [
              "(<tf.Tensor: shape=(8,), dtype=float32, numpy=array([-7., -4., -1.,  2.,  5.,  8., 11., 14.], dtype=float32)>,\n",
              " <tf.Tensor: shape=(8,), dtype=float32, numpy=array([ 3.,  6.,  9., 12., 15., 18., 21., 24.], dtype=float32)>)"
            ]
          },
          "metadata": {},
          "execution_count": 34
        }
      ]
    },
    {
      "cell_type": "code",
      "source": [
        "X.ndim"
      ],
      "metadata": {
        "colab": {
          "base_uri": "https://localhost:8080/"
        },
        "id": "gADaM4xT3Ml5",
        "outputId": "3c4ff323-bbef-4859-afd6-1b38500896c2"
      },
      "execution_count": null,
      "outputs": [
        {
          "output_type": "execute_result",
          "data": {
            "text/plain": [
              "1"
            ]
          },
          "metadata": {},
          "execution_count": 35
        }
      ]
    },
    {
      "cell_type": "code",
      "source": [
        "X.shape"
      ],
      "metadata": {
        "colab": {
          "base_uri": "https://localhost:8080/"
        },
        "id": "wTH6BAzM3QjB",
        "outputId": "ecfb6a40-91a5-40b1-eaa7-fa6a56d2f46d"
      },
      "execution_count": null,
      "outputs": [
        {
          "output_type": "execute_result",
          "data": {
            "text/plain": [
              "TensorShape([8])"
            ]
          },
          "metadata": {},
          "execution_count": 36
        }
      ]
    },
    {
      "cell_type": "code",
      "source": [
        "tf.expand_dims(X, axis=1).shape"
      ],
      "metadata": {
        "colab": {
          "base_uri": "https://localhost:8080/"
        },
        "id": "oFb0xkY13J9D",
        "outputId": "82b7f810-4f4c-4ef2-f7ef-db3892cbea74"
      },
      "execution_count": null,
      "outputs": [
        {
          "output_type": "execute_result",
          "data": {
            "text/plain": [
              "TensorShape([8, 1])"
            ]
          },
          "metadata": {},
          "execution_count": 37
        }
      ]
    },
    {
      "cell_type": "code",
      "source": [
        "tf.expand_dims(X, axis=-1).shape"
      ],
      "metadata": {
        "colab": {
          "base_uri": "https://localhost:8080/"
        },
        "id": "Z-vriu3k4MIW",
        "outputId": "27b53d01-d18c-41b7-fe0c-3466d2be0e57"
      },
      "execution_count": null,
      "outputs": [
        {
          "output_type": "execute_result",
          "data": {
            "text/plain": [
              "TensorShape([8, 1])"
            ]
          },
          "metadata": {},
          "execution_count": 38
        }
      ]
    },
    {
      "cell_type": "markdown",
      "source": [
        "<br>"
      ],
      "metadata": {
        "id": "Ec1Mpw__2Edo"
      }
    },
    {
      "cell_type": "markdown",
      "source": [
        "<h3>Creating our first NN regression model</h3>"
      ],
      "metadata": {
        "id": "K1TNoA_52Ele"
      }
    },
    {
      "cell_type": "code",
      "source": [
        "# Set a random seed\n",
        "tf.random.set_seed(42)\n",
        "\n",
        "# 1. Create a model using the Sequential API\n",
        "model = tf.keras.Sequential([\n",
        "    tf.keras.layers.Dense(1)\n",
        "])\n",
        "\n",
        "# 2. Compile the model\n",
        "model.compile(loss=tf.keras.losses.mae,\n",
        "              optimizer=tf.keras.optimizers.SGD(),\n",
        "              metrics=['mae'])\n",
        "\n",
        "# 3. Fit the model\n",
        "model.fit(tf.expand_dims(X, axis=1), y, epochs=5)"
      ],
      "metadata": {
        "colab": {
          "base_uri": "https://localhost:8080/"
        },
        "id": "uVTVADJqzh8w",
        "outputId": "0b178981-883a-4cc6-ebc0-7a3c68d6c7cb"
      },
      "execution_count": null,
      "outputs": [
        {
          "output_type": "stream",
          "name": "stdout",
          "text": [
            "Epoch 1/5\n",
            "1/1 [==============================] - 0s 379ms/step - loss: 10.1379 - mae: 10.1379\n",
            "Epoch 2/5\n",
            "1/1 [==============================] - 0s 14ms/step - loss: 10.0054 - mae: 10.0054\n",
            "Epoch 3/5\n",
            "1/1 [==============================] - 0s 13ms/step - loss: 9.8729 - mae: 9.8729\n",
            "Epoch 4/5\n",
            "1/1 [==============================] - 0s 15ms/step - loss: 9.7404 - mae: 9.7404\n",
            "Epoch 5/5\n",
            "1/1 [==============================] - 0s 16ms/step - loss: 9.6079 - mae: 9.6079\n"
          ]
        },
        {
          "output_type": "execute_result",
          "data": {
            "text/plain": [
              "<keras.src.callbacks.History at 0x7c54495c7520>"
            ]
          },
          "metadata": {},
          "execution_count": 40
        }
      ]
    },
    {
      "cell_type": "markdown",
      "source": [
        "* When first running the tf model, I got the following error: \"Input 0 of layer \"dense\" is incompatible with the layer: expected min_ndim=2, found ndim=1. Full shape received: (None,)\"\n",
        "* This is because X has shape (8,), which corresponds to ndim=1.\n",
        "* As the error message is saying, the minimum amount of dimensions that the input vector/matrix has to have is 2 (min_ndim=2).\n",
        "* This means that if you're training your NN using only one feature, you need to reshape it to have two dimensions.\n",
        "* This can be done with: tf.expand_dims(X, axis=1).\n",
        "* The axis argument tells along which dimension the dimension expansion should be performed."
      ],
      "metadata": {
        "id": "NpiavfLv3fyF"
      }
    },
    {
      "cell_type": "markdown",
      "source": [
        "* Notice how on each epoch (an epoch in machine learning means one complete pass of the training dataset through the algorithm) the MAE (loss function) gets smaller."
      ],
      "metadata": {
        "id": "_FKjILyJ50ra"
      }
    },
    {
      "cell_type": "markdown",
      "source": [
        "* Note that currently this model has no hidden layers (it only has an input layer and an output layer).\n",
        "* If no activation function is added to the output layer *tf.keras.layers.Dense(1)*, then on default, the activation function is *None*, which means that the output layer will use a linear activation function (the output will be a linear combination of the input features plus a bias term)."
      ],
      "metadata": {
        "id": "RFCQyflgP4Xj"
      }
    },
    {
      "cell_type": "code",
      "source": [
        "# Make a prediction x=17 with our model.\n",
        "# Since the relationship between X and y is that yi=Xi+10,\n",
        "# then ideally, the predicted value for y, given x=17,\n",
        "# should be 17+10=27.\n",
        "model.predict([17.0])"
      ],
      "metadata": {
        "colab": {
          "base_uri": "https://localhost:8080/"
        },
        "id": "0gmv4M4UziBN",
        "outputId": "e725c7fb-09a1-42d1-cb51-d3aaa389f44a"
      },
      "execution_count": null,
      "outputs": [
        {
          "output_type": "stream",
          "name": "stdout",
          "text": [
            "1/1 [==============================] - 0s 43ms/step\n"
          ]
        },
        {
          "output_type": "execute_result",
          "data": {
            "text/plain": [
              "array([[19.35502]], dtype=float32)"
            ]
          },
          "metadata": {},
          "execution_count": 43
        }
      ]
    },
    {
      "cell_type": "markdown",
      "source": [
        "* Not a good prediction, but notice that on the last training round (Epoch 5/5), the MAE is 9.6079.\n",
        "* This means that, on average, the prediction is off by 9.6079."
      ],
      "metadata": {
        "id": "ZPDTXa3cGDXK"
      }
    },
    {
      "cell_type": "code",
      "source": [
        "model.predict([17.0]) + 9.6079"
      ],
      "metadata": {
        "colab": {
          "base_uri": "https://localhost:8080/"
        },
        "id": "MGsH2TGDGNAq",
        "outputId": "a938b453-40ad-4886-87ca-25314fccd06b"
      },
      "execution_count": null,
      "outputs": [
        {
          "output_type": "stream",
          "name": "stdout",
          "text": [
            "1/1 [==============================] - 0s 51ms/step\n"
          ]
        },
        {
          "output_type": "execute_result",
          "data": {
            "text/plain": [
              "array([[28.962921]], dtype=float32)"
            ]
          },
          "metadata": {},
          "execution_count": 45
        }
      ]
    },
    {
      "cell_type": "markdown",
      "source": [
        "* This is somewhat close to 27, as it should be."
      ],
      "metadata": {
        "id": "_gmKnmohGT3V"
      }
    },
    {
      "cell_type": "markdown",
      "source": [
        "<br>"
      ],
      "metadata": {
        "id": "sXBAJKDdGghg"
      }
    },
    {
      "cell_type": "markdown",
      "source": [
        "<h3>Improving our model</h3>"
      ],
      "metadata": {
        "id": "KifVIvY1GgpL"
      }
    },
    {
      "cell_type": "markdown",
      "source": [
        "Once again, the steps in modelling with TensorFlow:\n",
        "\n",
        "1. Construct or import a pretrained model relevant to your problem.\n",
        "\n",
        "2. Compile the model (prepare it to be used with the training data).\n",
        "  * Loss – how wrong your model's predictions are compared to the true labels (we want to minimize this).\n",
        "  * Optimizer – how your model should update its internal patterns to improve its predictions.\n",
        "  * Performance metrics – human interpretable values for how well your model is doing.\n",
        "\n",
        "3. Fit the model to the training data so it can discover patterns.\n",
        "  * Epochs – how many times the modell will go through all of the training examples.\n",
        "\n",
        "4. Evaluate the model on the test data (how reliable are our model's predictions?)."
      ],
      "metadata": {
        "id": "oujadEtTGkPj"
      }
    },
    {
      "cell_type": "markdown",
      "source": [
        "We can improve our model by altering the steps we took to create the model.\n",
        "\n",
        "1. **Creating the model** – here we might add more layers, increase the number of hidden units (neurons) within each of the hidden layers, change the activation function of each layer.\n",
        "\n",
        "2. **Compiling the model** – here we might change the optimization function or perhaps the *learning rate* of the optimization function.\n",
        "\n",
        "3. **Fitting the model** – here we might fit the model with more *epochs* (train the model with the training data with more iterations), or increase the amount of training data fed to the model."
      ],
      "metadata": {
        "id": "9KndUy4kJRSD"
      }
    },
    {
      "cell_type": "code",
      "source": [
        "# Let's rebuild our model with epochs=5 --> epochs=100\n",
        "\n",
        "# 1. Create the model\n",
        "model = tf.keras.Sequential([\n",
        "    tf.keras.layers.Dense(1)\n",
        "])\n",
        "\n",
        "# 2. Compile the model\n",
        "model.compile(loss=tf.keras.losses.mae,\n",
        "              optimizer=tf.keras.optimizers.SGD(),\n",
        "              metrics=['mae'])\n",
        "\n",
        "# 3. Fit the model\n",
        "model.fit(tf.expand_dims(X, axis=1), y, epochs=100)"
      ],
      "metadata": {
        "colab": {
          "base_uri": "https://localhost:8080/"
        },
        "id": "wdS74D9JLSEJ",
        "outputId": "121ee78c-1b2b-46bb-905a-1ad8662cab2f"
      },
      "execution_count": null,
      "outputs": [
        {
          "output_type": "stream",
          "name": "stdout",
          "text": [
            "Epoch 1/100\n",
            "1/1 [==============================] - 1s 707ms/step - loss: 12.7327 - mae: 12.7327\n",
            "Epoch 2/100\n",
            "1/1 [==============================] - 0s 12ms/step - loss: 12.6002 - mae: 12.6002\n",
            "Epoch 3/100\n",
            "1/1 [==============================] - 0s 13ms/step - loss: 12.4677 - mae: 12.4677\n",
            "Epoch 4/100\n",
            "1/1 [==============================] - 0s 14ms/step - loss: 12.3352 - mae: 12.3352\n",
            "Epoch 5/100\n",
            "1/1 [==============================] - 0s 17ms/step - loss: 12.2027 - mae: 12.2027\n",
            "Epoch 6/100\n",
            "1/1 [==============================] - 0s 12ms/step - loss: 12.0702 - mae: 12.0702\n",
            "Epoch 7/100\n",
            "1/1 [==============================] - 0s 11ms/step - loss: 11.9377 - mae: 11.9377\n",
            "Epoch 8/100\n",
            "1/1 [==============================] - 0s 17ms/step - loss: 11.8052 - mae: 11.8052\n",
            "Epoch 9/100\n",
            "1/1 [==============================] - 0s 16ms/step - loss: 11.6727 - mae: 11.6727\n",
            "Epoch 10/100\n",
            "1/1 [==============================] - 0s 17ms/step - loss: 11.5402 - mae: 11.5402\n",
            "Epoch 11/100\n",
            "1/1 [==============================] - 0s 15ms/step - loss: 11.4077 - mae: 11.4077\n",
            "Epoch 12/100\n",
            "1/1 [==============================] - 0s 13ms/step - loss: 11.2752 - mae: 11.2752\n",
            "Epoch 13/100\n",
            "1/1 [==============================] - 0s 15ms/step - loss: 11.1427 - mae: 11.1427\n",
            "Epoch 14/100\n",
            "1/1 [==============================] - 0s 13ms/step - loss: 11.0102 - mae: 11.0102\n",
            "Epoch 15/100\n",
            "1/1 [==============================] - 0s 14ms/step - loss: 10.8777 - mae: 10.8777\n",
            "Epoch 16/100\n",
            "1/1 [==============================] - 0s 18ms/step - loss: 10.7452 - mae: 10.7452\n",
            "Epoch 17/100\n",
            "1/1 [==============================] - 0s 12ms/step - loss: 10.6127 - mae: 10.6127\n",
            "Epoch 18/100\n",
            "1/1 [==============================] - 0s 15ms/step - loss: 10.4802 - mae: 10.4802\n",
            "Epoch 19/100\n",
            "1/1 [==============================] - 0s 12ms/step - loss: 10.3477 - mae: 10.3477\n",
            "Epoch 20/100\n",
            "1/1 [==============================] - 0s 12ms/step - loss: 10.2152 - mae: 10.2152\n",
            "Epoch 21/100\n",
            "1/1 [==============================] - 0s 12ms/step - loss: 10.0827 - mae: 10.0827\n",
            "Epoch 22/100\n",
            "1/1 [==============================] - 0s 12ms/step - loss: 9.9502 - mae: 9.9502\n",
            "Epoch 23/100\n",
            "1/1 [==============================] - 0s 11ms/step - loss: 9.8177 - mae: 9.8177\n",
            "Epoch 24/100\n",
            "1/1 [==============================] - 0s 12ms/step - loss: 9.6852 - mae: 9.6852\n",
            "Epoch 25/100\n",
            "1/1 [==============================] - 0s 16ms/step - loss: 9.5527 - mae: 9.5527\n",
            "Epoch 26/100\n",
            "1/1 [==============================] - 0s 11ms/step - loss: 9.4202 - mae: 9.4202\n",
            "Epoch 27/100\n",
            "1/1 [==============================] - 0s 15ms/step - loss: 9.2877 - mae: 9.2877\n",
            "Epoch 28/100\n",
            "1/1 [==============================] - 0s 13ms/step - loss: 9.1552 - mae: 9.1552\n",
            "Epoch 29/100\n",
            "1/1 [==============================] - 0s 13ms/step - loss: 9.0227 - mae: 9.0227\n",
            "Epoch 30/100\n",
            "1/1 [==============================] - 0s 15ms/step - loss: 8.8902 - mae: 8.8902\n",
            "Epoch 31/100\n",
            "1/1 [==============================] - 0s 20ms/step - loss: 8.7577 - mae: 8.7577\n",
            "Epoch 32/100\n",
            "1/1 [==============================] - 0s 13ms/step - loss: 8.6252 - mae: 8.6252\n",
            "Epoch 33/100\n",
            "1/1 [==============================] - 0s 12ms/step - loss: 8.4927 - mae: 8.4927\n",
            "Epoch 34/100\n",
            "1/1 [==============================] - 0s 12ms/step - loss: 8.3602 - mae: 8.3602\n",
            "Epoch 35/100\n",
            "1/1 [==============================] - 0s 13ms/step - loss: 8.2277 - mae: 8.2277\n",
            "Epoch 36/100\n",
            "1/1 [==============================] - 0s 15ms/step - loss: 8.0952 - mae: 8.0952\n",
            "Epoch 37/100\n",
            "1/1 [==============================] - 0s 14ms/step - loss: 7.9627 - mae: 7.9627\n",
            "Epoch 38/100\n",
            "1/1 [==============================] - 0s 14ms/step - loss: 7.8302 - mae: 7.8302\n",
            "Epoch 39/100\n",
            "1/1 [==============================] - 0s 14ms/step - loss: 7.6977 - mae: 7.6977\n",
            "Epoch 40/100\n",
            "1/1 [==============================] - 0s 14ms/step - loss: 7.5652 - mae: 7.5652\n",
            "Epoch 41/100\n",
            "1/1 [==============================] - 0s 16ms/step - loss: 7.4327 - mae: 7.4327\n",
            "Epoch 42/100\n",
            "1/1 [==============================] - 0s 15ms/step - loss: 7.3002 - mae: 7.3002\n",
            "Epoch 43/100\n",
            "1/1 [==============================] - 0s 11ms/step - loss: 7.1850 - mae: 7.1850\n",
            "Epoch 44/100\n",
            "1/1 [==============================] - 0s 11ms/step - loss: 7.1794 - mae: 7.1794\n",
            "Epoch 45/100\n",
            "1/1 [==============================] - 0s 11ms/step - loss: 7.1737 - mae: 7.1737\n",
            "Epoch 46/100\n",
            "1/1 [==============================] - 0s 13ms/step - loss: 7.1681 - mae: 7.1681\n",
            "Epoch 47/100\n",
            "1/1 [==============================] - 0s 11ms/step - loss: 7.1625 - mae: 7.1625\n",
            "Epoch 48/100\n",
            "1/1 [==============================] - 0s 12ms/step - loss: 7.1569 - mae: 7.1569\n",
            "Epoch 49/100\n",
            "1/1 [==============================] - 0s 11ms/step - loss: 7.1512 - mae: 7.1512\n",
            "Epoch 50/100\n",
            "1/1 [==============================] - 0s 11ms/step - loss: 7.1456 - mae: 7.1456\n",
            "Epoch 51/100\n",
            "1/1 [==============================] - 0s 13ms/step - loss: 7.1400 - mae: 7.1400\n",
            "Epoch 52/100\n",
            "1/1 [==============================] - 0s 11ms/step - loss: 7.1344 - mae: 7.1344\n",
            "Epoch 53/100\n",
            "1/1 [==============================] - 0s 12ms/step - loss: 7.1287 - mae: 7.1287\n",
            "Epoch 54/100\n",
            "1/1 [==============================] - 0s 11ms/step - loss: 7.1231 - mae: 7.1231\n",
            "Epoch 55/100\n",
            "1/1 [==============================] - 0s 12ms/step - loss: 7.1175 - mae: 7.1175\n",
            "Epoch 56/100\n",
            "1/1 [==============================] - 0s 11ms/step - loss: 7.1119 - mae: 7.1119\n",
            "Epoch 57/100\n",
            "1/1 [==============================] - 0s 12ms/step - loss: 7.1063 - mae: 7.1063\n",
            "Epoch 58/100\n",
            "1/1 [==============================] - 0s 19ms/step - loss: 7.1006 - mae: 7.1006\n",
            "Epoch 59/100\n",
            "1/1 [==============================] - 0s 13ms/step - loss: 7.0950 - mae: 7.0950\n",
            "Epoch 60/100\n",
            "1/1 [==============================] - 0s 13ms/step - loss: 7.0894 - mae: 7.0894\n",
            "Epoch 61/100\n",
            "1/1 [==============================] - 0s 12ms/step - loss: 7.0838 - mae: 7.0838\n",
            "Epoch 62/100\n",
            "1/1 [==============================] - 0s 19ms/step - loss: 7.0781 - mae: 7.0781\n",
            "Epoch 63/100\n",
            "1/1 [==============================] - 0s 14ms/step - loss: 7.0725 - mae: 7.0725\n",
            "Epoch 64/100\n",
            "1/1 [==============================] - 0s 15ms/step - loss: 7.0669 - mae: 7.0669\n",
            "Epoch 65/100\n",
            "1/1 [==============================] - 0s 12ms/step - loss: 7.0612 - mae: 7.0612\n",
            "Epoch 66/100\n",
            "1/1 [==============================] - 0s 11ms/step - loss: 7.0556 - mae: 7.0556\n",
            "Epoch 67/100\n",
            "1/1 [==============================] - 0s 11ms/step - loss: 7.0500 - mae: 7.0500\n",
            "Epoch 68/100\n",
            "1/1 [==============================] - 0s 11ms/step - loss: 7.0444 - mae: 7.0444\n",
            "Epoch 69/100\n",
            "1/1 [==============================] - 0s 11ms/step - loss: 7.0388 - mae: 7.0388\n",
            "Epoch 70/100\n",
            "1/1 [==============================] - 0s 11ms/step - loss: 7.0331 - mae: 7.0331\n",
            "Epoch 71/100\n",
            "1/1 [==============================] - 0s 11ms/step - loss: 7.0275 - mae: 7.0275\n",
            "Epoch 72/100\n",
            "1/1 [==============================] - 0s 12ms/step - loss: 7.0219 - mae: 7.0219\n",
            "Epoch 73/100\n",
            "1/1 [==============================] - 0s 12ms/step - loss: 7.0163 - mae: 7.0163\n",
            "Epoch 74/100\n",
            "1/1 [==============================] - 0s 13ms/step - loss: 7.0106 - mae: 7.0106\n",
            "Epoch 75/100\n",
            "1/1 [==============================] - 0s 15ms/step - loss: 7.0050 - mae: 7.0050\n",
            "Epoch 76/100\n",
            "1/1 [==============================] - 0s 14ms/step - loss: 6.9994 - mae: 6.9994\n",
            "Epoch 77/100\n",
            "1/1 [==============================] - 0s 12ms/step - loss: 6.9938 - mae: 6.9938\n",
            "Epoch 78/100\n",
            "1/1 [==============================] - 0s 10ms/step - loss: 6.9881 - mae: 6.9881\n",
            "Epoch 79/100\n",
            "1/1 [==============================] - 0s 11ms/step - loss: 6.9825 - mae: 6.9825\n",
            "Epoch 80/100\n",
            "1/1 [==============================] - 0s 16ms/step - loss: 6.9769 - mae: 6.9769\n",
            "Epoch 81/100\n",
            "1/1 [==============================] - 0s 13ms/step - loss: 6.9713 - mae: 6.9713\n",
            "Epoch 82/100\n",
            "1/1 [==============================] - 0s 12ms/step - loss: 6.9656 - mae: 6.9656\n",
            "Epoch 83/100\n",
            "1/1 [==============================] - 0s 18ms/step - loss: 6.9600 - mae: 6.9600\n",
            "Epoch 84/100\n",
            "1/1 [==============================] - 0s 17ms/step - loss: 6.9544 - mae: 6.9544\n",
            "Epoch 85/100\n",
            "1/1 [==============================] - 0s 17ms/step - loss: 6.9488 - mae: 6.9488\n",
            "Epoch 86/100\n",
            "1/1 [==============================] - 0s 17ms/step - loss: 6.9431 - mae: 6.9431\n",
            "Epoch 87/100\n",
            "1/1 [==============================] - 0s 17ms/step - loss: 6.9375 - mae: 6.9375\n",
            "Epoch 88/100\n",
            "1/1 [==============================] - 0s 16ms/step - loss: 6.9319 - mae: 6.9319\n",
            "Epoch 89/100\n",
            "1/1 [==============================] - 0s 19ms/step - loss: 6.9263 - mae: 6.9263\n",
            "Epoch 90/100\n",
            "1/1 [==============================] - 0s 15ms/step - loss: 6.9206 - mae: 6.9206\n",
            "Epoch 91/100\n",
            "1/1 [==============================] - 0s 20ms/step - loss: 6.9150 - mae: 6.9150\n",
            "Epoch 92/100\n",
            "1/1 [==============================] - 0s 13ms/step - loss: 6.9094 - mae: 6.9094\n",
            "Epoch 93/100\n",
            "1/1 [==============================] - 0s 18ms/step - loss: 6.9038 - mae: 6.9038\n",
            "Epoch 94/100\n",
            "1/1 [==============================] - 0s 14ms/step - loss: 6.8981 - mae: 6.8981\n",
            "Epoch 95/100\n",
            "1/1 [==============================] - 0s 13ms/step - loss: 6.8925 - mae: 6.8925\n",
            "Epoch 96/100\n",
            "1/1 [==============================] - 0s 15ms/step - loss: 6.8869 - mae: 6.8869\n",
            "Epoch 97/100\n",
            "1/1 [==============================] - 0s 14ms/step - loss: 6.8813 - mae: 6.8813\n",
            "Epoch 98/100\n",
            "1/1 [==============================] - 0s 15ms/step - loss: 6.8756 - mae: 6.8756\n",
            "Epoch 99/100\n",
            "1/1 [==============================] - 0s 13ms/step - loss: 6.8700 - mae: 6.8700\n",
            "Epoch 100/100\n",
            "1/1 [==============================] - 0s 12ms/step - loss: 6.8644 - mae: 6.8644\n"
          ]
        },
        {
          "output_type": "execute_result",
          "data": {
            "text/plain": [
              "<keras.src.callbacks.History at 0x7c5449581c00>"
            ]
          },
          "metadata": {},
          "execution_count": 48
        }
      ]
    },
    {
      "cell_type": "markdown",
      "source": [
        "* Notice how the loss function (mae) gets smaller with each epoch.\n",
        "* It is also worth noting that when we trained this exact same model with epochs=5, our mae was 9.6079.\n",
        "* When we increase epochs from 5 to 100, the MAE decreased from 9.6079 $\\, \\boldsymbol{\\rightarrow} \\,$ 6.8644."
      ],
      "metadata": {
        "id": "sRGj0548MYew"
      }
    },
    {
      "cell_type": "code",
      "source": [
        "# Again, let's make a prediction with x=17.\n",
        "# Since the relationship between X and y is yi=Xi+10,\n",
        "# then ideally, the predicted value for y, given x=17, should be 17+10=27.\n",
        "# Since on Epoch 100/100 mae=6.8644, the predicted value for y\n",
        "# is off by 6.8644, on average.\n",
        "# This means that we can expect our predicted value to be in range [27 - 6.86, 27 + 6.86].\n",
        "model.predict([17.0])"
      ],
      "metadata": {
        "colab": {
          "base_uri": "https://localhost:8080/"
        },
        "id": "hYoPvJmWMcc0",
        "outputId": "5ebfbc75-dd78-4e15-808c-2b36d7dbd3c4"
      },
      "execution_count": null,
      "outputs": [
        {
          "output_type": "stream",
          "name": "stdout",
          "text": [
            "1/1 [==============================] - 0s 227ms/step\n"
          ]
        },
        {
          "output_type": "execute_result",
          "data": {
            "text/plain": [
              "array([[29.571836]], dtype=float32)"
            ]
          },
          "metadata": {},
          "execution_count": 49
        }
      ]
    },
    {
      "cell_type": "markdown",
      "source": [
        "Let's change the model such that we add hidden layers with activation functions to it\n",
        "* Fully connected layers: A *Dense* layer is a fully connected layer where each neuron receives input from all neurons of the previous layer.\n",
        "* This property is useful for both hidden layers and output layers."
      ],
      "metadata": {
        "id": "YwOaXHLrQp1s"
      }
    },
    {
      "cell_type": "code",
      "source": [
        "model = tf.keras.Sequential([\n",
        "\n",
        "    # Hidden layers\n",
        "    tf.keras.layers.Dense(100, activation='relu'),\n",
        "    tf.keras.layers.Dense(100, activation='relu'),\n",
        "    tf.keras.layers.Dense(100, activation='relu'),\n",
        "\n",
        "    # Output layer\n",
        "    tf.keras.layers.Dense(1)\n",
        "])\n",
        "\n",
        "model.compile(loss=tf.keras.losses.mae,\n",
        "              optimizer=tf.keras.optimizers.SGD(),\n",
        "              metrics=['mae'])\n",
        "\n",
        "model.fit(tf.expand_dims(X, axis=1), y, epochs=100)"
      ],
      "metadata": {
        "colab": {
          "base_uri": "https://localhost:8080/"
        },
        "id": "zsDrROmqQu87",
        "outputId": "90e8153c-f869-4e14-b8d5-1e6a6defff4d"
      },
      "execution_count": null,
      "outputs": [
        {
          "output_type": "stream",
          "name": "stdout",
          "text": [
            "Epoch 1/100\n",
            "1/1 [==============================] - 1s 1s/step - loss: 13.4845 - mae: 13.4845\n",
            "Epoch 2/100\n",
            "1/1 [==============================] - 0s 15ms/step - loss: 13.0659 - mae: 13.0659\n",
            "Epoch 3/100\n",
            "1/1 [==============================] - 0s 13ms/step - loss: 12.6613 - mae: 12.6613\n",
            "Epoch 4/100\n",
            "1/1 [==============================] - 0s 17ms/step - loss: 12.2651 - mae: 12.2651\n",
            "Epoch 5/100\n",
            "1/1 [==============================] - 0s 17ms/step - loss: 11.8425 - mae: 11.8425\n",
            "Epoch 6/100\n",
            "1/1 [==============================] - 0s 17ms/step - loss: 11.3559 - mae: 11.3559\n",
            "Epoch 7/100\n",
            "1/1 [==============================] - 0s 15ms/step - loss: 10.7842 - mae: 10.7842\n",
            "Epoch 8/100\n",
            "1/1 [==============================] - 0s 13ms/step - loss: 10.0904 - mae: 10.0904\n",
            "Epoch 9/100\n",
            "1/1 [==============================] - 0s 16ms/step - loss: 9.2146 - mae: 9.2146\n",
            "Epoch 10/100\n",
            "1/1 [==============================] - 0s 14ms/step - loss: 8.0783 - mae: 8.0783\n",
            "Epoch 11/100\n",
            "1/1 [==============================] - 0s 17ms/step - loss: 6.6345 - mae: 6.6345\n",
            "Epoch 12/100\n",
            "1/1 [==============================] - 0s 20ms/step - loss: 4.8063 - mae: 4.8063\n",
            "Epoch 13/100\n",
            "1/1 [==============================] - 0s 18ms/step - loss: 4.1490 - mae: 4.1490\n",
            "Epoch 14/100\n",
            "1/1 [==============================] - 0s 18ms/step - loss: 3.9261 - mae: 3.9261\n",
            "Epoch 15/100\n",
            "1/1 [==============================] - 0s 15ms/step - loss: 4.0521 - mae: 4.0521\n",
            "Epoch 16/100\n",
            "1/1 [==============================] - 0s 14ms/step - loss: 3.9372 - mae: 3.9372\n",
            "Epoch 17/100\n",
            "1/1 [==============================] - 0s 14ms/step - loss: 4.0066 - mae: 4.0066\n",
            "Epoch 18/100\n",
            "1/1 [==============================] - 0s 14ms/step - loss: 3.9499 - mae: 3.9499\n",
            "Epoch 19/100\n",
            "1/1 [==============================] - 0s 13ms/step - loss: 3.9592 - mae: 3.9592\n",
            "Epoch 20/100\n",
            "1/1 [==============================] - 0s 16ms/step - loss: 3.9635 - mae: 3.9635\n",
            "Epoch 21/100\n",
            "1/1 [==============================] - 0s 13ms/step - loss: 3.9109 - mae: 3.9109\n",
            "Epoch 22/100\n",
            "1/1 [==============================] - 0s 14ms/step - loss: 3.9782 - mae: 3.9782\n",
            "Epoch 23/100\n",
            "1/1 [==============================] - 0s 19ms/step - loss: 3.8609 - mae: 3.8609\n",
            "Epoch 24/100\n",
            "1/1 [==============================] - 0s 14ms/step - loss: 3.9940 - mae: 3.9940\n",
            "Epoch 25/100\n",
            "1/1 [==============================] - 0s 14ms/step - loss: 3.8096 - mae: 3.8096\n",
            "Epoch 26/100\n",
            "1/1 [==============================] - 0s 13ms/step - loss: 4.0105 - mae: 4.0105\n",
            "Epoch 27/100\n",
            "1/1 [==============================] - 0s 15ms/step - loss: 3.7986 - mae: 3.7986\n",
            "Epoch 28/100\n",
            "1/1 [==============================] - 0s 14ms/step - loss: 3.9732 - mae: 3.9732\n",
            "Epoch 29/100\n",
            "1/1 [==============================] - 0s 17ms/step - loss: 3.8160 - mae: 3.8160\n",
            "Epoch 30/100\n",
            "1/1 [==============================] - 0s 16ms/step - loss: 3.9207 - mae: 3.9207\n",
            "Epoch 31/100\n",
            "1/1 [==============================] - 0s 15ms/step - loss: 3.8344 - mae: 3.8344\n",
            "Epoch 32/100\n",
            "1/1 [==============================] - 0s 14ms/step - loss: 3.8669 - mae: 3.8669\n",
            "Epoch 33/100\n",
            "1/1 [==============================] - 0s 15ms/step - loss: 3.8537 - mae: 3.8537\n",
            "Epoch 34/100\n",
            "1/1 [==============================] - 0s 14ms/step - loss: 3.8112 - mae: 3.8112\n",
            "Epoch 35/100\n",
            "1/1 [==============================] - 0s 14ms/step - loss: 3.8747 - mae: 3.8747\n",
            "Epoch 36/100\n",
            "1/1 [==============================] - 0s 14ms/step - loss: 3.7542 - mae: 3.7542\n",
            "Epoch 37/100\n",
            "1/1 [==============================] - 0s 14ms/step - loss: 3.8967 - mae: 3.8967\n",
            "Epoch 38/100\n",
            "1/1 [==============================] - 0s 13ms/step - loss: 3.6951 - mae: 3.6951\n",
            "Epoch 39/100\n",
            "1/1 [==============================] - 0s 16ms/step - loss: 3.9194 - mae: 3.9194\n",
            "Epoch 40/100\n",
            "1/1 [==============================] - 0s 15ms/step - loss: 3.7126 - mae: 3.7126\n",
            "Epoch 41/100\n",
            "1/1 [==============================] - 0s 13ms/step - loss: 3.8509 - mae: 3.8509\n",
            "Epoch 42/100\n",
            "1/1 [==============================] - 0s 18ms/step - loss: 3.7347 - mae: 3.7347\n",
            "Epoch 43/100\n",
            "1/1 [==============================] - 0s 16ms/step - loss: 3.7925 - mae: 3.7925\n",
            "Epoch 44/100\n",
            "1/1 [==============================] - 0s 17ms/step - loss: 3.7958 - mae: 3.7958\n",
            "Epoch 45/100\n",
            "1/1 [==============================] - 0s 16ms/step - loss: 3.7003 - mae: 3.7003\n",
            "Epoch 46/100\n",
            "1/1 [==============================] - 0s 13ms/step - loss: 3.8206 - mae: 3.8206\n",
            "Epoch 47/100\n",
            "1/1 [==============================] - 0s 13ms/step - loss: 3.6397 - mae: 3.6397\n",
            "Epoch 48/100\n",
            "1/1 [==============================] - 0s 15ms/step - loss: 3.8452 - mae: 3.8452\n",
            "Epoch 49/100\n",
            "1/1 [==============================] - 0s 14ms/step - loss: 3.6408 - mae: 3.6408\n",
            "Epoch 50/100\n",
            "1/1 [==============================] - 0s 14ms/step - loss: 3.7913 - mae: 3.7913\n",
            "Epoch 51/100\n",
            "1/1 [==============================] - 0s 14ms/step - loss: 3.6669 - mae: 3.6669\n",
            "Epoch 52/100\n",
            "1/1 [==============================] - 0s 21ms/step - loss: 3.7259 - mae: 3.7259\n",
            "Epoch 53/100\n",
            "1/1 [==============================] - 0s 14ms/step - loss: 3.6940 - mae: 3.6940\n",
            "Epoch 54/100\n",
            "1/1 [==============================] - 0s 13ms/step - loss: 3.6577 - mae: 3.6577\n",
            "Epoch 55/100\n",
            "1/1 [==============================] - 0s 15ms/step - loss: 3.7222 - mae: 3.7222\n",
            "Epoch 56/100\n",
            "1/1 [==============================] - 0s 14ms/step - loss: 3.5869 - mae: 3.5869\n",
            "Epoch 57/100\n",
            "1/1 [==============================] - 0s 15ms/step - loss: 3.7531 - mae: 3.7531\n",
            "Epoch 58/100\n",
            "1/1 [==============================] - 0s 16ms/step - loss: 3.5582 - mae: 3.5582\n",
            "Epoch 59/100\n",
            "1/1 [==============================] - 0s 13ms/step - loss: 3.6990 - mae: 3.6990\n",
            "Epoch 60/100\n",
            "1/1 [==============================] - 0s 14ms/step - loss: 3.6217 - mae: 3.6217\n",
            "Epoch 61/100\n",
            "1/1 [==============================] - 0s 13ms/step - loss: 3.6267 - mae: 3.6267\n",
            "Epoch 62/100\n",
            "1/1 [==============================] - 0s 13ms/step - loss: 3.6514 - mae: 3.6514\n",
            "Epoch 63/100\n",
            "1/1 [==============================] - 0s 19ms/step - loss: 3.5522 - mae: 3.5522\n",
            "Epoch 64/100\n",
            "1/1 [==============================] - 0s 15ms/step - loss: 3.6836 - mae: 3.6836\n",
            "Epoch 65/100\n",
            "1/1 [==============================] - 0s 22ms/step - loss: 3.4920 - mae: 3.4920\n",
            "Epoch 66/100\n",
            "1/1 [==============================] - 0s 15ms/step - loss: 3.6927 - mae: 3.6927\n",
            "Epoch 67/100\n",
            "1/1 [==============================] - 0s 16ms/step - loss: 3.5581 - mae: 3.5581\n",
            "Epoch 68/100\n",
            "1/1 [==============================] - 0s 16ms/step - loss: 3.5840 - mae: 3.5840\n",
            "Epoch 69/100\n",
            "1/1 [==============================] - 0s 19ms/step - loss: 3.5902 - mae: 3.5902\n",
            "Epoch 70/100\n",
            "1/1 [==============================] - 0s 16ms/step - loss: 3.5059 - mae: 3.5059\n",
            "Epoch 71/100\n",
            "1/1 [==============================] - 0s 18ms/step - loss: 3.6240 - mae: 3.6240\n",
            "Epoch 72/100\n",
            "1/1 [==============================] - 0s 19ms/step - loss: 3.4358 - mae: 3.4358\n",
            "Epoch 73/100\n",
            "1/1 [==============================] - 0s 16ms/step - loss: 3.6360 - mae: 3.6360\n",
            "Epoch 74/100\n",
            "1/1 [==============================] - 0s 17ms/step - loss: 3.4687 - mae: 3.4687\n",
            "Epoch 75/100\n",
            "1/1 [==============================] - 0s 14ms/step - loss: 3.5567 - mae: 3.5567\n",
            "Epoch 76/100\n",
            "1/1 [==============================] - 0s 14ms/step - loss: 3.5032 - mae: 3.5032\n",
            "Epoch 77/100\n",
            "1/1 [==============================] - 0s 13ms/step - loss: 3.4749 - mae: 3.4749\n",
            "Epoch 78/100\n",
            "1/1 [==============================] - 0s 18ms/step - loss: 3.5395 - mae: 3.5395\n",
            "Epoch 79/100\n",
            "1/1 [==============================] - 0s 14ms/step - loss: 3.3910 - mae: 3.3910\n",
            "Epoch 80/100\n",
            "1/1 [==============================] - 0s 12ms/step - loss: 3.5768 - mae: 3.5768\n",
            "Epoch 81/100\n",
            "1/1 [==============================] - 0s 13ms/step - loss: 3.3886 - mae: 3.3886\n",
            "Epoch 82/100\n",
            "1/1 [==============================] - 0s 12ms/step - loss: 3.5335 - mae: 3.5335\n",
            "Epoch 83/100\n",
            "1/1 [==============================] - 0s 12ms/step - loss: 3.4583 - mae: 3.4583\n",
            "Epoch 84/100\n",
            "1/1 [==============================] - 0s 12ms/step - loss: 3.4024 - mae: 3.4024\n",
            "Epoch 85/100\n",
            "1/1 [==============================] - 0s 12ms/step - loss: 3.4960 - mae: 3.4960\n",
            "Epoch 86/100\n",
            "1/1 [==============================] - 0s 13ms/step - loss: 3.3157 - mae: 3.3157\n",
            "Epoch 87/100\n",
            "1/1 [==============================] - 0s 14ms/step - loss: 3.5194 - mae: 3.5194\n",
            "Epoch 88/100\n",
            "1/1 [==============================] - 0s 14ms/step - loss: 3.3524 - mae: 3.3524\n",
            "Epoch 89/100\n",
            "1/1 [==============================] - 0s 13ms/step - loss: 3.4310 - mae: 3.4310\n",
            "Epoch 90/100\n",
            "1/1 [==============================] - 0s 14ms/step - loss: 3.3910 - mae: 3.3910\n",
            "Epoch 91/100\n",
            "1/1 [==============================] - 0s 13ms/step - loss: 3.3390 - mae: 3.3390\n",
            "Epoch 92/100\n",
            "1/1 [==============================] - 0s 14ms/step - loss: 3.4316 - mae: 3.4316\n",
            "Epoch 93/100\n",
            "1/1 [==============================] - 0s 11ms/step - loss: 3.2533 - mae: 3.2533\n",
            "Epoch 94/100\n",
            "1/1 [==============================] - 0s 11ms/step - loss: 3.4605 - mae: 3.4605\n",
            "Epoch 95/100\n",
            "1/1 [==============================] - 0s 11ms/step - loss: 3.3239 - mae: 3.3239\n",
            "Epoch 96/100\n",
            "1/1 [==============================] - 0s 10ms/step - loss: 3.3300 - mae: 3.3300\n",
            "Epoch 97/100\n",
            "1/1 [==============================] - 0s 11ms/step - loss: 3.3642 - mae: 3.3642\n",
            "Epoch 98/100\n",
            "1/1 [==============================] - 0s 10ms/step - loss: 3.2320 - mae: 3.2320\n",
            "Epoch 99/100\n",
            "1/1 [==============================] - 0s 14ms/step - loss: 3.4067 - mae: 3.4067\n",
            "Epoch 100/100\n",
            "1/1 [==============================] - 0s 14ms/step - loss: 3.2258 - mae: 3.2258\n"
          ]
        },
        {
          "output_type": "execute_result",
          "data": {
            "text/plain": [
              "<keras.src.callbacks.History at 0x7c544a167d90>"
            ]
          },
          "metadata": {},
          "execution_count": 50
        }
      ]
    },
    {
      "cell_type": "markdown",
      "source": [
        "* Notice when we added 3 hidden layers to the model, our loss function (mae) decrease from 6.8644 to 3.2258.\n",
        "* Crazy!!!! Cool!!!"
      ],
      "metadata": {
        "id": "eK3e_jPaSCwA"
      }
    },
    {
      "cell_type": "code",
      "source": [
        "# Again, predict with x=17\n",
        "model.predict([17.0])"
      ],
      "metadata": {
        "colab": {
          "base_uri": "https://localhost:8080/"
        },
        "id": "hc9VaXDqSSKd",
        "outputId": "c578f511-d33a-4c22-82ab-733acd31e5a2"
      },
      "execution_count": null,
      "outputs": [
        {
          "output_type": "stream",
          "name": "stdout",
          "text": [
            "1/1 [==============================] - 0s 47ms/step\n"
          ]
        },
        {
          "output_type": "execute_result",
          "data": {
            "text/plain": [
              "array([[29.528141]], dtype=float32)"
            ]
          },
          "metadata": {},
          "execution_count": 53
        }
      ]
    },
    {
      "cell_type": "markdown",
      "source": [
        "Let's see if the ADAM optimizer performs better than SGD."
      ],
      "metadata": {
        "id": "e0TJs3syW1N7"
      }
    },
    {
      "cell_type": "code",
      "source": [
        "model = tf.keras.Sequential([\n",
        "\n",
        "    # Hidden layers\n",
        "    tf.keras.layers.Dense(100, activation='relu'),\n",
        "    tf.keras.layers.Dense(100, activation='relu'),\n",
        "    tf.keras.layers.Dense(100, activation='relu'),\n",
        "\n",
        "    # Output layer\n",
        "    tf.keras.layers.Dense(1)\n",
        "])\n",
        "\n",
        "model.compile(loss=tf.keras.losses.mae,\n",
        "              optimizer=tf.keras.optimizers.Adam(learning_rate=0.01),\n",
        "              metrics=['mae'])\n",
        "\n",
        "model.fit(tf.expand_dims(X, axis=1), y, epochs=100)"
      ],
      "metadata": {
        "colab": {
          "base_uri": "https://localhost:8080/"
        },
        "id": "PLvtoBhAW5x8",
        "outputId": "9a360bb6-a565-4e4a-f778-929680c61252"
      },
      "execution_count": null,
      "outputs": [
        {
          "output_type": "stream",
          "name": "stdout",
          "text": [
            "Epoch 1/100\n",
            "1/1 [==============================] - 3s 3s/step - loss: 13.5443 - mae: 13.5443\n",
            "Epoch 2/100\n",
            "1/1 [==============================] - 0s 16ms/step - loss: 10.9611 - mae: 10.9611\n",
            "Epoch 3/100\n",
            "1/1 [==============================] - 0s 14ms/step - loss: 8.2768 - mae: 8.2768\n",
            "Epoch 4/100\n",
            "1/1 [==============================] - 0s 15ms/step - loss: 4.5744 - mae: 4.5744\n",
            "Epoch 5/100\n",
            "1/1 [==============================] - 0s 13ms/step - loss: 5.7895 - mae: 5.7895\n",
            "Epoch 6/100\n",
            "1/1 [==============================] - 0s 14ms/step - loss: 7.4567 - mae: 7.4567\n",
            "Epoch 7/100\n",
            "1/1 [==============================] - 0s 15ms/step - loss: 6.3418 - mae: 6.3418\n",
            "Epoch 8/100\n",
            "1/1 [==============================] - 0s 13ms/step - loss: 4.6798 - mae: 4.6798\n",
            "Epoch 9/100\n",
            "1/1 [==============================] - 0s 14ms/step - loss: 3.7434 - mae: 3.7434\n",
            "Epoch 10/100\n",
            "1/1 [==============================] - 0s 14ms/step - loss: 4.8728 - mae: 4.8728\n",
            "Epoch 11/100\n",
            "1/1 [==============================] - 0s 15ms/step - loss: 5.2528 - mae: 5.2528\n",
            "Epoch 12/100\n",
            "1/1 [==============================] - 0s 14ms/step - loss: 4.8498 - mae: 4.8498\n",
            "Epoch 13/100\n",
            "1/1 [==============================] - 0s 17ms/step - loss: 3.8100 - mae: 3.8100\n",
            "Epoch 14/100\n",
            "1/1 [==============================] - 0s 15ms/step - loss: 3.6344 - mae: 3.6344\n",
            "Epoch 15/100\n",
            "1/1 [==============================] - 0s 12ms/step - loss: 3.9132 - mae: 3.9132\n",
            "Epoch 16/100\n",
            "1/1 [==============================] - 0s 13ms/step - loss: 3.9053 - mae: 3.9053\n",
            "Epoch 17/100\n",
            "1/1 [==============================] - 0s 11ms/step - loss: 3.5705 - mae: 3.5705\n",
            "Epoch 18/100\n",
            "1/1 [==============================] - 0s 11ms/step - loss: 3.3590 - mae: 3.3590\n",
            "Epoch 19/100\n",
            "1/1 [==============================] - 0s 11ms/step - loss: 3.1959 - mae: 3.1959\n",
            "Epoch 20/100\n",
            "1/1 [==============================] - 0s 12ms/step - loss: 3.2019 - mae: 3.2019\n",
            "Epoch 21/100\n",
            "1/1 [==============================] - 0s 14ms/step - loss: 3.0737 - mae: 3.0737\n",
            "Epoch 22/100\n",
            "1/1 [==============================] - 0s 12ms/step - loss: 2.8257 - mae: 2.8257\n",
            "Epoch 23/100\n",
            "1/1 [==============================] - 0s 12ms/step - loss: 2.7095 - mae: 2.7095\n",
            "Epoch 24/100\n",
            "1/1 [==============================] - 0s 13ms/step - loss: 2.5510 - mae: 2.5510\n",
            "Epoch 25/100\n",
            "1/1 [==============================] - 0s 12ms/step - loss: 2.3416 - mae: 2.3416\n",
            "Epoch 26/100\n",
            "1/1 [==============================] - 0s 12ms/step - loss: 2.0465 - mae: 2.0465\n",
            "Epoch 27/100\n",
            "1/1 [==============================] - 0s 13ms/step - loss: 1.9090 - mae: 1.9090\n",
            "Epoch 28/100\n",
            "1/1 [==============================] - 0s 15ms/step - loss: 1.5337 - mae: 1.5337\n",
            "Epoch 29/100\n",
            "1/1 [==============================] - 0s 15ms/step - loss: 1.3855 - mae: 1.3855\n",
            "Epoch 30/100\n",
            "1/1 [==============================] - 0s 16ms/step - loss: 1.0773 - mae: 1.0773\n",
            "Epoch 31/100\n",
            "1/1 [==============================] - 0s 18ms/step - loss: 0.9311 - mae: 0.9311\n",
            "Epoch 32/100\n",
            "1/1 [==============================] - 0s 14ms/step - loss: 0.4876 - mae: 0.4876\n",
            "Epoch 33/100\n",
            "1/1 [==============================] - 0s 15ms/step - loss: 0.4393 - mae: 0.4393\n",
            "Epoch 34/100\n",
            "1/1 [==============================] - 0s 13ms/step - loss: 1.5056 - mae: 1.5056\n",
            "Epoch 35/100\n",
            "1/1 [==============================] - 0s 11ms/step - loss: 1.3697 - mae: 1.3697\n",
            "Epoch 36/100\n",
            "1/1 [==============================] - 0s 13ms/step - loss: 0.7213 - mae: 0.7213\n",
            "Epoch 37/100\n",
            "1/1 [==============================] - 0s 15ms/step - loss: 1.7808 - mae: 1.7808\n",
            "Epoch 38/100\n",
            "1/1 [==============================] - 0s 11ms/step - loss: 0.9294 - mae: 0.9294\n",
            "Epoch 39/100\n",
            "1/1 [==============================] - 0s 12ms/step - loss: 1.4142 - mae: 1.4142\n",
            "Epoch 40/100\n",
            "1/1 [==============================] - 0s 13ms/step - loss: 1.9491 - mae: 1.9491\n",
            "Epoch 41/100\n",
            "1/1 [==============================] - 0s 18ms/step - loss: 1.4796 - mae: 1.4796\n",
            "Epoch 42/100\n",
            "1/1 [==============================] - 0s 11ms/step - loss: 0.3410 - mae: 0.3410\n",
            "Epoch 43/100\n",
            "1/1 [==============================] - 0s 12ms/step - loss: 1.6324 - mae: 1.6324\n",
            "Epoch 44/100\n",
            "1/1 [==============================] - 0s 12ms/step - loss: 1.3277 - mae: 1.3277\n",
            "Epoch 45/100\n",
            "1/1 [==============================] - 0s 12ms/step - loss: 0.3761 - mae: 0.3761\n",
            "Epoch 46/100\n",
            "1/1 [==============================] - 0s 12ms/step - loss: 1.3671 - mae: 1.3671\n",
            "Epoch 47/100\n",
            "1/1 [==============================] - 0s 12ms/step - loss: 1.3531 - mae: 1.3531\n",
            "Epoch 48/100\n",
            "1/1 [==============================] - 0s 15ms/step - loss: 0.3584 - mae: 0.3584\n",
            "Epoch 49/100\n",
            "1/1 [==============================] - 0s 12ms/step - loss: 1.7583 - mae: 1.7583\n",
            "Epoch 50/100\n",
            "1/1 [==============================] - 0s 11ms/step - loss: 2.3251 - mae: 2.3251\n",
            "Epoch 51/100\n",
            "1/1 [==============================] - 0s 17ms/step - loss: 1.4721 - mae: 1.4721\n",
            "Epoch 52/100\n",
            "1/1 [==============================] - 0s 13ms/step - loss: 0.4385 - mae: 0.4385\n",
            "Epoch 53/100\n",
            "1/1 [==============================] - 0s 14ms/step - loss: 1.4361 - mae: 1.4361\n",
            "Epoch 54/100\n",
            "1/1 [==============================] - 0s 14ms/step - loss: 1.4548 - mae: 1.4548\n",
            "Epoch 55/100\n",
            "1/1 [==============================] - 0s 13ms/step - loss: 0.5828 - mae: 0.5828\n",
            "Epoch 56/100\n",
            "1/1 [==============================] - 0s 13ms/step - loss: 1.2695 - mae: 1.2695\n",
            "Epoch 57/100\n",
            "1/1 [==============================] - 0s 14ms/step - loss: 1.8839 - mae: 1.8839\n",
            "Epoch 58/100\n",
            "1/1 [==============================] - 0s 16ms/step - loss: 1.2823 - mae: 1.2823\n",
            "Epoch 59/100\n",
            "1/1 [==============================] - 0s 13ms/step - loss: 0.4067 - mae: 0.4067\n",
            "Epoch 60/100\n",
            "1/1 [==============================] - 0s 13ms/step - loss: 0.9355 - mae: 0.9355\n",
            "Epoch 61/100\n",
            "1/1 [==============================] - 0s 13ms/step - loss: 0.6977 - mae: 0.6977\n",
            "Epoch 62/100\n",
            "1/1 [==============================] - 0s 13ms/step - loss: 0.5380 - mae: 0.5380\n",
            "Epoch 63/100\n",
            "1/1 [==============================] - 0s 14ms/step - loss: 0.7491 - mae: 0.7491\n",
            "Epoch 64/100\n",
            "1/1 [==============================] - 0s 13ms/step - loss: 0.2205 - mae: 0.2205\n",
            "Epoch 65/100\n",
            "1/1 [==============================] - 0s 14ms/step - loss: 0.9707 - mae: 0.9707\n",
            "Epoch 66/100\n",
            "1/1 [==============================] - 0s 15ms/step - loss: 1.0774 - mae: 1.0774\n",
            "Epoch 67/100\n",
            "1/1 [==============================] - 0s 15ms/step - loss: 0.5134 - mae: 0.5134\n",
            "Epoch 68/100\n",
            "1/1 [==============================] - 0s 12ms/step - loss: 0.9221 - mae: 0.9221\n",
            "Epoch 69/100\n",
            "1/1 [==============================] - 0s 12ms/step - loss: 1.1435 - mae: 1.1435\n",
            "Epoch 70/100\n",
            "1/1 [==============================] - 0s 12ms/step - loss: 0.6164 - mae: 0.6164\n",
            "Epoch 71/100\n",
            "1/1 [==============================] - 0s 12ms/step - loss: 0.8325 - mae: 0.8325\n",
            "Epoch 72/100\n",
            "1/1 [==============================] - 0s 12ms/step - loss: 1.1519 - mae: 1.1519\n",
            "Epoch 73/100\n",
            "1/1 [==============================] - 0s 13ms/step - loss: 0.8011 - mae: 0.8011\n",
            "Epoch 74/100\n",
            "1/1 [==============================] - 0s 12ms/step - loss: 0.3438 - mae: 0.3438\n",
            "Epoch 75/100\n",
            "1/1 [==============================] - 0s 12ms/step - loss: 0.6816 - mae: 0.6816\n",
            "Epoch 76/100\n",
            "1/1 [==============================] - 0s 13ms/step - loss: 0.1879 - mae: 0.1879\n",
            "Epoch 77/100\n",
            "1/1 [==============================] - 0s 13ms/step - loss: 0.6882 - mae: 0.6882\n",
            "Epoch 78/100\n",
            "1/1 [==============================] - 0s 12ms/step - loss: 0.6584 - mae: 0.6584\n",
            "Epoch 79/100\n",
            "1/1 [==============================] - 0s 12ms/step - loss: 0.1804 - mae: 0.1804\n",
            "Epoch 80/100\n",
            "1/1 [==============================] - 0s 13ms/step - loss: 0.3353 - mae: 0.3353\n",
            "Epoch 81/100\n",
            "1/1 [==============================] - 0s 12ms/step - loss: 0.2987 - mae: 0.2987\n",
            "Epoch 82/100\n",
            "1/1 [==============================] - 0s 13ms/step - loss: 0.1267 - mae: 0.1267\n",
            "Epoch 83/100\n",
            "1/1 [==============================] - 0s 12ms/step - loss: 0.6171 - mae: 0.6171\n",
            "Epoch 84/100\n",
            "1/1 [==============================] - 0s 12ms/step - loss: 0.4565 - mae: 0.4565\n",
            "Epoch 85/100\n",
            "1/1 [==============================] - 0s 12ms/step - loss: 0.4223 - mae: 0.4223\n",
            "Epoch 86/100\n",
            "1/1 [==============================] - 0s 12ms/step - loss: 0.4898 - mae: 0.4898\n",
            "Epoch 87/100\n",
            "1/1 [==============================] - 0s 13ms/step - loss: 0.1836 - mae: 0.1836\n",
            "Epoch 88/100\n",
            "1/1 [==============================] - 0s 18ms/step - loss: 0.2366 - mae: 0.2366\n",
            "Epoch 89/100\n",
            "1/1 [==============================] - 0s 15ms/step - loss: 0.4613 - mae: 0.4613\n",
            "Epoch 90/100\n",
            "1/1 [==============================] - 0s 13ms/step - loss: 0.2485 - mae: 0.2485\n",
            "Epoch 91/100\n",
            "1/1 [==============================] - 0s 12ms/step - loss: 0.7235 - mae: 0.7235\n",
            "Epoch 92/100\n",
            "1/1 [==============================] - 0s 12ms/step - loss: 0.7809 - mae: 0.7809\n",
            "Epoch 93/100\n",
            "1/1 [==============================] - 0s 11ms/step - loss: 0.2121 - mae: 0.2121\n",
            "Epoch 94/100\n",
            "1/1 [==============================] - 0s 11ms/step - loss: 0.2732 - mae: 0.2732\n",
            "Epoch 95/100\n",
            "1/1 [==============================] - 0s 12ms/step - loss: 0.2879 - mae: 0.2879\n",
            "Epoch 96/100\n",
            "1/1 [==============================] - 0s 12ms/step - loss: 0.1421 - mae: 0.1421\n",
            "Epoch 97/100\n",
            "1/1 [==============================] - 0s 12ms/step - loss: 0.4443 - mae: 0.4443\n",
            "Epoch 98/100\n",
            "1/1 [==============================] - 0s 11ms/step - loss: 0.2587 - mae: 0.2587\n",
            "Epoch 99/100\n",
            "1/1 [==============================] - 0s 11ms/step - loss: 0.7057 - mae: 0.7057\n",
            "Epoch 100/100\n",
            "1/1 [==============================] - 0s 11ms/step - loss: 0.6246 - mae: 0.6246\n"
          ]
        },
        {
          "output_type": "execute_result",
          "data": {
            "text/plain": [
              "<keras.src.callbacks.History at 0x7c544979ec20>"
            ]
          },
          "metadata": {},
          "execution_count": 56
        }
      ]
    },
    {
      "cell_type": "markdown",
      "source": [
        "* The loss function is again by far smaller (SGD vs. ADAM).\n",
        "* Notice that these MAE values are the training losses.\n",
        "* We might very well be *overfitting* to the training data when we, for example, add too many hidden layers."
      ],
      "metadata": {
        "id": "nmRBx21oYTJa"
      }
    },
    {
      "cell_type": "markdown",
      "source": [
        "Common ways to improve a deep learning model:\n",
        "* Adding layers\n",
        "* Increase the number of hidden units\n",
        "* Change the activation functions\n",
        "* Change the optimization function\n",
        "* Change the learning rate of the optimization function\n",
        "* Fitting for longer (increasing the number of epochs)\n",
        "\n",
        "**Important** note: the *learning rate* is potentially the most important hyperparameter you can tune to improve your NN model."
      ],
      "metadata": {
        "id": "ti7kiq_ga2Fh"
      }
    },
    {
      "cell_type": "markdown",
      "source": [
        "<br>"
      ],
      "metadata": {
        "id": "aNA5HInbcpNp"
      }
    },
    {
      "cell_type": "markdown",
      "source": [
        "<h3>Performance evaluation</h3>"
      ],
      "metadata": {
        "id": "dOiQOhibcpWa"
      }
    },
    {
      "cell_type": "markdown",
      "source": [
        "In practice, a typical workflow you'll go through when building a NN is:\n",
        "\n",
        "* build a model $\\, \\boldsymbol{\\rightarrow} \\,$ fit it $\\, \\boldsymbol{\\rightarrow} \\,$ evaluate it $\\, \\boldsymbol{\\rightarrow} \\,$ tweak it $\\, \\boldsymbol{\\rightarrow} \\,$ fit it $\\, \\boldsymbol{\\rightarrow} \\,$ evaluate it $\\, \\boldsymbol{\\rightarrow} \\,$ tweak it $\\, \\boldsymbol{\\rightarrow} \\,$ fit it $\\, \\boldsymbol{\\rightarrow} \\,$ evaluate it ..."
      ],
      "metadata": {
        "id": "7oC-R-p1c1Ol"
      }
    },
    {
      "cell_type": "markdown",
      "source": [
        "When it comes to performance evaluation, there are 3 words one should memorize:\n",
        "* \"visualize, visualize, visualize\".\n",
        "\n",
        "It's a good idea to visualize:\n",
        "* the data – what kind of data are we working with? What does it look like?\n",
        "* the model itself – what does our model look like?\n",
        "* the training of a model – how does a model perform while it learns?\n",
        "* the predictions of the model – how do the predictions of a model line up against the ground truth (true labels)?"
      ],
      "metadata": {
        "id": "B9L46qb1eD1y"
      }
    },
    {
      "cell_type": "code",
      "source": [
        "# Make a bigger dataset\n",
        "X = tf.range(-100, 101, 4)\n",
        "\n",
        "# Let's say that the pattern we want our model to learn is y = X + 10\n",
        "y = X + 10"
      ],
      "metadata": {
        "id": "3KKcaOaJe9o6"
      },
      "execution_count": 3,
      "outputs": []
    },
    {
      "cell_type": "code",
      "source": [
        "X, y"
      ],
      "metadata": {
        "colab": {
          "base_uri": "https://localhost:8080/"
        },
        "id": "3VsOZlANfPzj",
        "outputId": "6f896a94-7d14-4c99-8672-0ca746eee49f"
      },
      "execution_count": 4,
      "outputs": [
        {
          "output_type": "execute_result",
          "data": {
            "text/plain": [
              "(<tf.Tensor: shape=(51,), dtype=int32, numpy=\n",
              " array([-100,  -96,  -92,  -88,  -84,  -80,  -76,  -72,  -68,  -64,  -60,\n",
              "         -56,  -52,  -48,  -44,  -40,  -36,  -32,  -28,  -24,  -20,  -16,\n",
              "         -12,   -8,   -4,    0,    4,    8,   12,   16,   20,   24,   28,\n",
              "          32,   36,   40,   44,   48,   52,   56,   60,   64,   68,   72,\n",
              "          76,   80,   84,   88,   92,   96,  100], dtype=int32)>,\n",
              " <tf.Tensor: shape=(51,), dtype=int32, numpy=\n",
              " array([-90, -86, -82, -78, -74, -70, -66, -62, -58, -54, -50, -46, -42,\n",
              "        -38, -34, -30, -26, -22, -18, -14, -10,  -6,  -2,   2,   6,  10,\n",
              "         14,  18,  22,  26,  30,  34,  38,  42,  46,  50,  54,  58,  62,\n",
              "         66,  70,  74,  78,  82,  86,  90,  94,  98, 102, 106, 110],\n",
              "       dtype=int32)>)"
            ]
          },
          "metadata": {},
          "execution_count": 4
        }
      ]
    },
    {
      "cell_type": "markdown",
      "source": [
        "**Data splits:**\n",
        "* Training set – the model learns from this data.\n",
        "* Validation set – the model gets validated (evaluated) and tuned on this data $\\, \\boldsymbol{\\rightarrow} \\,$ prevent overfitting to the training data.\n",
        "* Test set – the final model gets evaluated on this data $\\, \\boldsymbol{\\rightarrow} \\,$ evaluate how well does the model generalize to new, unseen data.\n",
        "\n",
        "The motivation behind data splits are that we want to ensure that our model generalizes well on new, unseen data, and to prevent overfitting to the training data."
      ],
      "metadata": {
        "id": "2j5QO2eXgDds"
      }
    },
    {
      "cell_type": "code",
      "source": [
        "# Split the data into training and testing sets.\n",
        "X_train, X_test, y_train, y_test = train_test_split(X.numpy(),\n",
        "                                                    y.numpy(),\n",
        "                                                    test_size=0.2,\n",
        "                                                    random_state=101)\n",
        "X_train = tf.constant(X_train)\n",
        "X_test = tf.constant(X_test)\n",
        "y_train = tf.constant(y_train)\n",
        "y_test = tf.constant(y_test)"
      ],
      "metadata": {
        "id": "7ua-IWykiSJF"
      },
      "execution_count": 5,
      "outputs": []
    },
    {
      "cell_type": "markdown",
      "source": [
        "* Notice that we cannot pass TensorFlow tensors into sklearn's *train_test_split()* function.\n",
        "* NumPy arrays, however, can be passed into the *train_test_split()* function.\n",
        "* Use the *numpy()* function that the TensorFlow tensors have $\\, \\boldsymbol{\\rightarrow} \\,$ pass the NumPy arrays into the *train_test_split()* function $\\, \\boldsymbol{\\rightarrow} \\,$ convert the output of *the train_test_split()* function back to TensorFlow tensors."
      ],
      "metadata": {
        "id": "AZMaIXwLpiah"
      }
    },
    {
      "cell_type": "code",
      "source": [
        "len(X_train), len(y_train), len(X_test), len(y_test)"
      ],
      "metadata": {
        "colab": {
          "base_uri": "https://localhost:8080/"
        },
        "id": "Ms6OTLGqrHPM",
        "outputId": "9d843040-0382-4c84-c8fe-00efb84d43d2"
      },
      "execution_count": null,
      "outputs": [
        {
          "output_type": "execute_result",
          "data": {
            "text/plain": [
              "(40, 40, 11, 11)"
            ]
          },
          "metadata": {},
          "execution_count": 7
        }
      ]
    },
    {
      "cell_type": "code",
      "source": [
        "# Visualizing the data\n",
        "plt.figure(figsize=(8, 6))\n",
        "plt.scatter(X_train, y_train, c='b', label='training data')\n",
        "plt.scatter(X_test, y_test, c='r', label='testing data')\n",
        "plt.legend();"
      ],
      "metadata": {
        "colab": {
          "base_uri": "https://localhost:8080/",
          "height": 522
        },
        "id": "NKq2X9gTrgII",
        "outputId": "baabef0e-bade-45b8-9075-dd4400daa16b"
      },
      "execution_count": null,
      "outputs": [
        {
          "output_type": "display_data",
          "data": {
            "text/plain": [
              "<Figure size 800x600 with 1 Axes>"
            ],
            "image/png": "[encoded data removed]"
          },
          "metadata": {}
        }
      ]
    },
    {
      "cell_type": "code",
      "source": [
        "# Create a NN\n",
        "\n",
        "# 1. Create a model\n",
        "model = tf.keras.Sequential(name='xyz')\n",
        "\n",
        "# Add an input layer (this only defines the shape of the input data)\n",
        "# This DOES NOT contain any hidden units!\n",
        "model.add(tf.keras.Input(shape=(1,), name='input_layer'))\n",
        "\n",
        "# Add a dense layer (hidden layer) with 10 hidden units\n",
        "model.add(tf.keras.layers.Dense(units=10, activation='relu', name='hidden_layer'))\n",
        "\n",
        "# Add an output layer.\n",
        "# In regression we want our output layer to contain only one unit,\n",
        "# since the output needs to be a scalar (e.g., prediction for a house price)\n",
        "model.add(tf.keras.layers.Dense(units=1, activation='linear', name='output_layer'))\n",
        "\n",
        "# 2. Compile the model\n",
        "model.compile(loss=tf.keras.losses.mse,\n",
        "              optimizer=tf.keras.optimizers.Adam(learning_rate=0.01),\n",
        "              metrics=['mse'])"
      ],
      "metadata": {
        "id": "PEettYVOsiDd"
      },
      "execution_count": 6,
      "outputs": []
    },
    {
      "cell_type": "code",
      "source": [
        "# Before fitting, let's visualize the model\n",
        "model.summary()"
      ],
      "metadata": {
        "colab": {
          "base_uri": "https://localhost:8080/"
        },
        "id": "7xI311f0t8en",
        "outputId": "d5720f81-80d2-4275-f7b4-b213225216e1"
      },
      "execution_count": 7,
      "outputs": [
        {
          "output_type": "stream",
          "name": "stdout",
          "text": [
            "Model: \"xyz\"\n",
            "_________________________________________________________________\n",
            " Layer (type)                Output Shape              Param #   \n",
            "=================================================================\n",
            " hidden_layer (Dense)        (None, 10)                20        \n",
            "                                                                 \n",
            " output_layer (Dense)        (None, 1)                 11        \n",
            "                                                                 \n",
            "=================================================================\n",
            "Total params: 31 (124.00 Byte)\n",
            "Trainable params: 31 (124.00 Byte)\n",
            "Non-trainable params: 0 (0.00 Byte)\n",
            "_________________________________________________________________\n"
          ]
        }
      ]
    },
    {
      "cell_type": "markdown",
      "source": [
        "* Total params – the total number of parameters in the model (i.e., the total number of *patterns* our model is going to try to learn within the relationship between X and y).\n",
        "\n",
        "* Trainable params  – these are the parameters (patterns) the model can update as it trains.\n",
        "\n",
        "* Non-trainable params – these parameters aren't updated during the training (this is typical when you bring in already learned patterns or parameters from other models during **transfer learning**)."
      ],
      "metadata": {
        "id": "EZsRdJzqv-2w"
      }
    },
    {
      "cell_type": "code",
      "source": [
        "# Fit the model on the training data\n",
        "model.fit(tf.expand_dims(X_train, axis=1), y_train, epochs=100, verbose=0)"
      ],
      "metadata": {
        "colab": {
          "base_uri": "https://localhost:8080/"
        },
        "id": "PKG8_OHVxylJ",
        "outputId": "7c6b41f2-6f94-45e9-e0f2-c3f38634ec3a"
      },
      "execution_count": 8,
      "outputs": [
        {
          "output_type": "execute_result",
          "data": {
            "text/plain": [
              "<keras.src.callbacks.History at 0x79f75dd99690>"
            ]
          },
          "metadata": {},
          "execution_count": 8
        }
      ]
    },
    {
      "cell_type": "markdown",
      "source": [
        "* When we set verbose=0, the model output is \"silent\" (the loss function information on each epoch is not displayed).\n",
        "* This means that we cannot see the loss function score on each round of iteration.\n",
        "* We can check the scores for both training and testing data using the evaluate() function."
      ],
      "metadata": {
        "id": "mGLzv8C7yUTt"
      }
    },
    {
      "cell_type": "code",
      "source": [
        "# Check the MSE (loss) for both training and testing data\n",
        "train_loss = model.evaluate(tf.expand_dims(X_train, axis=1), y_train)\n",
        "test_loss = model.evaluate(tf.expand_dims(X_test, axis=1), y_test)\n",
        "print(f'Training loss: {train_loss}')\n",
        "print(f'Test loss: {test_loss}')"
      ],
      "metadata": {
        "colab": {
          "base_uri": "https://localhost:8080/"
        },
        "id": "N-FUo0pGydXA",
        "outputId": "ddefede5-9da3-4574-aee9-d43ce5374933"
      },
      "execution_count": 9,
      "outputs": [
        {
          "output_type": "stream",
          "name": "stdout",
          "text": [
            "2/2 [==============================] - 0s 9ms/step - loss: 16.2022 - mse: 16.2022\n",
            "1/1 [==============================] - 0s 26ms/step - loss: 20.8848 - mse: 20.8848\n",
            "Training loss: [16.202224731445312, 16.202224731445312]\n",
            "Test loss: [20.88477897644043, 20.88477897644043]\n"
          ]
        }
      ]
    },
    {
      "cell_type": "code",
      "source": [
        "# Visualize the layers of the model\n",
        "from tensorflow.keras.utils import plot_model"
      ],
      "metadata": {
        "id": "pXHnGwtO2VeO"
      },
      "execution_count": 10,
      "outputs": []
    },
    {
      "cell_type": "code",
      "source": [
        "plot_model(model=model, show_shapes=True)"
      ],
      "metadata": {
        "colab": {
          "base_uri": "https://localhost:8080/",
          "height": 312
        },
        "id": "UQqR_ut22rn7",
        "outputId": "a17ce162-f3de-4b6c-e320-4bb7812ad885"
      },
      "execution_count": 11,
      "outputs": [
        {
          "output_type": "execute_result",
          "data": {
            "image/png": "[encoded data removed]",
            "text/plain": [
              "<IPython.core.display.Image object>"
            ]
          },
          "metadata": {},
          "execution_count": 11
        }
      ]
    },
    {
      "cell_type": "markdown",
      "source": [
        "* A **Dense** layer (also known as fully connected layer) is a type of layer where each input node is connected to each output note with a learnable weight.\n",
        "* A Dense layer is one of the most common types of layers used in neural networks.\n",
        "\n",
        "* **Hidden layer(s)** are the layers in between the input layer and the output layer.\n",
        "* They are called *hidden* because they are not directly exposed to the input or the output, but instead process the input data internally to learn features that help in the process of making the predictions."
      ],
      "metadata": {
        "id": "qJOtxPFt9HZz"
      }
    },
    {
      "cell_type": "markdown",
      "source": [
        "<br>"
      ],
      "metadata": {
        "id": "PEHMB5G1-WVV"
      }
    },
    {
      "cell_type": "markdown",
      "source": [
        "<h3>Visualizing our models predictions</h3>"
      ],
      "metadata": {
        "id": "fv-6YBrE-WXs"
      }
    },
    {
      "cell_type": "markdown",
      "source": [
        "To visualize the predictions, it's a good idea to plot them (*y_pred*) against the true labels (*y_test*)."
      ],
      "metadata": {
        "id": "B1AlH-zhC9Nc"
      }
    },
    {
      "cell_type": "code",
      "source": [
        "X_test.shape"
      ],
      "metadata": {
        "colab": {
          "base_uri": "https://localhost:8080/"
        },
        "id": "ImTvr3huDWay",
        "outputId": "d8a67f21-4bcf-4031-cd7e-48c52173ffc4"
      },
      "execution_count": 12,
      "outputs": [
        {
          "output_type": "execute_result",
          "data": {
            "text/plain": [
              "TensorShape([11])"
            ]
          },
          "metadata": {},
          "execution_count": 12
        }
      ]
    },
    {
      "cell_type": "code",
      "source": [
        "# Make predictions using the X_test set\n",
        "y_pred = model.predict(X_test, verbose=False)\n",
        "y_pred.shape"
      ],
      "metadata": {
        "colab": {
          "base_uri": "https://localhost:8080/"
        },
        "id": "P41BUlm4DJsh",
        "outputId": "9de67384-23bf-4a1a-a8e1-1ca31d1e4605"
      },
      "execution_count": 13,
      "outputs": [
        {
          "output_type": "execute_result",
          "data": {
            "text/plain": [
              "(11, 1)"
            ]
          },
          "metadata": {},
          "execution_count": 13
        }
      ]
    },
    {
      "cell_type": "markdown",
      "source": [
        "* Since *X_test* has 11 elements, y_pred will also have 11 elements (a prediction $\\, \\hat{y}_1, \\hat{y}_2, ... ,  \\hat{y}_{11} \\,$ for each of the input values)."
      ],
      "metadata": {
        "id": "HVxby20VDgjI"
      }
    },
    {
      "cell_type": "code",
      "source": [
        "y_pred.shape, y_test.numpy().shape"
      ],
      "metadata": {
        "colab": {
          "base_uri": "https://localhost:8080/"
        },
        "id": "KPY0ztYMElyS",
        "outputId": "9c8dcbd4-3d91-4b9b-ebfb-85c067ce1cf0"
      },
      "execution_count": 14,
      "outputs": [
        {
          "output_type": "execute_result",
          "data": {
            "text/plain": [
              "((11, 1), (11,))"
            ]
          },
          "metadata": {},
          "execution_count": 14
        }
      ]
    },
    {
      "cell_type": "code",
      "source": [
        "y_pred.flatten().shape"
      ],
      "metadata": {
        "colab": {
          "base_uri": "https://localhost:8080/"
        },
        "id": "0iXjdmhvEs_P",
        "outputId": "dbae1687-9893-49f4-8f2c-2f23f3d6088e"
      },
      "execution_count": 15,
      "outputs": [
        {
          "output_type": "execute_result",
          "data": {
            "text/plain": [
              "(11,)"
            ]
          },
          "metadata": {},
          "execution_count": 15
        }
      ]
    },
    {
      "cell_type": "code",
      "source": [
        "# Visualize side by side the test labels vs the predicted labels.\n",
        "# The 1st element of the tuple is the test (true) label,\n",
        "# and the 2nd element of the tuple is the predicted label: (y_test, y_pred).\n",
        "[(sorted(y_test.numpy())[i], sorted(y_pred.flatten())[i]) for i in range(len(y_test))]"
      ],
      "metadata": {
        "colab": {
          "base_uri": "https://localhost:8080/"
        },
        "id": "YYbWas6yHYDb",
        "outputId": "636e066a-c702-4e84-c317-9dbab7a56393"
      },
      "execution_count": 16,
      "outputs": [
        {
          "output_type": "execute_result",
          "data": {
            "text/plain": [
              "[(-86, -83.46458),\n",
              " (-34, -37.382385),\n",
              " (-26, -30.292816),\n",
              " (-6, -12.568894),\n",
              " (-2, -9.02411),\n",
              " (14, 6.3362913),\n",
              " (38, 33.18457),\n",
              " (58, 55.553055),\n",
              " (82, 82.39523),\n",
              " (98, 100.29002),\n",
              " (102, 104.76372)]"
            ]
          },
          "metadata": {},
          "execution_count": 16
        }
      ]
    },
    {
      "cell_type": "code",
      "source": [
        "def plot_predictions(X_train, y_train, X_test, y_test, y_pred):\n",
        "    \"\"\"\n",
        "    Plots training data, testing data, and compares predictions to the true labels.\n",
        "    \"\"\"\n",
        "    plt.figure(figsize=(8,6), dpi=100)\n",
        "\n",
        "    # Plot training data\n",
        "    plt.scatter(X_train, y_train, c='b', marker='x', label='training data')\n",
        "\n",
        "    # Plot testing data\n",
        "    plt.scatter(X_test, y_test, c='r', marker='o', label='testing data')\n",
        "\n",
        "    # Plot predictions vs true labels\n",
        "    plt.scatter(y_pred, y_test, c='black', edgecolor='yellow', label='test vs. pred')\n",
        "\n",
        "    plt.grid(True)\n",
        "    plt.legend();"
      ],
      "metadata": {
        "id": "L7g2xkykH-Ys"
      },
      "execution_count": null,
      "outputs": []
    },
    {
      "cell_type": "code",
      "source": [
        "plot_predictions(X_train, y_train, X_test, y_test, y_pred)"
      ],
      "metadata": {
        "colab": {
          "base_uri": "https://localhost:8080/",
          "height": 522
        },
        "id": "0dDhTLvuIaRK",
        "outputId": "cd12dd72-a4e3-4de1-8281-1ea8a7395617"
      },
      "execution_count": null,
      "outputs": [
        {
          "output_type": "display_data",
          "data": {
            "text/plain": [
              "<Figure size 800x600 with 1 Axes>"
            ],
            "image/png": "[encoded data removed]"
          },
          "metadata": {}
        }
      ]
    },
    {
      "cell_type": "markdown",
      "source": [
        "* Note that when you plot the predicted values against the true values, if the model were perfect, all points would lie on the line $\\, y=x, \\,$ since that is where the predicted value equals the true value."
      ],
      "metadata": {
        "id": "LguLwZd0OMQS"
      }
    },
    {
      "cell_type": "code",
      "source": [
        "plt.figure(figsize=(8,6), dpi=100)\n",
        "plt.scatter(X_test, y_pred, c='green', label='Predicted labels')\n",
        "plt.scatter(X_test, y_test, c='purple', label='True labels')\n",
        "plt.legend()\n",
        "plt.grid(True);"
      ],
      "metadata": {
        "colab": {
          "base_uri": "https://localhost:8080/",
          "height": 522
        },
        "id": "pjAjep9yM_ps",
        "outputId": "c7e02be5-c6e8-4b8e-c82d-8fab389479e2"
      },
      "execution_count": null,
      "outputs": [
        {
          "output_type": "display_data",
          "data": {
            "text/plain": [
              "<Figure size 800x600 with 1 Axes>"
            ],
            "image/png": "[encoded data removed]"
          },
          "metadata": {}
        }
      ]
    },
    {
      "cell_type": "code",
      "source": [
        "plt.figure(figsize=(8,6), dpi=100)\n",
        "plt.scatter(y_pred, y_test, c='black')\n",
        "plt.xlabel('Predicted values')\n",
        "plt.ylabel('True values')\n",
        "plt.plot([min(y_test), max(y_test)],\n",
        "         [min(y_test), max(y_test)],\n",
        "         'r--',\n",
        "         label='ideal line')\n",
        "plt.legend();"
      ],
      "metadata": {
        "colab": {
          "base_uri": "https://localhost:8080/",
          "height": 542
        },
        "id": "zjJwcdUgO8j4",
        "outputId": "b9c4c1bb-96de-4657-c205-bda224e5c99f"
      },
      "execution_count": null,
      "outputs": [
        {
          "output_type": "display_data",
          "data": {
            "text/plain": [
              "<Figure size 800x600 with 1 Axes>"
            ],
            "image/png": "[encoded data removed]"
          },
          "metadata": {}
        }
      ]
    },
    {
      "cell_type": "markdown",
      "source": [
        "<br>"
      ],
      "metadata": {
        "id": "YejxJVMzRTLa"
      }
    },
    {
      "cell_type": "markdown",
      "source": [
        "<h3>Evaluating our model's predictions with regression evaluation metrics</h3>"
      ],
      "metadata": {
        "id": "E4wLsOL5RTWR"
      }
    },
    {
      "cell_type": "markdown",
      "source": [
        "Depending on the problem you're working on, there will be different evaluation metrics to evaluate your model's performance.\n",
        "\n",
        "Since we're working with regression, two of the main performance metrics include:\n",
        "\n",
        "* *MAE* (mean absolute error) – \"on average, how wrong each of the model's predictions are\"\n",
        "* *MSE* (mean squared error)"
      ],
      "metadata": {
        "id": "ww0kQlJNQmRz"
      }
    },
    {
      "cell_type": "markdown",
      "source": [
        "$$ MAE = \\frac{1}{m} \\sum_{i=1}^{m} |y_i - \\hat{y}_i| $$"
      ],
      "metadata": {
        "id": "ICl5TlPQT4O8"
      }
    },
    {
      "cell_type": "markdown",
      "source": [
        "$$ MSE = \\frac{1}{m} \\sum_{i=1}^{m} (y_i  - \\hat{y}_i)^{2} $$"
      ],
      "metadata": {
        "id": "umENJztbUU10"
      }
    },
    {
      "cell_type": "markdown",
      "source": [
        "* *MAE* is a great starter metric for any regression problem.\n",
        "* *MSE* is very useful when larger errors are more significant than smaller errors. This is because when we square the errors, larger errors contribute more heavily to the total error.\n",
        "* In addition to these, check *Huber* $\\, \\boldsymbol{\\rightarrow} \\,$ [HERE](https://en.wikipedia.org/wiki/Huber_loss)"
      ],
      "metadata": {
        "id": "k9jEbjSwVZZI"
      }
    },
    {
      "cell_type": "code",
      "source": [
        "# Evaluate the model's performance on the testing data\n",
        "model.evaluate(tf.expand_dims(X_test, axis=1), y_test)"
      ],
      "metadata": {
        "colab": {
          "base_uri": "https://localhost:8080/"
        },
        "id": "wRpGOQkvXInE",
        "outputId": "98def4db-14bb-4e6d-da25-c91d544c9ec0"
      },
      "execution_count": 19,
      "outputs": [
        {
          "output_type": "stream",
          "name": "stdout",
          "text": [
            "1/1 [==============================] - 0s 53ms/step - loss: 20.8848 - mse: 20.8848\n"
          ]
        },
        {
          "output_type": "execute_result",
          "data": {
            "text/plain": [
              "[20.88477897644043, 20.88477897644043]"
            ]
          },
          "metadata": {},
          "execution_count": 19
        }
      ]
    },
    {
      "cell_type": "code",
      "source": [
        "# We can do it by hand also\n",
        "def mse(y_test, y_pred):\n",
        "    error = 0\n",
        "    m = len(y_test)\n",
        "    for i in range(m):\n",
        "        error += (y_test[i] - y_pred[i])**2\n",
        "    return (error / m).numpy()[0]"
      ],
      "metadata": {
        "id": "vK851H2KYHH2"
      },
      "execution_count": 33,
      "outputs": []
    },
    {
      "cell_type": "code",
      "source": [
        "mse(y_test, y_pred)"
      ],
      "metadata": {
        "colab": {
          "base_uri": "https://localhost:8080/"
        },
        "id": "rgH8TGReYJwK",
        "outputId": "3a60bba5-c08e-4c34-979c-30dd482f56d5"
      },
      "execution_count": 34,
      "outputs": [
        {
          "output_type": "execute_result",
          "data": {
            "text/plain": [
              "20.454545454545453"
            ]
          },
          "metadata": {},
          "execution_count": 34
        }
      ]
    },
    {
      "cell_type": "markdown",
      "source": [
        "* The slight difference compared to the error provided by TensorFlow's *MSE* function is probably due to differences in the usage of the floats (the precision, i.e., how many decimal numbers are included in the calculations)."
      ],
      "metadata": {
        "id": "dhszi8kRYqEZ"
      }
    },
    {
      "cell_type": "code",
      "source": [
        "# Let's use TensorFlow's ready made MSE function\n",
        "tf.metrics.mean_absolute_error(y_test, y_pred)"
      ],
      "metadata": {
        "colab": {
          "base_uri": "https://localhost:8080/"
        },
        "id": "ejBN8PGdZ-wh",
        "outputId": "9988526f-04b4-4ac4-9758-c163f2017d65"
      },
      "execution_count": 40,
      "outputs": [
        {
          "output_type": "execute_result",
          "data": {
            "text/plain": [
              "<tf.Tensor: shape=(11,), dtype=float32, numpy=\n",
              "array([ 55.332653,  67.858315,  53.894955,  50.10769 ,  52.283688,\n",
              "       105.56192 ,  49.060337,  78.96457 ,  67.1606  ,  83.12735 ,\n",
              "        62.73179 ], dtype=float32)>"
            ]
          },
          "metadata": {},
          "execution_count": 40
        }
      ]
    },
    {
      "cell_type": "markdown",
      "source": [
        "* Notice that we get an array, not a scalar error value (like we should).\n",
        "* This is because y_pred and y_test do not have the same shape.\n",
        "* When calculating the error metrics with ready made functions, we need to feed in two *tf.tensors / np.arrays* of the same shape.\n",
        "* Regarding the types of y_test and y_pred, it does not matter if one is tf.tensor and the other one is np.array, TensorFlow knows how to deal with these."
      ],
      "metadata": {
        "id": "eT1SfH1JagP5"
      }
    },
    {
      "cell_type": "code",
      "source": [
        "print(y_test.shape)\n",
        "print(y_pred.shape)"
      ],
      "metadata": {
        "colab": {
          "base_uri": "https://localhost:8080/"
        },
        "id": "n1r0FscZayNa",
        "outputId": "f98c1e5a-e904-4262-c2a7-a103b35af764"
      },
      "execution_count": 67,
      "outputs": [
        {
          "output_type": "stream",
          "name": "stdout",
          "text": [
            "(11,)\n",
            "(11, 1)\n"
          ]
        }
      ]
    },
    {
      "cell_type": "code",
      "source": [
        "tf.metrics.mean_squared_error(y_test, y_pred.ravel())"
      ],
      "metadata": {
        "colab": {
          "base_uri": "https://localhost:8080/"
        },
        "id": "w-c-2F4FbEAb",
        "outputId": "e9df1aad-faef-4135-e6e3-6d3e9e07a80d"
      },
      "execution_count": 68,
      "outputs": [
        {
          "output_type": "execute_result",
          "data": {
            "text/plain": [
              "<tf.Tensor: shape=(), dtype=float32, numpy=20.884777>"
            ]
          },
          "metadata": {},
          "execution_count": 68
        }
      ]
    }
  ]
}