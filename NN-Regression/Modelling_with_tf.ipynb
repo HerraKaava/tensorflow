{
  "nbformat": 4,
  "nbformat_minor": 0,
  "metadata": {
    "colab": {
      "provenance": [],
      "authorship_tag": "ABX9TyNyRxIXS6r9hs/28JtmLkk3",
      "include_colab_link": true
    },
    "kernelspec": {
      "name": "python3",
      "display_name": "Python 3"
    },
    "language_info": {
      "name": "python"
    }
  },
  "cells": [
    {
      "cell_type": "markdown",
      "metadata": {
        "id": "view-in-github",
        "colab_type": "text"
      },
      "source": [
        "<a href=\"https://colab.research.google.com/github/HerraKaava/tensorflow/blob/main/NN-Regression/Modelling_with_tf.ipynb\" target=\"_parent\"><img src=\"https://colab.research.google.com/assets/colab-badge.svg\" alt=\"Open In Colab\"/></a>"
      ]
    },
    {
      "cell_type": "markdown",
      "source": [
        "<h1>The major steps in modelling with TensorFlow</h1>"
      ],
      "metadata": {
        "id": "LKF6OR79tdrD"
      }
    },
    {
      "cell_type": "markdown",
      "source": [
        "1. Creating a model - define the input and output layers, as well as the hidden layers of a deep learning model.\n",
        "2. Compiling a model - define the loss function (in other words, the function which tells our model how wrong it is), the optimizer (tells our model how to improve the patterns its learning), and evaluation metrics (what we can use to interpret the performance of our model).\n",
        "3. Fitting a model - letting the model to try and find patterns between the features and the labels."
      ],
      "metadata": {
        "id": "sVaGm5xjzx6c"
      }
    },
    {
      "cell_type": "markdown",
      "source": [
        "Note. There are many definitions for a regression problem, but in our case, we're going to simplify it: predicting a continuous (output) variable based on some combination of (explanatory) variables."
      ],
      "metadata": {
        "id": "aubCSQuSvvKA"
      }
    },
    {
      "cell_type": "markdown",
      "source": [
        "<br>"
      ],
      "metadata": {
        "id": "ZBrjRwo3tnIn"
      }
    },
    {
      "cell_type": "code",
      "source": [
        "import tensorflow as tf\n",
        "import numpy as np\n",
        "import matplotlib.pyplot as plt"
      ],
      "metadata": {
        "id": "gFW5kfxnwE4L"
      },
      "execution_count": 6,
      "outputs": []
    },
    {
      "cell_type": "code",
      "source": [
        "print(tf.__version__)"
      ],
      "metadata": {
        "colab": {
          "base_uri": "https://localhost:8080/"
        },
        "id": "jMfTSKD9wGeP",
        "outputId": "a6b906e6-504d-4abf-f880-f3e1c3dcf18c"
      },
      "execution_count": 5,
      "outputs": [
        {
          "output_type": "stream",
          "name": "stdout",
          "text": [
            "2.15.0\n"
          ]
        }
      ]
    },
    {
      "cell_type": "markdown",
      "source": [
        "<h3>Creating sample regression data</h3>\n",
        "\n",
        "\n"
      ],
      "metadata": {
        "id": "BiQUtdf_to0H"
      }
    },
    {
      "cell_type": "code",
      "source": [
        "# Create features\n",
        "X = np.array([-7.0, -4.0, -1.0, 2.0, 5.0, 8.0, 11.0, 14.0])\n",
        "\n",
        "# Create labels\n",
        "y = np.array([3.0, 6.0, 9.0, 12.0, 15.0, 18.0, 21.0, 24.0])"
      ],
      "metadata": {
        "id": "mPSOF178v7jn"
      },
      "execution_count": 8,
      "outputs": []
    },
    {
      "cell_type": "code",
      "source": [
        "# Visualize the relationship between X and y\n",
        "plt.scatter(X, y);"
      ],
      "metadata": {
        "colab": {
          "base_uri": "https://localhost:8080/",
          "height": 435
        },
        "id": "tsyjQN7Rwhy_",
        "outputId": "181a1792-7694-426e-b27a-28f528bde50b"
      },
      "execution_count": 9,
      "outputs": [
        {
          "output_type": "display_data",
          "data": {
            "text/plain": [
              "<Figure size 640x480 with 1 Axes>"
            ],
            "image/png": "[encoded data removed]"
          },
          "metadata": {}
        }
      ]
    },
    {
      "cell_type": "code",
      "source": [
        "(y == X+10).all()"
      ],
      "metadata": {
        "colab": {
          "base_uri": "https://localhost:8080/"
        },
        "id": "wr3GqHgqw7aY",
        "outputId": "7d39b67f-8466-4d56-98a3-0b126e4da4dc"
      },
      "execution_count": 11,
      "outputs": [
        {
          "output_type": "execute_result",
          "data": {
            "text/plain": [
              "True"
            ]
          },
          "metadata": {},
          "execution_count": 11
        }
      ]
    },
    {
      "cell_type": "markdown",
      "source": [
        "<br>"
      ],
      "metadata": {
        "id": "EwESwok1xoOa"
      }
    },
    {
      "cell_type": "markdown",
      "source": [
        "<h3>Input and output shapes</h3>"
      ],
      "metadata": {
        "id": "eBTvLo8lxo2g"
      }
    },
    {
      "cell_type": "code",
      "source": [
        "# Create demo tensors for our housing price prediction problem\n",
        "house_info = tf.constant(['bedroom', 'bathroom', 'garage'])\n",
        "house_price = tf.constant([939700])\n",
        "house_info, house_price"
      ],
      "metadata": {
        "colab": {
          "base_uri": "https://localhost:8080/"
        },
        "id": "Lzb8VrEWxrPw",
        "outputId": "89929d08-d964-474b-fbe5-7bb6cd5a48b0"
      },
      "execution_count": 13,
      "outputs": [
        {
          "output_type": "execute_result",
          "data": {
            "text/plain": [
              "(<tf.Tensor: shape=(3,), dtype=string, numpy=array([b'bedroom', b'bathroom', b'garage'], dtype=object)>,\n",
              " <tf.Tensor: shape=(1,), dtype=int32, numpy=array([939700], dtype=int32)>)"
            ]
          },
          "metadata": {},
          "execution_count": 13
        }
      ]
    },
    {
      "cell_type": "code",
      "source": [
        "# Convert our numpy arrays into tensors with dtype float32\n",
        "X = tf.cast(tf.constant(X), dtype=tf.float32)\n",
        "y = tf.cast(tf.constant(y), dtype=tf.float32)\n",
        "X, y"
      ],
      "metadata": {
        "colab": {
          "base_uri": "https://localhost:8080/"
        },
        "id": "plAcvnbiyPJQ",
        "outputId": "4893e585-39ca-4d57-e506-5e92f3f83bd2"
      },
      "execution_count": 34,
      "outputs": [
        {
          "output_type": "execute_result",
          "data": {
            "text/plain": [
              "(<tf.Tensor: shape=(8,), dtype=float32, numpy=array([-7., -4., -1.,  2.,  5.,  8., 11., 14.], dtype=float32)>,\n",
              " <tf.Tensor: shape=(8,), dtype=float32, numpy=array([ 3.,  6.,  9., 12., 15., 18., 21., 24.], dtype=float32)>)"
            ]
          },
          "metadata": {},
          "execution_count": 34
        }
      ]
    },
    {
      "cell_type": "code",
      "source": [
        "X.ndim"
      ],
      "metadata": {
        "colab": {
          "base_uri": "https://localhost:8080/"
        },
        "id": "gADaM4xT3Ml5",
        "outputId": "3c4ff323-bbef-4859-afd6-1b38500896c2"
      },
      "execution_count": 35,
      "outputs": [
        {
          "output_type": "execute_result",
          "data": {
            "text/plain": [
              "1"
            ]
          },
          "metadata": {},
          "execution_count": 35
        }
      ]
    },
    {
      "cell_type": "code",
      "source": [
        "X.shape"
      ],
      "metadata": {
        "colab": {
          "base_uri": "https://localhost:8080/"
        },
        "id": "wTH6BAzM3QjB",
        "outputId": "ecfb6a40-91a5-40b1-eaa7-fa6a56d2f46d"
      },
      "execution_count": 36,
      "outputs": [
        {
          "output_type": "execute_result",
          "data": {
            "text/plain": [
              "TensorShape([8])"
            ]
          },
          "metadata": {},
          "execution_count": 36
        }
      ]
    },
    {
      "cell_type": "code",
      "source": [
        "tf.expand_dims(X, axis=1).shape"
      ],
      "metadata": {
        "colab": {
          "base_uri": "https://localhost:8080/"
        },
        "id": "oFb0xkY13J9D",
        "outputId": "82b7f810-4f4c-4ef2-f7ef-db3892cbea74"
      },
      "execution_count": 37,
      "outputs": [
        {
          "output_type": "execute_result",
          "data": {
            "text/plain": [
              "TensorShape([8, 1])"
            ]
          },
          "metadata": {},
          "execution_count": 37
        }
      ]
    },
    {
      "cell_type": "code",
      "source": [
        "tf.expand_dims(X, axis=-1).shape"
      ],
      "metadata": {
        "colab": {
          "base_uri": "https://localhost:8080/"
        },
        "id": "Z-vriu3k4MIW",
        "outputId": "27b53d01-d18c-41b7-fe0c-3466d2be0e57"
      },
      "execution_count": 38,
      "outputs": [
        {
          "output_type": "execute_result",
          "data": {
            "text/plain": [
              "TensorShape([8, 1])"
            ]
          },
          "metadata": {},
          "execution_count": 38
        }
      ]
    },
    {
      "cell_type": "markdown",
      "source": [
        "<br>"
      ],
      "metadata": {
        "id": "Ec1Mpw__2Edo"
      }
    },
    {
      "cell_type": "markdown",
      "source": [
        "<h3>Creating our first NN regression model</h3>"
      ],
      "metadata": {
        "id": "K1TNoA_52Ele"
      }
    },
    {
      "cell_type": "code",
      "source": [
        "# Set a random seed\n",
        "tf.random.set_seed(42)\n",
        "\n",
        "# 1. Create a model using the Sequential API\n",
        "model = tf.keras.Sequential([\n",
        "    tf.keras.layers.Dense(1)\n",
        "])\n",
        "\n",
        "# 2. Compile the model\n",
        "model.compile(loss=tf.keras.losses.mae,\n",
        "              optimizer=tf.keras.optimizers.SGD(),\n",
        "              metrics=['mae'])\n",
        "\n",
        "# 3. Fit the model\n",
        "model.fit(tf.expand_dims(X, axis=1), y, epochs=5)"
      ],
      "metadata": {
        "colab": {
          "base_uri": "https://localhost:8080/"
        },
        "id": "uVTVADJqzh8w",
        "outputId": "0b178981-883a-4cc6-ebc0-7a3c68d6c7cb"
      },
      "execution_count": 40,
      "outputs": [
        {
          "output_type": "stream",
          "name": "stdout",
          "text": [
            "Epoch 1/5\n",
            "1/1 [==============================] - 0s 379ms/step - loss: 10.1379 - mae: 10.1379\n",
            "Epoch 2/5\n",
            "1/1 [==============================] - 0s 14ms/step - loss: 10.0054 - mae: 10.0054\n",
            "Epoch 3/5\n",
            "1/1 [==============================] - 0s 13ms/step - loss: 9.8729 - mae: 9.8729\n",
            "Epoch 4/5\n",
            "1/1 [==============================] - 0s 15ms/step - loss: 9.7404 - mae: 9.7404\n",
            "Epoch 5/5\n",
            "1/1 [==============================] - 0s 16ms/step - loss: 9.6079 - mae: 9.6079\n"
          ]
        },
        {
          "output_type": "execute_result",
          "data": {
            "text/plain": [
              "<keras.src.callbacks.History at 0x7c54495c7520>"
            ]
          },
          "metadata": {},
          "execution_count": 40
        }
      ]
    },
    {
      "cell_type": "markdown",
      "source": [
        "* When first running the tf model, I got the following error: \"Input 0 of layer \"dense\" is incompatible with the layer: expected min_ndim=2, found ndim=1. Full shape received: (None,)\"\n",
        "* This is because X has shape (8,), which corresponds to ndim=1.\n",
        "* As the error message is saying, the minimum amount of dimensions that the input vector/matrix has to have is 2 (min_ndim=2).\n",
        "* This means that if you're training your NN using only one feature, you need to reshape it to have two dimensions.\n",
        "* This can be done with: tf.expand_dims(X, axis=1).\n",
        "* The axis argument tells along which dimension the dimension expansion should be performed."
      ],
      "metadata": {
        "id": "NpiavfLv3fyF"
      }
    },
    {
      "cell_type": "markdown",
      "source": [
        "* Notice how on each epoch (an epoch in machine learning means one complete pass of the training dataset through the algorithm) the MAE (loss function) gets smaller."
      ],
      "metadata": {
        "id": "_FKjILyJ50ra"
      }
    },
    {
      "cell_type": "markdown",
      "source": [
        "* Note that currently this model has no hidden layers (it only has an input layer and an output layer).\n",
        "* If no activation function is added to the output layer *tf.keras.layers.Dense(1)*, then on default, the activation function is *None*, which means that the output layer will use a linear activation function (the output will be a linear combination of the input features plus a bias term)."
      ],
      "metadata": {
        "id": "RFCQyflgP4Xj"
      }
    },
    {
      "cell_type": "code",
      "source": [
        "# Make a prediction x=17 with our model.\n",
        "# Since the relationship between X and y is that yi=Xi+10,\n",
        "# then ideally, the predicted value for y, given x=17,\n",
        "# should be 17+10=27.\n",
        "model.predict([17.0])"
      ],
      "metadata": {
        "colab": {
          "base_uri": "https://localhost:8080/"
        },
        "id": "0gmv4M4UziBN",
        "outputId": "e725c7fb-09a1-42d1-cb51-d3aaa389f44a"
      },
      "execution_count": 43,
      "outputs": [
        {
          "output_type": "stream",
          "name": "stdout",
          "text": [
            "1/1 [==============================] - 0s 43ms/step\n"
          ]
        },
        {
          "output_type": "execute_result",
          "data": {
            "text/plain": [
              "array([[19.35502]], dtype=float32)"
            ]
          },
          "metadata": {},
          "execution_count": 43
        }
      ]
    },
    {
      "cell_type": "markdown",
      "source": [
        "* Not a good prediction, but notice that on the last training round (Epoch 5/5), the MAE is 9.6079.\n",
        "* This means that, on average, the prediction is off by 9.6079."
      ],
      "metadata": {
        "id": "ZPDTXa3cGDXK"
      }
    },
    {
      "cell_type": "code",
      "source": [
        "model.predict([17.0]) + 9.6079"
      ],
      "metadata": {
        "colab": {
          "base_uri": "https://localhost:8080/"
        },
        "id": "MGsH2TGDGNAq",
        "outputId": "a938b453-40ad-4886-87ca-25314fccd06b"
      },
      "execution_count": 45,
      "outputs": [
        {
          "output_type": "stream",
          "name": "stdout",
          "text": [
            "1/1 [==============================] - 0s 51ms/step\n"
          ]
        },
        {
          "output_type": "execute_result",
          "data": {
            "text/plain": [
              "array([[28.962921]], dtype=float32)"
            ]
          },
          "metadata": {},
          "execution_count": 45
        }
      ]
    },
    {
      "cell_type": "markdown",
      "source": [
        "* This is somewhat close to 27, as it should be."
      ],
      "metadata": {
        "id": "_gmKnmohGT3V"
      }
    },
    {
      "cell_type": "markdown",
      "source": [
        "<br>"
      ],
      "metadata": {
        "id": "sXBAJKDdGghg"
      }
    },
    {
      "cell_type": "markdown",
      "source": [
        "<h3>Improving our model</h3>"
      ],
      "metadata": {
        "id": "KifVIvY1GgpL"
      }
    },
    {
      "cell_type": "markdown",
      "source": [
        "Once again, the steps in modelling with TensorFlow:\n",
        "\n",
        "1. Construct or import a pretrained model relevant to your problem.\n",
        "\n",
        "2. Compile the model (prepare it to be used with the training data).\n",
        "  * Loss – how wrong your model's predictions are compared to the true labels (we want to minimize this).\n",
        "  * Optimizer – how your model should update its internal patterns to improve its predictions.\n",
        "  * Performance metrics – human interpretable values for how well your model is doing.\n",
        "\n",
        "3. Fit the model to the training data so it can discover patterns.\n",
        "  * Epochs – how many times the modell will go through all of the training examples.\n",
        "\n",
        "4. Evaluate the model on the test data (how reliable are our model's predictions?)."
      ],
      "metadata": {
        "id": "oujadEtTGkPj"
      }
    },
    {
      "cell_type": "markdown",
      "source": [
        "We can improve our model by altering the steps we took to create the model.\n",
        "\n",
        "1. **Creating the model** – here we might add more layers, increase the number of hidden units (neurons) within each of the hidden layers, change the activation function of each layer.\n",
        "\n",
        "2. **Compiling the model** – here we might change the optimization function or perhaps the *learning rate* of the optimization function.\n",
        "\n",
        "3. **Fitting the model** – here we might fit the model with more *epochs* (train the model with the training data with more iterations), or increase the amount of training data fed to the model."
      ],
      "metadata": {
        "id": "9KndUy4kJRSD"
      }
    },
    {
      "cell_type": "code",
      "source": [
        "# Let's rebuild our model with epochs=5 --> epochs=100\n",
        "\n",
        "# 1. Create the model\n",
        "model = tf.keras.Sequential([\n",
        "    tf.keras.layers.Dense(1)\n",
        "])\n",
        "\n",
        "# 2. Compile the model\n",
        "model.compile(loss=tf.keras.losses.mae,\n",
        "              optimizer=tf.keras.optimizers.SGD(),\n",
        "              metrics=['mae'])\n",
        "\n",
        "# 3. Fit the model\n",
        "model.fit(tf.expand_dims(X, axis=1), y, epochs=100)"
      ],
      "metadata": {
        "colab": {
          "base_uri": "https://localhost:8080/"
        },
        "id": "wdS74D9JLSEJ",
        "outputId": "121ee78c-1b2b-46bb-905a-1ad8662cab2f"
      },
      "execution_count": 48,
      "outputs": [
        {
          "output_type": "stream",
          "name": "stdout",
          "text": [
            "Epoch 1/100\n",
            "1/1 [==============================] - 1s 707ms/step - loss: 12.7327 - mae: 12.7327\n",
            "Epoch 2/100\n",
            "1/1 [==============================] - 0s 12ms/step - loss: 12.6002 - mae: 12.6002\n",
            "Epoch 3/100\n",
            "1/1 [==============================] - 0s 13ms/step - loss: 12.4677 - mae: 12.4677\n",
            "Epoch 4/100\n",
            "1/1 [==============================] - 0s 14ms/step - loss: 12.3352 - mae: 12.3352\n",
            "Epoch 5/100\n",
            "1/1 [==============================] - 0s 17ms/step - loss: 12.2027 - mae: 12.2027\n",
            "Epoch 6/100\n",
            "1/1 [==============================] - 0s 12ms/step - loss: 12.0702 - mae: 12.0702\n",
            "Epoch 7/100\n",
            "1/1 [==============================] - 0s 11ms/step - loss: 11.9377 - mae: 11.9377\n",
            "Epoch 8/100\n",
            "1/1 [==============================] - 0s 17ms/step - loss: 11.8052 - mae: 11.8052\n",
            "Epoch 9/100\n",
            "1/1 [==============================] - 0s 16ms/step - loss: 11.6727 - mae: 11.6727\n",
            "Epoch 10/100\n",
            "1/1 [==============================] - 0s 17ms/step - loss: 11.5402 - mae: 11.5402\n",
            "Epoch 11/100\n",
            "1/1 [==============================] - 0s 15ms/step - loss: 11.4077 - mae: 11.4077\n",
            "Epoch 12/100\n",
            "1/1 [==============================] - 0s 13ms/step - loss: 11.2752 - mae: 11.2752\n",
            "Epoch 13/100\n",
            "1/1 [==============================] - 0s 15ms/step - loss: 11.1427 - mae: 11.1427\n",
            "Epoch 14/100\n",
            "1/1 [==============================] - 0s 13ms/step - loss: 11.0102 - mae: 11.0102\n",
            "Epoch 15/100\n",
            "1/1 [==============================] - 0s 14ms/step - loss: 10.8777 - mae: 10.8777\n",
            "Epoch 16/100\n",
            "1/1 [==============================] - 0s 18ms/step - loss: 10.7452 - mae: 10.7452\n",
            "Epoch 17/100\n",
            "1/1 [==============================] - 0s 12ms/step - loss: 10.6127 - mae: 10.6127\n",
            "Epoch 18/100\n",
            "1/1 [==============================] - 0s 15ms/step - loss: 10.4802 - mae: 10.4802\n",
            "Epoch 19/100\n",
            "1/1 [==============================] - 0s 12ms/step - loss: 10.3477 - mae: 10.3477\n",
            "Epoch 20/100\n",
            "1/1 [==============================] - 0s 12ms/step - loss: 10.2152 - mae: 10.2152\n",
            "Epoch 21/100\n",
            "1/1 [==============================] - 0s 12ms/step - loss: 10.0827 - mae: 10.0827\n",
            "Epoch 22/100\n",
            "1/1 [==============================] - 0s 12ms/step - loss: 9.9502 - mae: 9.9502\n",
            "Epoch 23/100\n",
            "1/1 [==============================] - 0s 11ms/step - loss: 9.8177 - mae: 9.8177\n",
            "Epoch 24/100\n",
            "1/1 [==============================] - 0s 12ms/step - loss: 9.6852 - mae: 9.6852\n",
            "Epoch 25/100\n",
            "1/1 [==============================] - 0s 16ms/step - loss: 9.5527 - mae: 9.5527\n",
            "Epoch 26/100\n",
            "1/1 [==============================] - 0s 11ms/step - loss: 9.4202 - mae: 9.4202\n",
            "Epoch 27/100\n",
            "1/1 [==============================] - 0s 15ms/step - loss: 9.2877 - mae: 9.2877\n",
            "Epoch 28/100\n",
            "1/1 [==============================] - 0s 13ms/step - loss: 9.1552 - mae: 9.1552\n",
            "Epoch 29/100\n",
            "1/1 [==============================] - 0s 13ms/step - loss: 9.0227 - mae: 9.0227\n",
            "Epoch 30/100\n",
            "1/1 [==============================] - 0s 15ms/step - loss: 8.8902 - mae: 8.8902\n",
            "Epoch 31/100\n",
            "1/1 [==============================] - 0s 20ms/step - loss: 8.7577 - mae: 8.7577\n",
            "Epoch 32/100\n",
            "1/1 [==============================] - 0s 13ms/step - loss: 8.6252 - mae: 8.6252\n",
            "Epoch 33/100\n",
            "1/1 [==============================] - 0s 12ms/step - loss: 8.4927 - mae: 8.4927\n",
            "Epoch 34/100\n",
            "1/1 [==============================] - 0s 12ms/step - loss: 8.3602 - mae: 8.3602\n",
            "Epoch 35/100\n",
            "1/1 [==============================] - 0s 13ms/step - loss: 8.2277 - mae: 8.2277\n",
            "Epoch 36/100\n",
            "1/1 [==============================] - 0s 15ms/step - loss: 8.0952 - mae: 8.0952\n",
            "Epoch 37/100\n",
            "1/1 [==============================] - 0s 14ms/step - loss: 7.9627 - mae: 7.9627\n",
            "Epoch 38/100\n",
            "1/1 [==============================] - 0s 14ms/step - loss: 7.8302 - mae: 7.8302\n",
            "Epoch 39/100\n",
            "1/1 [==============================] - 0s 14ms/step - loss: 7.6977 - mae: 7.6977\n",
            "Epoch 40/100\n",
            "1/1 [==============================] - 0s 14ms/step - loss: 7.5652 - mae: 7.5652\n",
            "Epoch 41/100\n",
            "1/1 [==============================] - 0s 16ms/step - loss: 7.4327 - mae: 7.4327\n",
            "Epoch 42/100\n",
            "1/1 [==============================] - 0s 15ms/step - loss: 7.3002 - mae: 7.3002\n",
            "Epoch 43/100\n",
            "1/1 [==============================] - 0s 11ms/step - loss: 7.1850 - mae: 7.1850\n",
            "Epoch 44/100\n",
            "1/1 [==============================] - 0s 11ms/step - loss: 7.1794 - mae: 7.1794\n",
            "Epoch 45/100\n",
            "1/1 [==============================] - 0s 11ms/step - loss: 7.1737 - mae: 7.1737\n",
            "Epoch 46/100\n",
            "1/1 [==============================] - 0s 13ms/step - loss: 7.1681 - mae: 7.1681\n",
            "Epoch 47/100\n",
            "1/1 [==============================] - 0s 11ms/step - loss: 7.1625 - mae: 7.1625\n",
            "Epoch 48/100\n",
            "1/1 [==============================] - 0s 12ms/step - loss: 7.1569 - mae: 7.1569\n",
            "Epoch 49/100\n",
            "1/1 [==============================] - 0s 11ms/step - loss: 7.1512 - mae: 7.1512\n",
            "Epoch 50/100\n",
            "1/1 [==============================] - 0s 11ms/step - loss: 7.1456 - mae: 7.1456\n",
            "Epoch 51/100\n",
            "1/1 [==============================] - 0s 13ms/step - loss: 7.1400 - mae: 7.1400\n",
            "Epoch 52/100\n",
            "1/1 [==============================] - 0s 11ms/step - loss: 7.1344 - mae: 7.1344\n",
            "Epoch 53/100\n",
            "1/1 [==============================] - 0s 12ms/step - loss: 7.1287 - mae: 7.1287\n",
            "Epoch 54/100\n",
            "1/1 [==============================] - 0s 11ms/step - loss: 7.1231 - mae: 7.1231\n",
            "Epoch 55/100\n",
            "1/1 [==============================] - 0s 12ms/step - loss: 7.1175 - mae: 7.1175\n",
            "Epoch 56/100\n",
            "1/1 [==============================] - 0s 11ms/step - loss: 7.1119 - mae: 7.1119\n",
            "Epoch 57/100\n",
            "1/1 [==============================] - 0s 12ms/step - loss: 7.1063 - mae: 7.1063\n",
            "Epoch 58/100\n",
            "1/1 [==============================] - 0s 19ms/step - loss: 7.1006 - mae: 7.1006\n",
            "Epoch 59/100\n",
            "1/1 [==============================] - 0s 13ms/step - loss: 7.0950 - mae: 7.0950\n",
            "Epoch 60/100\n",
            "1/1 [==============================] - 0s 13ms/step - loss: 7.0894 - mae: 7.0894\n",
            "Epoch 61/100\n",
            "1/1 [==============================] - 0s 12ms/step - loss: 7.0838 - mae: 7.0838\n",
            "Epoch 62/100\n",
            "1/1 [==============================] - 0s 19ms/step - loss: 7.0781 - mae: 7.0781\n",
            "Epoch 63/100\n",
            "1/1 [==============================] - 0s 14ms/step - loss: 7.0725 - mae: 7.0725\n",
            "Epoch 64/100\n",
            "1/1 [==============================] - 0s 15ms/step - loss: 7.0669 - mae: 7.0669\n",
            "Epoch 65/100\n",
            "1/1 [==============================] - 0s 12ms/step - loss: 7.0612 - mae: 7.0612\n",
            "Epoch 66/100\n",
            "1/1 [==============================] - 0s 11ms/step - loss: 7.0556 - mae: 7.0556\n",
            "Epoch 67/100\n",
            "1/1 [==============================] - 0s 11ms/step - loss: 7.0500 - mae: 7.0500\n",
            "Epoch 68/100\n",
            "1/1 [==============================] - 0s 11ms/step - loss: 7.0444 - mae: 7.0444\n",
            "Epoch 69/100\n",
            "1/1 [==============================] - 0s 11ms/step - loss: 7.0388 - mae: 7.0388\n",
            "Epoch 70/100\n",
            "1/1 [==============================] - 0s 11ms/step - loss: 7.0331 - mae: 7.0331\n",
            "Epoch 71/100\n",
            "1/1 [==============================] - 0s 11ms/step - loss: 7.0275 - mae: 7.0275\n",
            "Epoch 72/100\n",
            "1/1 [==============================] - 0s 12ms/step - loss: 7.0219 - mae: 7.0219\n",
            "Epoch 73/100\n",
            "1/1 [==============================] - 0s 12ms/step - loss: 7.0163 - mae: 7.0163\n",
            "Epoch 74/100\n",
            "1/1 [==============================] - 0s 13ms/step - loss: 7.0106 - mae: 7.0106\n",
            "Epoch 75/100\n",
            "1/1 [==============================] - 0s 15ms/step - loss: 7.0050 - mae: 7.0050\n",
            "Epoch 76/100\n",
            "1/1 [==============================] - 0s 14ms/step - loss: 6.9994 - mae: 6.9994\n",
            "Epoch 77/100\n",
            "1/1 [==============================] - 0s 12ms/step - loss: 6.9938 - mae: 6.9938\n",
            "Epoch 78/100\n",
            "1/1 [==============================] - 0s 10ms/step - loss: 6.9881 - mae: 6.9881\n",
            "Epoch 79/100\n",
            "1/1 [==============================] - 0s 11ms/step - loss: 6.9825 - mae: 6.9825\n",
            "Epoch 80/100\n",
            "1/1 [==============================] - 0s 16ms/step - loss: 6.9769 - mae: 6.9769\n",
            "Epoch 81/100\n",
            "1/1 [==============================] - 0s 13ms/step - loss: 6.9713 - mae: 6.9713\n",
            "Epoch 82/100\n",
            "1/1 [==============================] - 0s 12ms/step - loss: 6.9656 - mae: 6.9656\n",
            "Epoch 83/100\n",
            "1/1 [==============================] - 0s 18ms/step - loss: 6.9600 - mae: 6.9600\n",
            "Epoch 84/100\n",
            "1/1 [==============================] - 0s 17ms/step - loss: 6.9544 - mae: 6.9544\n",
            "Epoch 85/100\n",
            "1/1 [==============================] - 0s 17ms/step - loss: 6.9488 - mae: 6.9488\n",
            "Epoch 86/100\n",
            "1/1 [==============================] - 0s 17ms/step - loss: 6.9431 - mae: 6.9431\n",
            "Epoch 87/100\n",
            "1/1 [==============================] - 0s 17ms/step - loss: 6.9375 - mae: 6.9375\n",
            "Epoch 88/100\n",
            "1/1 [==============================] - 0s 16ms/step - loss: 6.9319 - mae: 6.9319\n",
            "Epoch 89/100\n",
            "1/1 [==============================] - 0s 19ms/step - loss: 6.9263 - mae: 6.9263\n",
            "Epoch 90/100\n",
            "1/1 [==============================] - 0s 15ms/step - loss: 6.9206 - mae: 6.9206\n",
            "Epoch 91/100\n",
            "1/1 [==============================] - 0s 20ms/step - loss: 6.9150 - mae: 6.9150\n",
            "Epoch 92/100\n",
            "1/1 [==============================] - 0s 13ms/step - loss: 6.9094 - mae: 6.9094\n",
            "Epoch 93/100\n",
            "1/1 [==============================] - 0s 18ms/step - loss: 6.9038 - mae: 6.9038\n",
            "Epoch 94/100\n",
            "1/1 [==============================] - 0s 14ms/step - loss: 6.8981 - mae: 6.8981\n",
            "Epoch 95/100\n",
            "1/1 [==============================] - 0s 13ms/step - loss: 6.8925 - mae: 6.8925\n",
            "Epoch 96/100\n",
            "1/1 [==============================] - 0s 15ms/step - loss: 6.8869 - mae: 6.8869\n",
            "Epoch 97/100\n",
            "1/1 [==============================] - 0s 14ms/step - loss: 6.8813 - mae: 6.8813\n",
            "Epoch 98/100\n",
            "1/1 [==============================] - 0s 15ms/step - loss: 6.8756 - mae: 6.8756\n",
            "Epoch 99/100\n",
            "1/1 [==============================] - 0s 13ms/step - loss: 6.8700 - mae: 6.8700\n",
            "Epoch 100/100\n",
            "1/1 [==============================] - 0s 12ms/step - loss: 6.8644 - mae: 6.8644\n"
          ]
        },
        {
          "output_type": "execute_result",
          "data": {
            "text/plain": [
              "<keras.src.callbacks.History at 0x7c5449581c00>"
            ]
          },
          "metadata": {},
          "execution_count": 48
        }
      ]
    },
    {
      "cell_type": "markdown",
      "source": [
        "* Notice how the loss function (mae) gets smaller with each epoch.\n",
        "* It is also worth noting that when we trained this exact same model with epochs=5, our mae was 9.6079.\n",
        "* When we increase epochs from 5 to 100, the MAE decreased from 9.6079 $\\, \\boldsymbol{\\rightarrow} \\,$ 6.8644."
      ],
      "metadata": {
        "id": "sRGj0548MYew"
      }
    },
    {
      "cell_type": "code",
      "source": [
        "# Again, let's make a prediction with x=17.\n",
        "# Since the relationship between X and y is yi=Xi+10,\n",
        "# then ideally, the predicted value for y, given x=17, should be 17+10=27.\n",
        "# Since on Epoch 100/100 mae=6.8644, the predicted value for y\n",
        "# is off by 6.8644, on average.\n",
        "# This means that we can expect our predicted value to be in range [27 - 6.86, 27 + 6.86].\n",
        "model.predict([17.0])"
      ],
      "metadata": {
        "colab": {
          "base_uri": "https://localhost:8080/"
        },
        "id": "hYoPvJmWMcc0",
        "outputId": "5ebfbc75-dd78-4e15-808c-2b36d7dbd3c4"
      },
      "execution_count": 49,
      "outputs": [
        {
          "output_type": "stream",
          "name": "stdout",
          "text": [
            "1/1 [==============================] - 0s 227ms/step\n"
          ]
        },
        {
          "output_type": "execute_result",
          "data": {
            "text/plain": [
              "array([[29.571836]], dtype=float32)"
            ]
          },
          "metadata": {},
          "execution_count": 49
        }
      ]
    },
    {
      "cell_type": "markdown",
      "source": [
        "Let's change the model such that we add hidden layers with activation functions to it\n",
        "* Fully connected layers: A *Dense* layer is a fully connected layer where each neuron receives input from all neurons of the previous layer.\n",
        "* This property is useful for both hidden layers and output layers."
      ],
      "metadata": {
        "id": "YwOaXHLrQp1s"
      }
    },
    {
      "cell_type": "code",
      "source": [
        "model = tf.keras.Sequential([\n",
        "\n",
        "    # Hidden layers\n",
        "    tf.keras.layers.Dense(100, activation='relu'),\n",
        "    tf.keras.layers.Dense(100, activation='relu'),\n",
        "    tf.keras.layers.Dense(100, activation='relu'),\n",
        "\n",
        "    # Output layer\n",
        "    tf.keras.layers.Dense(1)\n",
        "])\n",
        "\n",
        "model.compile(loss=tf.keras.losses.mae,\n",
        "              optimizer=tf.keras.optimizers.SGD(),\n",
        "              metrics=['mae'])\n",
        "\n",
        "model.fit(tf.expand_dims(X, axis=1), y, epochs=100)"
      ],
      "metadata": {
        "colab": {
          "base_uri": "https://localhost:8080/"
        },
        "id": "zsDrROmqQu87",
        "outputId": "90e8153c-f869-4e14-b8d5-1e6a6defff4d"
      },
      "execution_count": 50,
      "outputs": [
        {
          "output_type": "stream",
          "name": "stdout",
          "text": [
            "Epoch 1/100\n",
            "1/1 [==============================] - 1s 1s/step - loss: 13.4845 - mae: 13.4845\n",
            "Epoch 2/100\n",
            "1/1 [==============================] - 0s 15ms/step - loss: 13.0659 - mae: 13.0659\n",
            "Epoch 3/100\n",
            "1/1 [==============================] - 0s 13ms/step - loss: 12.6613 - mae: 12.6613\n",
            "Epoch 4/100\n",
            "1/1 [==============================] - 0s 17ms/step - loss: 12.2651 - mae: 12.2651\n",
            "Epoch 5/100\n",
            "1/1 [==============================] - 0s 17ms/step - loss: 11.8425 - mae: 11.8425\n",
            "Epoch 6/100\n",
            "1/1 [==============================] - 0s 17ms/step - loss: 11.3559 - mae: 11.3559\n",
            "Epoch 7/100\n",
            "1/1 [==============================] - 0s 15ms/step - loss: 10.7842 - mae: 10.7842\n",
            "Epoch 8/100\n",
            "1/1 [==============================] - 0s 13ms/step - loss: 10.0904 - mae: 10.0904\n",
            "Epoch 9/100\n",
            "1/1 [==============================] - 0s 16ms/step - loss: 9.2146 - mae: 9.2146\n",
            "Epoch 10/100\n",
            "1/1 [==============================] - 0s 14ms/step - loss: 8.0783 - mae: 8.0783\n",
            "Epoch 11/100\n",
            "1/1 [==============================] - 0s 17ms/step - loss: 6.6345 - mae: 6.6345\n",
            "Epoch 12/100\n",
            "1/1 [==============================] - 0s 20ms/step - loss: 4.8063 - mae: 4.8063\n",
            "Epoch 13/100\n",
            "1/1 [==============================] - 0s 18ms/step - loss: 4.1490 - mae: 4.1490\n",
            "Epoch 14/100\n",
            "1/1 [==============================] - 0s 18ms/step - loss: 3.9261 - mae: 3.9261\n",
            "Epoch 15/100\n",
            "1/1 [==============================] - 0s 15ms/step - loss: 4.0521 - mae: 4.0521\n",
            "Epoch 16/100\n",
            "1/1 [==============================] - 0s 14ms/step - loss: 3.9372 - mae: 3.9372\n",
            "Epoch 17/100\n",
            "1/1 [==============================] - 0s 14ms/step - loss: 4.0066 - mae: 4.0066\n",
            "Epoch 18/100\n",
            "1/1 [==============================] - 0s 14ms/step - loss: 3.9499 - mae: 3.9499\n",
            "Epoch 19/100\n",
            "1/1 [==============================] - 0s 13ms/step - loss: 3.9592 - mae: 3.9592\n",
            "Epoch 20/100\n",
            "1/1 [==============================] - 0s 16ms/step - loss: 3.9635 - mae: 3.9635\n",
            "Epoch 21/100\n",
            "1/1 [==============================] - 0s 13ms/step - loss: 3.9109 - mae: 3.9109\n",
            "Epoch 22/100\n",
            "1/1 [==============================] - 0s 14ms/step - loss: 3.9782 - mae: 3.9782\n",
            "Epoch 23/100\n",
            "1/1 [==============================] - 0s 19ms/step - loss: 3.8609 - mae: 3.8609\n",
            "Epoch 24/100\n",
            "1/1 [==============================] - 0s 14ms/step - loss: 3.9940 - mae: 3.9940\n",
            "Epoch 25/100\n",
            "1/1 [==============================] - 0s 14ms/step - loss: 3.8096 - mae: 3.8096\n",
            "Epoch 26/100\n",
            "1/1 [==============================] - 0s 13ms/step - loss: 4.0105 - mae: 4.0105\n",
            "Epoch 27/100\n",
            "1/1 [==============================] - 0s 15ms/step - loss: 3.7986 - mae: 3.7986\n",
            "Epoch 28/100\n",
            "1/1 [==============================] - 0s 14ms/step - loss: 3.9732 - mae: 3.9732\n",
            "Epoch 29/100\n",
            "1/1 [==============================] - 0s 17ms/step - loss: 3.8160 - mae: 3.8160\n",
            "Epoch 30/100\n",
            "1/1 [==============================] - 0s 16ms/step - loss: 3.9207 - mae: 3.9207\n",
            "Epoch 31/100\n",
            "1/1 [==============================] - 0s 15ms/step - loss: 3.8344 - mae: 3.8344\n",
            "Epoch 32/100\n",
            "1/1 [==============================] - 0s 14ms/step - loss: 3.8669 - mae: 3.8669\n",
            "Epoch 33/100\n",
            "1/1 [==============================] - 0s 15ms/step - loss: 3.8537 - mae: 3.8537\n",
            "Epoch 34/100\n",
            "1/1 [==============================] - 0s 14ms/step - loss: 3.8112 - mae: 3.8112\n",
            "Epoch 35/100\n",
            "1/1 [==============================] - 0s 14ms/step - loss: 3.8747 - mae: 3.8747\n",
            "Epoch 36/100\n",
            "1/1 [==============================] - 0s 14ms/step - loss: 3.7542 - mae: 3.7542\n",
            "Epoch 37/100\n",
            "1/1 [==============================] - 0s 14ms/step - loss: 3.8967 - mae: 3.8967\n",
            "Epoch 38/100\n",
            "1/1 [==============================] - 0s 13ms/step - loss: 3.6951 - mae: 3.6951\n",
            "Epoch 39/100\n",
            "1/1 [==============================] - 0s 16ms/step - loss: 3.9194 - mae: 3.9194\n",
            "Epoch 40/100\n",
            "1/1 [==============================] - 0s 15ms/step - loss: 3.7126 - mae: 3.7126\n",
            "Epoch 41/100\n",
            "1/1 [==============================] - 0s 13ms/step - loss: 3.8509 - mae: 3.8509\n",
            "Epoch 42/100\n",
            "1/1 [==============================] - 0s 18ms/step - loss: 3.7347 - mae: 3.7347\n",
            "Epoch 43/100\n",
            "1/1 [==============================] - 0s 16ms/step - loss: 3.7925 - mae: 3.7925\n",
            "Epoch 44/100\n",
            "1/1 [==============================] - 0s 17ms/step - loss: 3.7958 - mae: 3.7958\n",
            "Epoch 45/100\n",
            "1/1 [==============================] - 0s 16ms/step - loss: 3.7003 - mae: 3.7003\n",
            "Epoch 46/100\n",
            "1/1 [==============================] - 0s 13ms/step - loss: 3.8206 - mae: 3.8206\n",
            "Epoch 47/100\n",
            "1/1 [==============================] - 0s 13ms/step - loss: 3.6397 - mae: 3.6397\n",
            "Epoch 48/100\n",
            "1/1 [==============================] - 0s 15ms/step - loss: 3.8452 - mae: 3.8452\n",
            "Epoch 49/100\n",
            "1/1 [==============================] - 0s 14ms/step - loss: 3.6408 - mae: 3.6408\n",
            "Epoch 50/100\n",
            "1/1 [==============================] - 0s 14ms/step - loss: 3.7913 - mae: 3.7913\n",
            "Epoch 51/100\n",
            "1/1 [==============================] - 0s 14ms/step - loss: 3.6669 - mae: 3.6669\n",
            "Epoch 52/100\n",
            "1/1 [==============================] - 0s 21ms/step - loss: 3.7259 - mae: 3.7259\n",
            "Epoch 53/100\n",
            "1/1 [==============================] - 0s 14ms/step - loss: 3.6940 - mae: 3.6940\n",
            "Epoch 54/100\n",
            "1/1 [==============================] - 0s 13ms/step - loss: 3.6577 - mae: 3.6577\n",
            "Epoch 55/100\n",
            "1/1 [==============================] - 0s 15ms/step - loss: 3.7222 - mae: 3.7222\n",
            "Epoch 56/100\n",
            "1/1 [==============================] - 0s 14ms/step - loss: 3.5869 - mae: 3.5869\n",
            "Epoch 57/100\n",
            "1/1 [==============================] - 0s 15ms/step - loss: 3.7531 - mae: 3.7531\n",
            "Epoch 58/100\n",
            "1/1 [==============================] - 0s 16ms/step - loss: 3.5582 - mae: 3.5582\n",
            "Epoch 59/100\n",
            "1/1 [==============================] - 0s 13ms/step - loss: 3.6990 - mae: 3.6990\n",
            "Epoch 60/100\n",
            "1/1 [==============================] - 0s 14ms/step - loss: 3.6217 - mae: 3.6217\n",
            "Epoch 61/100\n",
            "1/1 [==============================] - 0s 13ms/step - loss: 3.6267 - mae: 3.6267\n",
            "Epoch 62/100\n",
            "1/1 [==============================] - 0s 13ms/step - loss: 3.6514 - mae: 3.6514\n",
            "Epoch 63/100\n",
            "1/1 [==============================] - 0s 19ms/step - loss: 3.5522 - mae: 3.5522\n",
            "Epoch 64/100\n",
            "1/1 [==============================] - 0s 15ms/step - loss: 3.6836 - mae: 3.6836\n",
            "Epoch 65/100\n",
            "1/1 [==============================] - 0s 22ms/step - loss: 3.4920 - mae: 3.4920\n",
            "Epoch 66/100\n",
            "1/1 [==============================] - 0s 15ms/step - loss: 3.6927 - mae: 3.6927\n",
            "Epoch 67/100\n",
            "1/1 [==============================] - 0s 16ms/step - loss: 3.5581 - mae: 3.5581\n",
            "Epoch 68/100\n",
            "1/1 [==============================] - 0s 16ms/step - loss: 3.5840 - mae: 3.5840\n",
            "Epoch 69/100\n",
            "1/1 [==============================] - 0s 19ms/step - loss: 3.5902 - mae: 3.5902\n",
            "Epoch 70/100\n",
            "1/1 [==============================] - 0s 16ms/step - loss: 3.5059 - mae: 3.5059\n",
            "Epoch 71/100\n",
            "1/1 [==============================] - 0s 18ms/step - loss: 3.6240 - mae: 3.6240\n",
            "Epoch 72/100\n",
            "1/1 [==============================] - 0s 19ms/step - loss: 3.4358 - mae: 3.4358\n",
            "Epoch 73/100\n",
            "1/1 [==============================] - 0s 16ms/step - loss: 3.6360 - mae: 3.6360\n",
            "Epoch 74/100\n",
            "1/1 [==============================] - 0s 17ms/step - loss: 3.4687 - mae: 3.4687\n",
            "Epoch 75/100\n",
            "1/1 [==============================] - 0s 14ms/step - loss: 3.5567 - mae: 3.5567\n",
            "Epoch 76/100\n",
            "1/1 [==============================] - 0s 14ms/step - loss: 3.5032 - mae: 3.5032\n",
            "Epoch 77/100\n",
            "1/1 [==============================] - 0s 13ms/step - loss: 3.4749 - mae: 3.4749\n",
            "Epoch 78/100\n",
            "1/1 [==============================] - 0s 18ms/step - loss: 3.5395 - mae: 3.5395\n",
            "Epoch 79/100\n",
            "1/1 [==============================] - 0s 14ms/step - loss: 3.3910 - mae: 3.3910\n",
            "Epoch 80/100\n",
            "1/1 [==============================] - 0s 12ms/step - loss: 3.5768 - mae: 3.5768\n",
            "Epoch 81/100\n",
            "1/1 [==============================] - 0s 13ms/step - loss: 3.3886 - mae: 3.3886\n",
            "Epoch 82/100\n",
            "1/1 [==============================] - 0s 12ms/step - loss: 3.5335 - mae: 3.5335\n",
            "Epoch 83/100\n",
            "1/1 [==============================] - 0s 12ms/step - loss: 3.4583 - mae: 3.4583\n",
            "Epoch 84/100\n",
            "1/1 [==============================] - 0s 12ms/step - loss: 3.4024 - mae: 3.4024\n",
            "Epoch 85/100\n",
            "1/1 [==============================] - 0s 12ms/step - loss: 3.4960 - mae: 3.4960\n",
            "Epoch 86/100\n",
            "1/1 [==============================] - 0s 13ms/step - loss: 3.3157 - mae: 3.3157\n",
            "Epoch 87/100\n",
            "1/1 [==============================] - 0s 14ms/step - loss: 3.5194 - mae: 3.5194\n",
            "Epoch 88/100\n",
            "1/1 [==============================] - 0s 14ms/step - loss: 3.3524 - mae: 3.3524\n",
            "Epoch 89/100\n",
            "1/1 [==============================] - 0s 13ms/step - loss: 3.4310 - mae: 3.4310\n",
            "Epoch 90/100\n",
            "1/1 [==============================] - 0s 14ms/step - loss: 3.3910 - mae: 3.3910\n",
            "Epoch 91/100\n",
            "1/1 [==============================] - 0s 13ms/step - loss: 3.3390 - mae: 3.3390\n",
            "Epoch 92/100\n",
            "1/1 [==============================] - 0s 14ms/step - loss: 3.4316 - mae: 3.4316\n",
            "Epoch 93/100\n",
            "1/1 [==============================] - 0s 11ms/step - loss: 3.2533 - mae: 3.2533\n",
            "Epoch 94/100\n",
            "1/1 [==============================] - 0s 11ms/step - loss: 3.4605 - mae: 3.4605\n",
            "Epoch 95/100\n",
            "1/1 [==============================] - 0s 11ms/step - loss: 3.3239 - mae: 3.3239\n",
            "Epoch 96/100\n",
            "1/1 [==============================] - 0s 10ms/step - loss: 3.3300 - mae: 3.3300\n",
            "Epoch 97/100\n",
            "1/1 [==============================] - 0s 11ms/step - loss: 3.3642 - mae: 3.3642\n",
            "Epoch 98/100\n",
            "1/1 [==============================] - 0s 10ms/step - loss: 3.2320 - mae: 3.2320\n",
            "Epoch 99/100\n",
            "1/1 [==============================] - 0s 14ms/step - loss: 3.4067 - mae: 3.4067\n",
            "Epoch 100/100\n",
            "1/1 [==============================] - 0s 14ms/step - loss: 3.2258 - mae: 3.2258\n"
          ]
        },
        {
          "output_type": "execute_result",
          "data": {
            "text/plain": [
              "<keras.src.callbacks.History at 0x7c544a167d90>"
            ]
          },
          "metadata": {},
          "execution_count": 50
        }
      ]
    },
    {
      "cell_type": "markdown",
      "source": [
        "* Notice when we added 3 hidden layers to the model, our loss function (mae) decrease from 6.8644 to 3.2258.\n",
        "* Crazy!!!! Cool!!!"
      ],
      "metadata": {
        "id": "eK3e_jPaSCwA"
      }
    },
    {
      "cell_type": "code",
      "source": [
        "# Again, predict with x=17\n",
        "model.predict([17.0])"
      ],
      "metadata": {
        "colab": {
          "base_uri": "https://localhost:8080/"
        },
        "id": "hc9VaXDqSSKd",
        "outputId": "94b19353-a7fe-4d60-ff72-e1e633045ad7"
      },
      "execution_count": 52,
      "outputs": [
        {
          "output_type": "stream",
          "name": "stdout",
          "text": [
            "1/1 [==============================] - 0s 40ms/step\n"
          ]
        },
        {
          "output_type": "execute_result",
          "data": {
            "text/plain": [
              "array([[29.528141]], dtype=float32)"
            ]
          },
          "metadata": {},
          "execution_count": 52
        }
      ]
    }
  ]
}